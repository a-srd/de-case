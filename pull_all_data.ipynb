{
 "cells": [
  {
   "cell_type": "markdown",
   "metadata": {},
   "source": [
    "### Pull all data for all trials in last 5 years"
   ]
  },
  {
   "cell_type": "code",
   "execution_count": 188,
   "metadata": {},
   "outputs": [
    {
     "data": {
      "text/html": [
       "<div>\n",
       "<style scoped>\n",
       "    .dataframe tbody tr th:only-of-type {\n",
       "        vertical-align: middle;\n",
       "    }\n",
       "\n",
       "    .dataframe tbody tr th {\n",
       "        vertical-align: top;\n",
       "    }\n",
       "\n",
       "    .dataframe thead th {\n",
       "        text-align: right;\n",
       "    }\n",
       "</style>\n",
       "<table border=\"1\" class=\"dataframe\">\n",
       "  <thead>\n",
       "    <tr style=\"text-align: right;\">\n",
       "      <th></th>\n",
       "      <th>NCT Number</th>\n",
       "      <th>Study Title</th>\n",
       "      <th>Study URL</th>\n",
       "      <th>Acronym</th>\n",
       "      <th>Study Status</th>\n",
       "      <th>Brief Summary</th>\n",
       "      <th>Study Results</th>\n",
       "      <th>Conditions</th>\n",
       "      <th>Interventions</th>\n",
       "      <th>Primary Outcome Measures</th>\n",
       "      <th>...</th>\n",
       "      <th>Study Design</th>\n",
       "      <th>Other IDs</th>\n",
       "      <th>Start Date</th>\n",
       "      <th>Primary Completion Date</th>\n",
       "      <th>Completion Date</th>\n",
       "      <th>First Posted</th>\n",
       "      <th>Results First Posted</th>\n",
       "      <th>Last Update Posted</th>\n",
       "      <th>Locations</th>\n",
       "      <th>Study Documents</th>\n",
       "    </tr>\n",
       "  </thead>\n",
       "  <tbody>\n",
       "    <tr>\n",
       "      <th>0</th>\n",
       "      <td>NCT06289062</td>\n",
       "      <td>Neoadjuvant Chemotherapy Plus Camrelizumab for...</td>\n",
       "      <td>https://clinicaltrials.gov/study/NCT06289062</td>\n",
       "      <td></td>\n",
       "      <td>NOT_YET_RECRUITING</td>\n",
       "      <td>This multicenter, prospective clinical trial i...</td>\n",
       "      <td>NO</td>\n",
       "      <td>Cervical Cancer|Neoadjuvant Chemoimmunotherapy...</td>\n",
       "      <td>DRUG: Camrelizumab|DRUG: Cisplatin|DRUG: Nab p...</td>\n",
       "      <td>Pathologic complete response, Proportion of pa...</td>\n",
       "      <td>...</td>\n",
       "      <td>Allocation: NA|Intervention Model: SINGLE_GROU...</td>\n",
       "      <td>NACI-CERV-005</td>\n",
       "      <td>2024-03-01</td>\n",
       "      <td>2025-12-01</td>\n",
       "      <td>2030-12-01</td>\n",
       "      <td>2024-03-01</td>\n",
       "      <td></td>\n",
       "      <td>2024-03-01</td>\n",
       "      <td>Tongji Hospital, Tongji Medical College, Huazh...</td>\n",
       "      <td></td>\n",
       "    </tr>\n",
       "    <tr>\n",
       "      <th>1</th>\n",
       "      <td>NCT03963362</td>\n",
       "      <td>The Pharmacokinetics of GLA5PR Tablet Accordin...</td>\n",
       "      <td>https://clinicaltrials.gov/study/NCT03963362</td>\n",
       "      <td></td>\n",
       "      <td>UNKNOWN</td>\n",
       "      <td>To evauate pharmacokinetics of GLA5PR tablet a...</td>\n",
       "      <td>NO</td>\n",
       "      <td>Neuropathic Pain</td>\n",
       "      <td>DRUG: GLA5PR tablet 75 mg|DRUG: GLA5PR tablet ...</td>\n",
       "      <td>The Cmax of Pregabalin, Cmax, Pre-dose, 1, 2, ...</td>\n",
       "      <td>...</td>\n",
       "      <td>Allocation: RANDOMIZED|Intervention Model: PAR...</td>\n",
       "      <td>GLA5PR-107</td>\n",
       "      <td>2019-09-17</td>\n",
       "      <td>2020-12-31</td>\n",
       "      <td>2021-06-30</td>\n",
       "      <td>2019-05-24</td>\n",
       "      <td></td>\n",
       "      <td>2020-07-23</td>\n",
       "      <td>Asan Medical Center, Seoul, Songpa-gu, 05505, ...</td>\n",
       "      <td></td>\n",
       "    </tr>\n",
       "    <tr>\n",
       "      <th>2</th>\n",
       "      <td>NCT05251662</td>\n",
       "      <td>Sintilimab Combined With GEMOX ± IBI305 (Bevac...</td>\n",
       "      <td>https://clinicaltrials.gov/study/NCT05251662</td>\n",
       "      <td></td>\n",
       "      <td>RECRUITING</td>\n",
       "      <td>A randomized controlled, phase II clinical tri...</td>\n",
       "      <td>NO</td>\n",
       "      <td>Intrahepatic Cholangiocarcinoma</td>\n",
       "      <td>DRUG: Sintilimab|DRUG: IBI305|DRUG: GEMOX</td>\n",
       "      <td>Overall response rate ( ORR), Overall response...</td>\n",
       "      <td>...</td>\n",
       "      <td>Allocation: RANDOMIZED|Intervention Model: PAR...</td>\n",
       "      <td>SGBICC</td>\n",
       "      <td>2022-01-13</td>\n",
       "      <td>2024-01-13</td>\n",
       "      <td>2025-01-13</td>\n",
       "      <td>2022-02-23</td>\n",
       "      <td></td>\n",
       "      <td>2022-02-23</td>\n",
       "      <td>Tianjin Medical University Cancer Institute &amp; ...</td>\n",
       "      <td></td>\n",
       "    </tr>\n",
       "    <tr>\n",
       "      <th>3</th>\n",
       "      <td>NCT04099862</td>\n",
       "      <td>Eus-giuded Biliary Drainage With Ec-lams vs ER...</td>\n",
       "      <td>https://clinicaltrials.gov/study/NCT04099862</td>\n",
       "      <td>EUS-BD</td>\n",
       "      <td>RECRUITING</td>\n",
       "      <td>Endoscopic retrograde cholangiopancreatography...</td>\n",
       "      <td>NO</td>\n",
       "      <td>DISTAL MALIGNANT BILIARY OBSTRUCTION</td>\n",
       "      <td>PROCEDURE: ERCP|PROCEDURE: EUS-BD</td>\n",
       "      <td>Rate of post-procedural acute pancreatitis, 6 ...</td>\n",
       "      <td>...</td>\n",
       "      <td>Observational Model: |Time Perspective: p</td>\n",
       "      <td>2339</td>\n",
       "      <td>2021-02-28</td>\n",
       "      <td>2023-12-31</td>\n",
       "      <td>2023-12-31</td>\n",
       "      <td>2019-09-23</td>\n",
       "      <td></td>\n",
       "      <td>2023-03-21</td>\n",
       "      <td>Endoscopy Unit, Humanitas Research Hospital, R...</td>\n",
       "      <td></td>\n",
       "    </tr>\n",
       "    <tr>\n",
       "      <th>4</th>\n",
       "      <td>NCT04908280</td>\n",
       "      <td>Study of Ruxolitinib Cream for the Treatment o...</td>\n",
       "      <td>https://clinicaltrials.gov/study/NCT04908280</td>\n",
       "      <td></td>\n",
       "      <td>COMPLETED</td>\n",
       "      <td>The purpose of this study is to assess the pot...</td>\n",
       "      <td>NO</td>\n",
       "      <td>Discoid Lupus Erythematosus</td>\n",
       "      <td>DRUG: Ruxolitinib</td>\n",
       "      <td>Mean change in the severity of disease as meas...</td>\n",
       "      <td>...</td>\n",
       "      <td>Allocation: NA|Intervention Model: SINGLE_GROU...</td>\n",
       "      <td>STUDY00006186</td>\n",
       "      <td>2022-05-04</td>\n",
       "      <td>2024-03-04</td>\n",
       "      <td>2024-03-04</td>\n",
       "      <td>2021-06-01</td>\n",
       "      <td></td>\n",
       "      <td>2024-03-25</td>\n",
       "      <td>UR Medicine Dermatology College Town, Rocheste...</td>\n",
       "      <td></td>\n",
       "    </tr>\n",
       "  </tbody>\n",
       "</table>\n",
       "<p>5 rows × 30 columns</p>\n",
       "</div>"
      ],
      "text/plain": [
       "    NCT Number                                        Study Title  \\\n",
       "0  NCT06289062  Neoadjuvant Chemotherapy Plus Camrelizumab for...   \n",
       "1  NCT03963362  The Pharmacokinetics of GLA5PR Tablet Accordin...   \n",
       "2  NCT05251662  Sintilimab Combined With GEMOX ± IBI305 (Bevac...   \n",
       "3  NCT04099862  Eus-giuded Biliary Drainage With Ec-lams vs ER...   \n",
       "4  NCT04908280  Study of Ruxolitinib Cream for the Treatment o...   \n",
       "\n",
       "                                      Study URL Acronym        Study Status  \\\n",
       "0  https://clinicaltrials.gov/study/NCT06289062          NOT_YET_RECRUITING   \n",
       "1  https://clinicaltrials.gov/study/NCT03963362                     UNKNOWN   \n",
       "2  https://clinicaltrials.gov/study/NCT05251662                  RECRUITING   \n",
       "3  https://clinicaltrials.gov/study/NCT04099862  EUS-BD          RECRUITING   \n",
       "4  https://clinicaltrials.gov/study/NCT04908280                   COMPLETED   \n",
       "\n",
       "                                       Brief Summary Study Results  \\\n",
       "0  This multicenter, prospective clinical trial i...            NO   \n",
       "1  To evauate pharmacokinetics of GLA5PR tablet a...            NO   \n",
       "2  A randomized controlled, phase II clinical tri...            NO   \n",
       "3  Endoscopic retrograde cholangiopancreatography...            NO   \n",
       "4  The purpose of this study is to assess the pot...            NO   \n",
       "\n",
       "                                          Conditions  \\\n",
       "0  Cervical Cancer|Neoadjuvant Chemoimmunotherapy...   \n",
       "1                                   Neuropathic Pain   \n",
       "2                    Intrahepatic Cholangiocarcinoma   \n",
       "3               DISTAL MALIGNANT BILIARY OBSTRUCTION   \n",
       "4                        Discoid Lupus Erythematosus   \n",
       "\n",
       "                                       Interventions  \\\n",
       "0  DRUG: Camrelizumab|DRUG: Cisplatin|DRUG: Nab p...   \n",
       "1  DRUG: GLA5PR tablet 75 mg|DRUG: GLA5PR tablet ...   \n",
       "2          DRUG: Sintilimab|DRUG: IBI305|DRUG: GEMOX   \n",
       "3                  PROCEDURE: ERCP|PROCEDURE: EUS-BD   \n",
       "4                                  DRUG: Ruxolitinib   \n",
       "\n",
       "                            Primary Outcome Measures  ...  \\\n",
       "0  Pathologic complete response, Proportion of pa...  ...   \n",
       "1  The Cmax of Pregabalin, Cmax, Pre-dose, 1, 2, ...  ...   \n",
       "2  Overall response rate ( ORR), Overall response...  ...   \n",
       "3  Rate of post-procedural acute pancreatitis, 6 ...  ...   \n",
       "4  Mean change in the severity of disease as meas...  ...   \n",
       "\n",
       "                                        Study Design      Other IDs  \\\n",
       "0  Allocation: NA|Intervention Model: SINGLE_GROU...  NACI-CERV-005   \n",
       "1  Allocation: RANDOMIZED|Intervention Model: PAR...     GLA5PR-107   \n",
       "2  Allocation: RANDOMIZED|Intervention Model: PAR...         SGBICC   \n",
       "3          Observational Model: |Time Perspective: p           2339   \n",
       "4  Allocation: NA|Intervention Model: SINGLE_GROU...  STUDY00006186   \n",
       "\n",
       "   Start Date Primary Completion Date Completion Date First Posted  \\\n",
       "0  2024-03-01              2025-12-01      2030-12-01   2024-03-01   \n",
       "1  2019-09-17              2020-12-31      2021-06-30   2019-05-24   \n",
       "2  2022-01-13              2024-01-13      2025-01-13   2022-02-23   \n",
       "3  2021-02-28              2023-12-31      2023-12-31   2019-09-23   \n",
       "4  2022-05-04              2024-03-04      2024-03-04   2021-06-01   \n",
       "\n",
       "  Results First Posted Last Update Posted  \\\n",
       "0                              2024-03-01   \n",
       "1                              2020-07-23   \n",
       "2                              2022-02-23   \n",
       "3                              2023-03-21   \n",
       "4                              2024-03-25   \n",
       "\n",
       "                                           Locations Study Documents  \n",
       "0  Tongji Hospital, Tongji Medical College, Huazh...                  \n",
       "1  Asan Medical Center, Seoul, Songpa-gu, 05505, ...                  \n",
       "2  Tianjin Medical University Cancer Institute & ...                  \n",
       "3  Endoscopy Unit, Humanitas Research Hospital, R...                  \n",
       "4  UR Medicine Dermatology College Town, Rocheste...                  \n",
       "\n",
       "[5 rows x 30 columns]"
      ]
     },
     "execution_count": 188,
     "metadata": {},
     "output_type": "execute_result"
    }
   ],
   "source": [
    "import pandas as pd\n",
    "from datetime import datetime, timedelta\n",
    "from src.api_client.client import ClinicalTrials\n",
    "\n",
    "ct = ClinicalTrials()\n",
    "\n",
    "# Calculate the start date (five years ago)\n",
    "start_date = (datetime.now() - timedelta(days=5*365)).strftime('%Y-%m-%d')\n",
    "\n",
    "today = datetime.now().strftime('%Y-%m-%d')\n",
    "\n",
    "last_five_years = ct.get_full_studies(search_expr=f\"AREA[StartDate]RANGE[{start_date}, {today}]\", max_studies=500000, fmt=\"csv\")\n",
    "\n",
    "df = pd.DataFrame.from_records(last_five_years[1:], columns=last_five_years[0])\n",
    "\n",
    "df.head()"
   ]
  },
  {
   "cell_type": "code",
   "execution_count": 2,
   "metadata": {},
   "outputs": [
    {
     "data": {
      "text/plain": [
       "Index(['NCT Number', 'Study Title', 'Study URL', 'Acronym', 'Study Status',\n",
       "       'Brief Summary', 'Study Results', 'Conditions', 'Interventions',\n",
       "       'Primary Outcome Measures', 'Secondary Outcome Measures',\n",
       "       'Other Outcome Measures', 'Sponsor', 'Collaborators', 'Sex', 'Age',\n",
       "       'Phases', 'Enrollment', 'Funder Type', 'Study Type', 'Study Design',\n",
       "       'Other IDs', 'Start Date', 'Primary Completion Date', 'Completion Date',\n",
       "       'First Posted', 'Results First Posted', 'Last Update Posted',\n",
       "       'Locations', 'Study Documents'],\n",
       "      dtype='object')"
      ]
     },
     "execution_count": 2,
     "metadata": {},
     "output_type": "execute_result"
    }
   ],
   "source": [
    "df.columns\n"
   ]
  },
  {
   "cell_type": "code",
   "execution_count": 3,
   "metadata": {},
   "outputs": [
    {
     "data": {
      "text/plain": [
       "array(['OTHER', 'INDUSTRY', 'FED', 'NETWORK', 'NIH', 'OTHER_GOV',\n",
       "       'UNKNOWN', 'INDIV'], dtype=object)"
      ]
     },
     "execution_count": 3,
     "metadata": {},
     "output_type": "execute_result"
    }
   ],
   "source": [
    "df[\"Funder Type\"].unique()"
   ]
  },
  {
   "cell_type": "code",
   "execution_count": 4,
   "metadata": {},
   "outputs": [
    {
     "data": {
      "text/plain": [
       "Phases\n",
       "NA               77612\n",
       "                 43825\n",
       "PHASE2           15359\n",
       "PHASE1           12005\n",
       "PHASE3            8324\n",
       "PHASE4            6911\n",
       "PHASE1|PHASE2     4643\n",
       "EARLY_PHASE1      2323\n",
       "PHASE2|PHASE3     1875\n",
       "Name: count, dtype: int64"
      ]
     },
     "execution_count": 4,
     "metadata": {},
     "output_type": "execute_result"
    }
   ],
   "source": [
    "df[\"Phases\"]\n",
    "# Count number of studies per phase\n",
    "df[\"Phases\"].value_counts()"
   ]
  },
  {
   "cell_type": "code",
   "execution_count": 5,
   "metadata": {},
   "outputs": [
    {
     "data": {
      "text/plain": [
       "Sponsor\n",
       "Assiut University                                                      2251\n",
       "Cairo University                                                       1976\n",
       "Assistance Publique - Hôpitaux de Paris                                1335\n",
       "Riphah International University                                        1194\n",
       "Mayo Clinic                                                             957\n",
       "Ain Shams University                                                    715\n",
       "Hospices Civils de Lyon                                                 662\n",
       "AstraZeneca                                                             646\n",
       "M.D. Anderson Cancer Center                                             637\n",
       "Sohag University                                                        636\n",
       "Pfizer                                                                  631\n",
       "Stanford University                                                     620\n",
       "Massachusetts General Hospital                                          613\n",
       "Chinese University of Hong Kong                                         610\n",
       "National Taiwan University Hospital                                     603\n",
       "Sun Yat-sen University                                                  565\n",
       "VA Office of Research and Development                                   548\n",
       "Johns Hopkins University                                                534\n",
       "Second Affiliated Hospital, School of Medicine, Zhejiang University     526\n",
       "Novartis Pharmaceuticals                                                523\n",
       "Name: count, dtype: int64"
      ]
     },
     "execution_count": 5,
     "metadata": {},
     "output_type": "execute_result"
    }
   ],
   "source": [
    "# Count the number of studies by sponsor and return the top 20\n",
    "df[\"Sponsor\"].value_counts().head(20)"
   ]
  },
  {
   "cell_type": "code",
   "execution_count": 6,
   "metadata": {},
   "outputs": [
    {
     "data": {
      "text/plain": [
       "Sponsor\n",
       "AstraZeneca                                         646\n",
       "Pfizer                                              631\n",
       "Novartis Pharmaceuticals                            523\n",
       "Eli Lilly and Company                               387\n",
       "Boehringer Ingelheim                                327\n",
       "AbbVie                                              302\n",
       "Bristol-Myers Squibb                                299\n",
       "Jiangsu HengRui Medicine Co., Ltd.                  299\n",
       "Janssen Research & Development, LLC                 276\n",
       "Novo Nordisk A/S                                    275\n",
       "Merck Sharp & Dohme LLC                             273\n",
       "Hoffmann-La Roche                                   263\n",
       "Takeda                                              261\n",
       "Bayer                                               260\n",
       "GlaxoSmithKline                                     236\n",
       "Sanofi                                              217\n",
       "Chia Tai Tianqing Pharmaceutical Group Co., Ltd.    176\n",
       "Amgen                                               158\n",
       "Regeneron Pharmaceuticals                           123\n",
       "Innovent Biologics (Suzhou) Co. Ltd.                119\n",
       "Name: count, dtype: int64"
      ]
     },
     "execution_count": 6,
     "metadata": {},
     "output_type": "execute_result"
    }
   ],
   "source": [
    "# Filter to for Funder Type == \"INDUSTRY\" and count the number of studies by sponsor and return the top 20\n",
    "df[df[\"Funder Type\"] == \"INDUSTRY\"][\"Sponsor\"].value_counts().head(20)"
   ]
  },
  {
   "cell_type": "code",
   "execution_count": 7,
   "metadata": {},
   "outputs": [
    {
     "data": {
      "text/plain": [
       "Condition\n",
       "Healthy Volunteers                                17\n",
       "Obesity                                           12\n",
       "Diabetes Mellitus, Type 2                         11\n",
       "Overweight                                         8\n",
       "Chronic Kidney Disease                             6\n",
       "Diabetes Mellitus, Type 1                          4\n",
       "Type 2 Diabetes                                    4\n",
       "Heart Failure                                      3\n",
       "Cardiovascular Risk                                3\n",
       "Haemophilia A                                      3\n",
       "Haemophilia B                                      2\n",
       "Atherosclerotic Cardiovascular Disease             2\n",
       "Growth Hormone Deficiency in Children              2\n",
       "Hepatic Impairment                                 2\n",
       "Systemic Inflammation                              2\n",
       "Haemophilia A With or Without Inhibitors           2\n",
       "Haemophilia A With Inhibitors                      2\n",
       "Inflammation                                       2\n",
       "Type 2 Diabetes Mellitus                           2\n",
       "Atherosclerotic Cardiovascular Disease (ASCVD)     2\n",
       "Name: count, dtype: int64"
      ]
     },
     "execution_count": 7,
     "metadata": {},
     "output_type": "execute_result"
    }
   ],
   "source": [
    "# Filter for Sponsor == \"Novo Nordisk\" and return unique values for \"Conditions\"\n",
    "\n",
    "Novo_Conditions = df[df[\"Sponsor\"] == \"Novo Nordisk A/S\"][\"Conditions\"].unique()\n",
    "\n",
    "# across list, unpack the strings split by |\n",
    "conditions = [item for sublist in Novo_Conditions for item in sublist.split(\"|\")]\n",
    "\n",
    "# create dataframe from list and count the number of times each condition appears\n",
    "df_conditions = pd.DataFrame(conditions, columns=[\"Condition\"])\n",
    "df_conditions[\"Condition\"].value_counts().head(20)"
   ]
  },
  {
   "cell_type": "code",
   "execution_count": 8,
   "metadata": {},
   "outputs": [
    {
     "data": {
      "text/plain": [
       "['Healthy Volunteers',\n",
       " 'Obesity',\n",
       " 'Diabetes Mellitus, Type 2',\n",
       " 'Overweight',\n",
       " 'Chronic Kidney Disease',\n",
       " 'Type 2 Diabetes',\n",
       " 'Diabetes Mellitus, Type 1',\n",
       " 'Heart Failure',\n",
       " 'Cardiovascular Risk',\n",
       " 'Haemophilia A',\n",
       " 'Haemophilia B',\n",
       " 'Atherosclerotic Cardiovascular Disease',\n",
       " 'Growth Hormone Deficiency in Children',\n",
       " 'Hepatic Impairment',\n",
       " 'Systemic Inflammation',\n",
       " 'Haemophilia A With or Without Inhibitors',\n",
       " 'Haemophilia A With Inhibitors',\n",
       " 'Inflammation',\n",
       " 'Atherosclerotic Cardiovascular Disease (ASCVD)',\n",
       " 'Type 2 Diabetes Mellitus',\n",
       " 'Chronic Kidney Disease (CKD)',\n",
       " 'Noonan Syndrome']"
      ]
     },
     "execution_count": 8,
     "metadata": {},
     "output_type": "execute_result"
    }
   ],
   "source": [
    "# from df conditions, exclude healthy volunteers and  'Healthy Participants', and make a list of all conditions with a value count greater than 1\n",
    "df_conditions = df_conditions[df_conditions[\"Condition\"] != \"Healthy Participants\"]\n",
    "conditions = df_conditions[\"Condition\"].value_counts()\n",
    "conditions = conditions[conditions > 1]\n",
    "conditions\n",
    "# make a list of the conditions\n",
    "conditions = conditions.index.tolist()\n",
    "conditions"
   ]
  },
  {
   "cell_type": "code",
   "execution_count": 9,
   "metadata": {},
   "outputs": [
    {
     "name": "stderr",
     "output_type": "stream",
     "text": [
      "/var/folders/kd/cqrkyndx05bfj15gr0nm95t40000gn/T/ipykernel_73708/3201796976.py:2: UserWarning: This pattern is interpreted as a regular expression, and has match groups. To actually get the groups, use str.extract.\n",
      "  df_filtered = df[df[\"Conditions\"].str.contains(\"|\".join(conditions))]\n"
     ]
    },
    {
     "data": {
      "text/plain": [
       "Sponsor\n",
       "Eli Lilly and Company                       109\n",
       "AstraZeneca                                  82\n",
       "Bayer                                        58\n",
       "Pfizer                                       44\n",
       "Novartis Pharmaceuticals                     37\n",
       "Boehringer Ingelheim                         36\n",
       "Sanofi Pasteur, a Sanofi Company             35\n",
       "Takeda                                       35\n",
       "Bristol-Myers Squibb                         32\n",
       "Daewoong Pharmaceutical Co. LTD.             22\n",
       "Sanofi                                       22\n",
       "AbbVie                                       21\n",
       "Celgene                                      20\n",
       "Jiangsu HengRui Medicine Co., Ltd.           20\n",
       "Amgen                                        15\n",
       "Chong Kun Dang Pharmaceutical                14\n",
       "Regeneron Pharmaceuticals                    13\n",
       "Astellas Pharma Global Development, Inc.     12\n",
       "Abbott Medical Devices                       12\n",
       "Shandong Suncadia Medicine Co., Ltd.         12\n",
       "Name: count, dtype: int64"
      ]
     },
     "execution_count": 9,
     "metadata": {},
     "output_type": "execute_result"
    }
   ],
   "source": [
    "# filter df for sponsors who's conditions are in the list of conditions by string match\n",
    "df_filtered = df[df[\"Conditions\"].str.contains(\"|\".join(conditions))]\n",
    "# Filter for sponsor 1= \"Novo Nordisk\" \n",
    "df_filtered = df_filtered[df_filtered[\"Sponsor\"] != \"Novo Nordisk A/S\"]\n",
    "# Filter for Funder Type == \"INDUSTRY\"\n",
    "df_filtered = df_filtered[df_filtered[\"Funder Type\"] == \"INDUSTRY\"]\n",
    "# Produce a count of the number of studies by sponsor\n",
    "df_filtered[\"Sponsor\"].value_counts().head(20)\n"
   ]
  },
  {
   "cell_type": "markdown",
   "metadata": {},
   "source": [
    "Given the comprehensive list of fields available in the ClinicalTrials.gov dataset, we can derive valuable insights for a competitor benchmark analysis. We'll focus on key areas like:\n",
    "\n",
    "- Sponsor Activity: Identify the most active sponsors, their areas of focus (therapeutic areas), and trends in their trial initiations over time.\n",
    "- Study Designs and Phases: Analyze the distribution of study designs (e.g., randomized, observational) and phases (Phase 1, 2, 3) to understand industry trends and competitor strategies.\n",
    "- Therapeutic Areas: Determine the most common therapeutic areas being investigated, highlighting potential areas of high competition or unmet medical needs.\n",
    "- Collaboration Patterns: Examine collaborations between sponsors and other organizations (e.g., academic institutions) to identify potential partnership opportunities or competitive alliances.\n",
    "- Geographic Distribution: Analyze the geographic locations of trial sites to understand where competitors are focusing their research efforts.\n",
    "\n",
    "## Build some key metrics for \"Competitors\"\n",
    "\n",
    "Given Novo Nordisk AS specific clinical portfolio, we identify competitors principally from the Industry Sponsors who run several trials focused on the same conditions. This could either be as a Lead Sponsor or a Collaborator. After establishing a master set of competitors, several key metrics and visualisations will be developed including\n",
    "\n",
    "### Metrics\n",
    "\n",
    "- For each theraputic area, the number of trials each competitor has started\n",
    "- For each theraputic area, the number of trials in each phase\n",
    "\n",
    "\n",
    "### Visualisations\n",
    "- For each competitor, the geographic distribution of trials they are running in areas of our concern\n"
   ]
  },
  {
   "cell_type": "code",
   "execution_count": 10,
   "metadata": {},
   "outputs": [
    {
     "data": {
      "text/html": [
       "<div>\n",
       "<style scoped>\n",
       "    .dataframe tbody tr th:only-of-type {\n",
       "        vertical-align: middle;\n",
       "    }\n",
       "\n",
       "    .dataframe tbody tr th {\n",
       "        vertical-align: top;\n",
       "    }\n",
       "\n",
       "    .dataframe thead th {\n",
       "        text-align: right;\n",
       "    }\n",
       "</style>\n",
       "<table border=\"1\" class=\"dataframe\">\n",
       "  <thead>\n",
       "    <tr style=\"text-align: right;\">\n",
       "      <th></th>\n",
       "      <th>Condition</th>\n",
       "    </tr>\n",
       "  </thead>\n",
       "  <tbody>\n",
       "    <tr>\n",
       "      <th>0</th>\n",
       "      <td>Overweight</td>\n",
       "    </tr>\n",
       "    <tr>\n",
       "      <th>1</th>\n",
       "      <td>Obesity</td>\n",
       "    </tr>\n",
       "    <tr>\n",
       "      <th>2</th>\n",
       "      <td>Diabetes Mellitus, Type 2</td>\n",
       "    </tr>\n",
       "    <tr>\n",
       "      <th>3</th>\n",
       "      <td>Obesity</td>\n",
       "    </tr>\n",
       "    <tr>\n",
       "      <th>4</th>\n",
       "      <td>Healthy Volunteers</td>\n",
       "    </tr>\n",
       "    <tr>\n",
       "      <th>...</th>\n",
       "      <td>...</td>\n",
       "    </tr>\n",
       "    <tr>\n",
       "      <th>153</th>\n",
       "      <td>Cardiometabolic Diseases</td>\n",
       "    </tr>\n",
       "    <tr>\n",
       "      <th>154</th>\n",
       "      <td>Growth Hormone Deficiency in Children</td>\n",
       "    </tr>\n",
       "    <tr>\n",
       "      <th>155</th>\n",
       "      <td>Born Small for Gestational Age</td>\n",
       "    </tr>\n",
       "    <tr>\n",
       "      <th>156</th>\n",
       "      <td>Obesity</td>\n",
       "    </tr>\n",
       "    <tr>\n",
       "      <th>157</th>\n",
       "      <td>Diabetes Mellitus, Type 2</td>\n",
       "    </tr>\n",
       "  </tbody>\n",
       "</table>\n",
       "<p>156 rows × 1 columns</p>\n",
       "</div>"
      ],
      "text/plain": [
       "                                 Condition\n",
       "0                               Overweight\n",
       "1                                  Obesity\n",
       "2                Diabetes Mellitus, Type 2\n",
       "3                                  Obesity\n",
       "4                       Healthy Volunteers\n",
       "..                                     ...\n",
       "153               Cardiometabolic Diseases\n",
       "154  Growth Hormone Deficiency in Children\n",
       "155         Born Small for Gestational Age\n",
       "156                                Obesity\n",
       "157              Diabetes Mellitus, Type 2\n",
       "\n",
       "[156 rows x 1 columns]"
      ]
     },
     "execution_count": 10,
     "metadata": {},
     "output_type": "execute_result"
    }
   ],
   "source": [
    "df_conditions"
   ]
  },
  {
   "cell_type": "markdown",
   "metadata": {},
   "source": [
    "### First we build the list of competitors from overlapping conditions"
   ]
  },
  {
   "cell_type": "code",
   "execution_count": 11,
   "metadata": {},
   "outputs": [
    {
     "data": {
      "text/plain": [
       "Index(['NCT Number', 'Study Title', 'Study URL', 'Acronym', 'Study Status',\n",
       "       'Brief Summary', 'Study Results', 'Conditions', 'Interventions',\n",
       "       'Primary Outcome Measures', 'Secondary Outcome Measures',\n",
       "       'Other Outcome Measures', 'Sponsor', 'Collaborators', 'Sex', 'Age',\n",
       "       'Phases', 'Enrollment', 'Funder Type', 'Study Type', 'Study Design',\n",
       "       'Other IDs', 'Start Date', 'Primary Completion Date', 'Completion Date',\n",
       "       'First Posted', 'Results First Posted', 'Last Update Posted',\n",
       "       'Locations', 'Study Documents'],\n",
       "      dtype='object')"
      ]
     },
     "execution_count": 11,
     "metadata": {},
     "output_type": "execute_result"
    }
   ],
   "source": [
    "df.columns"
   ]
  },
  {
   "cell_type": "code",
   "execution_count": 12,
   "metadata": {},
   "outputs": [],
   "source": [
    "def get_conditions(df):\n",
    "    MIN_NO_OF_STUDIES = 1\n",
    "\n",
    "    # Filter for \"Novo Nordisk A/S\" and get unique conditions\n",
    "    Novo_Conditions = df[df[\"Sponsor\"] == \"Novo Nordisk A/S\"][\"Conditions\"].unique()\n",
    "\n",
    "    # Across list, unpack the strings split by \"|\"\n",
    "    conditions = [item for sublist in Novo_Conditions for item in sublist.split(\"|\")]\n",
    "\n",
    "    # Create dataframe from list\n",
    "    df_conditions = pd.DataFrame(conditions, columns=[\"Condition\"])\n",
    "\n",
    "    # Exclude 'Healthy Participants' from df_conditions\n",
    "    df_conditions = df_conditions[~df_conditions[\"Condition\"].isin([\"Healthy Participants\", \"Healthy Volunteers\"])]\n",
    "    \n",
    "    # Make a list of all conditions with a value count greater than 1\n",
    "    conditions = df_conditions[\"Condition\"].value_counts()\n",
    "    conditions = conditions[conditions > MIN_NO_OF_STUDIES]\n",
    "    \n",
    "    # Convert the conditions to a list\n",
    "    conditions = conditions.index.tolist()\n",
    "    \n",
    "    return conditions\n",
    "\n",
    "conditions = get_conditions(df)"
   ]
  },
  {
   "cell_type": "markdown",
   "metadata": {},
   "source": [
    "### Now get the competitors in these areas"
   ]
  },
  {
   "cell_type": "code",
   "execution_count": 14,
   "metadata": {},
   "outputs": [
    {
     "name": "stderr",
     "output_type": "stream",
     "text": [
      "/var/folders/kd/cqrkyndx05bfj15gr0nm95t40000gn/T/ipykernel_73708/3065310362.py:5: UserWarning: This pattern is interpreted as a regular expression, and has match groups. To actually get the groups, use str.extract.\n",
      "  df_filtered = df[df[\"Conditions\"].str.contains(\"|\".join(conditions))]\n"
     ]
    }
   ],
   "source": [
    "def get_competitors(df, conditions):\n",
    "    MIN_NO_COMPETITORS_STUDIES = 10\n",
    "\n",
    "    # filter df for sponsors who's conditions are in the list of conditions by string match\n",
    "    df_filtered = df[df[\"Conditions\"].str.contains(\"|\".join(conditions))]\n",
    "    # Filter for sponsor 1= \"Novo Nordisk\" \n",
    "    df_filtered = df_filtered[df_filtered[\"Sponsor\"] != \"Novo Nordisk A/S\"]\n",
    "    # Filter for Funder Type == \"INDUSTRY\"\n",
    "    df_filtered = df_filtered[df_filtered[\"Funder Type\"] == \"INDUSTRY\"]\n",
    "    # Filter for value_counts greater than 10 and cast to list\n",
    "    competitors = df_filtered[\"Sponsor\"].value_counts()[df_filtered[\"Sponsor\"].value_counts() > MIN_NO_COMPETITORS_STUDIES].index.tolist()\n",
    "    return competitors\n",
    "\n",
    "competitors = get_competitors(df, conditions)"
   ]
  },
  {
   "cell_type": "markdown",
   "metadata": {},
   "source": [
    "### Now get the NCTID's of relevant studies from our competitors and creaete a master list of relevant trials by competitor"
   ]
  },
  {
   "cell_type": "code",
   "execution_count": 15,
   "metadata": {},
   "outputs": [
    {
     "name": "stderr",
     "output_type": "stream",
     "text": [
      "/var/folders/kd/cqrkyndx05bfj15gr0nm95t40000gn/T/ipykernel_73708/264391286.py:7: UserWarning: This pattern is interpreted as a regular expression, and has match groups. To actually get the groups, use str.extract.\n",
      "  df_competitors = df_competitors[df_competitors[\"Conditions\"].str.contains('|'.join(conditions))]\n"
     ]
    },
    {
     "data": {
      "text/plain": [
       "{'Abbott Medical Devices': ['NCT06306573',\n",
       "  'NCT04703855',\n",
       "  'NCT03982979',\n",
       "  'NCT05428384',\n",
       "  'NCT05887323',\n",
       "  'NCT04915924',\n",
       "  'NCT04100148',\n",
       "  'NCT04069156',\n",
       "  'NCT04464785',\n",
       "  'NCT06436053',\n",
       "  'NCT04548128',\n",
       "  'NCT04595305'],\n",
       " 'Amgen': ['NCT06352892',\n",
       "  'NCT04478708',\n",
       "  'NCT05378529',\n",
       "  'NCT04887064',\n",
       "  'NCT06295679',\n",
       "  'NCT05581303',\n",
       "  'NCT04292275',\n",
       "  'NCT05669599',\n",
       "  'NCT05406115',\n",
       "  'NCT05481411',\n",
       "  'NCT04199351'],\n",
       " 'AstraZeneca': ['NCT06243029',\n",
       "  'NCT04655027',\n",
       "  'NCT04847531',\n",
       "  'NCT05635331',\n",
       "  'NCT06203704',\n",
       "  'NCT06268873',\n",
       "  'NCT04001231',\n",
       "  'NCT05266404',\n",
       "  'NCT05866276',\n",
       "  'NCT06338839',\n",
       "  'NCT04798222',\n",
       "  'NCT04492722',\n",
       "  'NCT05160974',\n",
       "  'NCT04327024',\n",
       "  'NCT03990363',\n",
       "  'NCT06087835',\n",
       "  'NCT04550234',\n",
       "  'NCT06099067',\n",
       "  'NCT05737940',\n",
       "  'NCT05432167',\n",
       "  'NCT04556760',\n",
       "  'NCT05188144',\n",
       "  'NCT04445714',\n",
       "  'NCT05306210',\n",
       "  'NCT04072523',\n",
       "  'NCT04256629',\n",
       "  'NCT04034992',\n",
       "  'NCT06372431',\n",
       "  'NCT04208620',\n",
       "  'NCT04986202',\n",
       "  'NCT05434923',\n",
       "  'NCT06350123',\n",
       "  'NCT05790304',\n",
       "  'NCT04676646',\n",
       "  'NCT04024501',\n",
       "  'NCT05953701',\n",
       "  'NCT05134701',\n",
       "  'NCT04630067',\n",
       "  'NCT05932901',\n",
       "  'NCT05919069',\n",
       "  'NCT04734275',\n",
       "  'NCT04865406',\n",
       "  'NCT04515849',\n",
       "  'NCT05465213',\n",
       "  'NCT04365218',\n",
       "  'NCT05112419',\n",
       "  'NCT04595370',\n",
       "  'NCT04564742',\n",
       "  'NCT05694741',\n",
       "  'NCT05517226',\n",
       "  'NCT06336330',\n",
       "  'NCT04890548',\n",
       "  'NCT04709263',\n",
       "  'NCT05294458',\n",
       "  'NCT03924635',\n",
       "  'NCT06388616',\n",
       "  'NCT05347693',\n",
       "  'NCT06307652',\n",
       "  'NCT06327815',\n",
       "  'NCT06117852',\n",
       "  'NCT04532918',\n",
       "  'NCT04724837',\n",
       "  'NCT05751759',\n",
       "  'NCT05250011',\n",
       "  'NCT04727528',\n",
       "  'NCT04991571',\n",
       "  'NCT04232345',\n",
       "  'NCT05184998',\n",
       "  'NCT04566653'],\n",
       " 'Bayer': ['NCT04552262',\n",
       "  'NCT04435626',\n",
       "  'NCT05532046',\n",
       "  'NCT05800444',\n",
       "  'NCT05552339',\n",
       "  'NCT05419635',\n",
       "  'NCT05196035',\n",
       "  'NCT05640180',\n",
       "  'NCT05703880',\n",
       "  'NCT05407662',\n",
       "  'NCT05974189',\n",
       "  'NCT06363110',\n",
       "  'NCT04065581',\n",
       "  'NCT05901831',\n",
       "  'NCT05728502',\n",
       "  'NCT05254002',\n",
       "  'NCT04820621',\n",
       "  'NCT06402721',\n",
       "  'NCT05013008',\n",
       "  'NCT04445181',\n",
       "  'NCT05036967',\n",
       "  'NCT05666518',\n",
       "  'NCT06195930',\n",
       "  'NCT05526157',\n",
       "  'NCT05047263',\n",
       "  'NCT06148935',\n",
       "  'NCT05658458',\n",
       "  'NCT04915118',\n",
       "  'NCT06278207',\n",
       "  'NCT05004428',\n",
       "  'NCT05914259',\n",
       "  'NCT04661917',\n",
       "  'NCT04383041',\n",
       "  'NCT05086952',\n",
       "  'NCT04665570',\n",
       "  'NCT05491642',\n",
       "  'NCT05705271',\n",
       "  'NCT04507061',\n",
       "  'NCT05599997',\n",
       "  'NCT05348733',\n",
       "  'NCT05457283',\n",
       "  'NCT05515432'],\n",
       " 'Boehringer Ingelheim': ['NCT05751226',\n",
       "  'NCT04531462',\n",
       "  'NCT06309992',\n",
       "  'NCT05162014',\n",
       "  'NCT04153929',\n",
       "  'NCT05236673',\n",
       "  'NCT05350202',\n",
       "  'NCT05262764',\n",
       "  'NCT06077864',\n",
       "  'NCT03807440',\n",
       "  'NCT05970640',\n",
       "  'NCT06200467',\n",
       "  'NCT04233801',\n",
       "  'NCT04176536',\n",
       "  'NCT06176365',\n",
       "  'NCT04881448',\n",
       "  'NCT06352424',\n",
       "  'NCT04937816',\n",
       "  'NCT05130463',\n",
       "  'NCT05465317',\n",
       "  'NCT06424288',\n",
       "  'NCT04447261',\n",
       "  'NCT06066528',\n",
       "  'NCT05102071',\n",
       "  'NCT06066515',\n",
       "  'NCT06214741',\n",
       "  'NCT04098575',\n",
       "  'NCT04180813',\n",
       "  'NCT05882071',\n",
       "  'NCT04736628',\n",
       "  'NCT05296733',\n",
       "  'NCT04157751',\n",
       "  'NCT04667377',\n",
       "  'NCT04295005'],\n",
       " 'Chong Kun Dang Pharmaceutical': ['NCT05897216',\n",
       "  'NCT06204107',\n",
       "  'NCT05089279',\n",
       "  'NCT04260438',\n",
       "  'NCT04334213',\n",
       "  'NCT04706286',\n",
       "  'NCT04431687',\n",
       "  'NCT05566028',\n",
       "  'NCT04322032',\n",
       "  'NCT04869800',\n",
       "  'NCT05816759',\n",
       "  'NCT05113693'],\n",
       " 'Daewoong Pharmaceutical Co. LTD.': ['NCT05376930',\n",
       "  'NCT04632862',\n",
       "  'NCT05505994',\n",
       "  'NCT04926623',\n",
       "  'NCT05926414',\n",
       "  'NCT06141980',\n",
       "  'NCT05466643',\n",
       "  'NCT04654390',\n",
       "  'NCT04014023',\n",
       "  'NCT05376969',\n",
       "  'NCT05747664',\n",
       "  'NCT04634500',\n",
       "  'NCT05737771'],\n",
       " 'Eli Lilly and Company': ['NCT06345066',\n",
       "  'NCT06039826',\n",
       "  'NCT05929066',\n",
       "  'NCT06132126',\n",
       "  'NCT04161976',\n",
       "  'NCT04426474',\n",
       "  'NCT04809220',\n",
       "  'NCT04667182',\n",
       "  'NCT06362265',\n",
       "  'NCT05548231',\n",
       "  'NCT05536804',\n",
       "  'NCT05556512',\n",
       "  'NCT04515576',\n",
       "  'NCT05963022',\n",
       "  'NCT06186622',\n",
       "  'NCT05822830',\n",
       "  'NCT06297616',\n",
       "  'NCT04657016',\n",
       "  'NCT04184622',\n",
       "  'NCT05564039',\n",
       "  'NCT04407234',\n",
       "  'NCT04591626',\n",
       "  'NCT04881760',\n",
       "  'NCT05295940',\n",
       "  'NCT04605991',\n",
       "  'NCT04450394',\n",
       "  'NCT04641312',\n",
       "  'NCT04957914',\n",
       "  'NCT04840914',\n",
       "  'NCT05327595',\n",
       "  'NCT06230523',\n",
       "  'NCT05931380',\n",
       "  'NCT06169982',\n",
       "  'NCT05872620',\n",
       "  'NCT05260021',\n",
       "  'NCT04143802',\n",
       "  'NCT05051579',\n",
       "  'NCT06045221',\n",
       "  'NCT05803421',\n",
       "  'NCT04537923',\n",
       "  'NCT05433584',\n",
       "  'NCT05929079',\n",
       "  'NCT03928379',\n",
       "  'NCT05380323',\n",
       "  'NCT04484779',\n",
       "  'NCT06192108',\n",
       "  'NCT04823208',\n",
       "  'NCT06023095',\n",
       "  'NCT04660643',\n",
       "  'NCT04153981',\n",
       "  'NCT06373146',\n",
       "  'NCT05869903',\n",
       "  'NCT06297603',\n",
       "  'NCT04657003',\n",
       "  'NCT04039503',\n",
       "  'NCT06075667',\n",
       "  'NCT05971940',\n",
       "  'NCT05931367',\n",
       "  'NCT06148272',\n",
       "  'NCT06010004',\n",
       "  'NCT05412004',\n",
       "  'NCT06383390',\n",
       "  'NCT06292013',\n",
       "  'NCT05616013',\n",
       "  'NCT05887999',\n",
       "  'NCT05048719',\n",
       "  'NCT04844918',\n",
       "  'NCT05706506',\n",
       "  'NCT06047548',\n",
       "  'NCT06260722',\n",
       "  'NCT05623839',\n",
       "  'NCT05582096',\n",
       "  'NCT05362058',\n",
       "  'NCT04847557',\n",
       "  'NCT06370715',\n",
       "  'NCT06124807',\n",
       "  'NCT04276207',\n",
       "  'NCT04586907',\n",
       "  'NCT05275400',\n",
       "  'NCT05659537',\n",
       "  'NCT04867785',\n",
       "  'NCT05445232',\n",
       "  'NCT04081337',\n",
       "  'NCT06143956',\n",
       "  'NCT05462756',\n",
       "  'NCT06037252',\n",
       "  'NCT05592275',\n",
       "  'NCT04093752',\n",
       "  'NCT05024032',\n",
       "  'NCT04235959',\n",
       "  'NCT03987919',\n",
       "  'NCT06109311',\n",
       "  'NCT06313528',\n",
       "  'NCT04311411',\n",
       "  'NCT04276428',\n",
       "  'NCT05596747',\n",
       "  'NCT04864977',\n",
       "  'NCT04255433',\n",
       "  'NCT05262387',\n",
       "  'NCT05377333',\n",
       "  'NCT05936151',\n",
       "  'NCT05882045',\n",
       "  'NCT05696847',\n",
       "  'NCT05893797',\n",
       "  'NCT05407961',\n",
       "  'NCT04050553',\n",
       "  'NCT03951753',\n",
       "  'NCT05086445',\n",
       "  'NCT05662332'],\n",
       " 'Innovent Biologics (Suzhou) Co. Ltd.': ['NCT05607680',\n",
       "  'NCT05815680',\n",
       "  'NCT06184568',\n",
       "  'NCT04466904',\n",
       "  'NCT06164873',\n",
       "  'NCT05606913',\n",
       "  'NCT04965506',\n",
       "  'NCT05628311',\n",
       "  'NCT04904913',\n",
       "  'NCT04440345',\n",
       "  'NCT04773977'],\n",
       " 'Jiangsu HengRui Medicine Co., Ltd.': ['NCT04694365',\n",
       "  'NCT05702073',\n",
       "  'NCT04663282',\n",
       "  'NCT06086912',\n",
       "  'NCT05292495',\n",
       "  'NCT04305392',\n",
       "  'NCT04293029',\n",
       "  'NCT04799327',\n",
       "  'NCT05699408',\n",
       "  'NCT06137469',\n",
       "  'NCT04631549',\n",
       "  'NCT05054842',\n",
       "  'NCT04470063',\n",
       "  'NCT05333835',\n",
       "  'NCT03976115',\n",
       "  'NCT04197778',\n",
       "  'NCT04631575',\n",
       "  'NCT05031871',\n",
       "  'NCT05151705'],\n",
       " 'Novartis Pharmaceuticals': ['NCT04023227',\n",
       "  'NCT06149104',\n",
       "  'NCT04781881',\n",
       "  'NCT04993157',\n",
       "  'NCT05026996',\n",
       "  'NCT06267560',\n",
       "  'NCT05078580',\n",
       "  'NCT05613140',\n",
       "  'NCT05753592',\n",
       "  'NCT05963282',\n",
       "  'NCT05870709',\n",
       "  'NCT05096143',\n",
       "  'NCT05726838',\n",
       "  'NCT05199090',\n",
       "  'NCT05448872',\n",
       "  'NCT04491136',\n",
       "  'NCT04929249',\n",
       "  'NCT05848206',\n",
       "  'NCT05657158',\n",
       "  'NCT03988634',\n",
       "  'NCT05096039',\n",
       "  'NCT04807400',\n",
       "  'NCT04143919',\n",
       "  'NCT05599932',\n",
       "  'NCT05030428',\n",
       "  'NCT04638647',\n",
       "  'NCT04735354',\n",
       "  'NCT05739383',\n",
       "  'NCT06142383',\n",
       "  'NCT06004453',\n",
       "  'NCT05974345',\n",
       "  'NCT05328752'],\n",
       " 'Pfizer': ['NCT04621227',\n",
       "  'NCT04616027',\n",
       "  'NCT04681482',\n",
       "  'NCT05158244',\n",
       "  'NCT05857644',\n",
       "  'NCT05005312',\n",
       "  'NCT04424914',\n",
       "  'NCT05478603',\n",
       "  'NCT04967443',\n",
       "  'NCT05677867',\n",
       "  'NCT04193436',\n",
       "  'NCT04889157',\n",
       "  'NCT04604496',\n",
       "  'NCT05224609',\n",
       "  'NCT05139615',\n",
       "  'NCT04091061',\n",
       "  'NCT04616339',\n",
       "  'NCT04552470',\n",
       "  'NCT04617275',\n",
       "  'NCT04707313',\n",
       "  'NCT06279234',\n",
       "  'NCT05492500',\n",
       "  'NCT03985293',\n",
       "  'NCT04016077',\n",
       "  'NCT05579977',\n",
       "  'NCT05510245',\n",
       "  'NCT05671653'],\n",
       " 'Sanofi': ['NCT04980027',\n",
       "  'NCT05607160',\n",
       "  'NCT05413369',\n",
       "  'NCT05628090',\n",
       "  'NCT05114590',\n",
       "  'NCT03794336',\n",
       "  'NCT05129241',\n",
       "  'NCT05684341',\n",
       "  'NCT05552859',\n",
       "  'NCT05002933',\n",
       "  'NCT03770728'],\n",
       " 'Shandong Suncadia Medicine Co., Ltd.': ['NCT06132204',\n",
       "  'NCT05415644',\n",
       "  'NCT05638126',\n",
       "  'NCT06250946',\n",
       "  'NCT05682495',\n",
       "  'NCT06344936',\n",
       "  'NCT06422039',\n",
       "  'NCT06393348',\n",
       "  'NCT05692934',\n",
       "  'NCT06221059',\n",
       "  'NCT06039254',\n",
       "  'NCT05759897']}"
      ]
     },
     "execution_count": 15,
     "metadata": {},
     "output_type": "execute_result"
    }
   ],
   "source": [
    "competitors\n",
    "\n",
    "# Filter df for sponsors in the list of competitors\n",
    "df_competitors = df[df[\"Sponsor\"].isin(competitors)]\n",
    "\n",
    "# Filter df_competitors for rows where the \"Conditions\" column has a string match with a condition in the list conditions\n",
    "df_competitors = df_competitors[df_competitors[\"Conditions\"].str.contains('|'.join(conditions))]\n",
    "\n",
    "# Create a dictionary of the NCT Number of the studies by sponsor \n",
    "studies_by_sponsor = df_competitors.groupby(\"Sponsor\")[\"NCT Number\"].apply(list).to_dict()\n",
    "studies_by_sponsor\n"
   ]
  },
  {
   "cell_type": "code",
   "execution_count": 16,
   "metadata": {},
   "outputs": [
    {
     "name": "stderr",
     "output_type": "stream",
     "text": [
      "/var/folders/kd/cqrkyndx05bfj15gr0nm95t40000gn/T/ipykernel_73708/3065310362.py:5: UserWarning: This pattern is interpreted as a regular expression, and has match groups. To actually get the groups, use str.extract.\n",
      "  df_filtered = df[df[\"Conditions\"].str.contains(\"|\".join(conditions))]\n",
      "/var/folders/kd/cqrkyndx05bfj15gr0nm95t40000gn/T/ipykernel_73708/4116327369.py:10: UserWarning: This pattern is interpreted as a regular expression, and has match groups. To actually get the groups, use str.extract.\n",
      "  df_competitors = df_competitors[df_competitors[\"Conditions\"].str.contains('|'.join(conditions))]\n"
     ]
    },
    {
     "data": {
      "text/plain": [
       "{'Abbott Medical Devices': ['NCT06306573',\n",
       "  'NCT04703855',\n",
       "  'NCT03982979',\n",
       "  'NCT05428384',\n",
       "  'NCT05887323',\n",
       "  'NCT04915924',\n",
       "  'NCT04100148',\n",
       "  'NCT04069156',\n",
       "  'NCT04464785',\n",
       "  'NCT06436053',\n",
       "  'NCT04548128',\n",
       "  'NCT04595305'],\n",
       " 'Amgen': ['NCT06352892',\n",
       "  'NCT04478708',\n",
       "  'NCT05378529',\n",
       "  'NCT04887064',\n",
       "  'NCT06295679',\n",
       "  'NCT05581303',\n",
       "  'NCT04292275',\n",
       "  'NCT05669599',\n",
       "  'NCT05406115',\n",
       "  'NCT05481411',\n",
       "  'NCT04199351'],\n",
       " 'AstraZeneca': ['NCT06243029',\n",
       "  'NCT04655027',\n",
       "  'NCT04847531',\n",
       "  'NCT05635331',\n",
       "  'NCT06203704',\n",
       "  'NCT06268873',\n",
       "  'NCT04001231',\n",
       "  'NCT05266404',\n",
       "  'NCT05866276',\n",
       "  'NCT06338839',\n",
       "  'NCT04798222',\n",
       "  'NCT04492722',\n",
       "  'NCT05160974',\n",
       "  'NCT04327024',\n",
       "  'NCT03990363',\n",
       "  'NCT06087835',\n",
       "  'NCT04550234',\n",
       "  'NCT06099067',\n",
       "  'NCT05737940',\n",
       "  'NCT05432167',\n",
       "  'NCT04556760',\n",
       "  'NCT05188144',\n",
       "  'NCT04445714',\n",
       "  'NCT05306210',\n",
       "  'NCT04072523',\n",
       "  'NCT04256629',\n",
       "  'NCT04034992',\n",
       "  'NCT06372431',\n",
       "  'NCT04208620',\n",
       "  'NCT04986202',\n",
       "  'NCT05434923',\n",
       "  'NCT06350123',\n",
       "  'NCT05790304',\n",
       "  'NCT04676646',\n",
       "  'NCT04024501',\n",
       "  'NCT05953701',\n",
       "  'NCT05134701',\n",
       "  'NCT04630067',\n",
       "  'NCT05932901',\n",
       "  'NCT05919069',\n",
       "  'NCT04734275',\n",
       "  'NCT04865406',\n",
       "  'NCT04515849',\n",
       "  'NCT05465213',\n",
       "  'NCT04365218',\n",
       "  'NCT05112419',\n",
       "  'NCT04595370',\n",
       "  'NCT04564742',\n",
       "  'NCT05694741',\n",
       "  'NCT05517226',\n",
       "  'NCT06336330',\n",
       "  'NCT04890548',\n",
       "  'NCT04709263',\n",
       "  'NCT05294458',\n",
       "  'NCT03924635',\n",
       "  'NCT06388616',\n",
       "  'NCT05347693',\n",
       "  'NCT06307652',\n",
       "  'NCT06327815',\n",
       "  'NCT06117852',\n",
       "  'NCT04532918',\n",
       "  'NCT04724837',\n",
       "  'NCT05751759',\n",
       "  'NCT05250011',\n",
       "  'NCT04727528',\n",
       "  'NCT04991571',\n",
       "  'NCT04232345',\n",
       "  'NCT05184998',\n",
       "  'NCT04566653'],\n",
       " 'Bayer': ['NCT04552262',\n",
       "  'NCT04435626',\n",
       "  'NCT05532046',\n",
       "  'NCT05800444',\n",
       "  'NCT05552339',\n",
       "  'NCT05419635',\n",
       "  'NCT05196035',\n",
       "  'NCT05640180',\n",
       "  'NCT05703880',\n",
       "  'NCT05407662',\n",
       "  'NCT05974189',\n",
       "  'NCT06363110',\n",
       "  'NCT04065581',\n",
       "  'NCT05901831',\n",
       "  'NCT05728502',\n",
       "  'NCT05254002',\n",
       "  'NCT04820621',\n",
       "  'NCT06402721',\n",
       "  'NCT05013008',\n",
       "  'NCT04445181',\n",
       "  'NCT05036967',\n",
       "  'NCT05666518',\n",
       "  'NCT06195930',\n",
       "  'NCT05526157',\n",
       "  'NCT05047263',\n",
       "  'NCT06148935',\n",
       "  'NCT05658458',\n",
       "  'NCT04915118',\n",
       "  'NCT06278207',\n",
       "  'NCT05004428',\n",
       "  'NCT05914259',\n",
       "  'NCT04661917',\n",
       "  'NCT04383041',\n",
       "  'NCT05086952',\n",
       "  'NCT04665570',\n",
       "  'NCT05491642',\n",
       "  'NCT05705271',\n",
       "  'NCT04507061',\n",
       "  'NCT05599997',\n",
       "  'NCT05348733',\n",
       "  'NCT05457283',\n",
       "  'NCT05515432'],\n",
       " 'Boehringer Ingelheim': ['NCT05751226',\n",
       "  'NCT04531462',\n",
       "  'NCT06309992',\n",
       "  'NCT05162014',\n",
       "  'NCT04153929',\n",
       "  'NCT05236673',\n",
       "  'NCT05350202',\n",
       "  'NCT05262764',\n",
       "  'NCT06077864',\n",
       "  'NCT03807440',\n",
       "  'NCT05970640',\n",
       "  'NCT06200467',\n",
       "  'NCT04233801',\n",
       "  'NCT04176536',\n",
       "  'NCT06176365',\n",
       "  'NCT04881448',\n",
       "  'NCT06352424',\n",
       "  'NCT04937816',\n",
       "  'NCT05130463',\n",
       "  'NCT05465317',\n",
       "  'NCT06424288',\n",
       "  'NCT04447261',\n",
       "  'NCT06066528',\n",
       "  'NCT05102071',\n",
       "  'NCT06066515',\n",
       "  'NCT06214741',\n",
       "  'NCT04098575',\n",
       "  'NCT04180813',\n",
       "  'NCT05882071',\n",
       "  'NCT04736628',\n",
       "  'NCT05296733',\n",
       "  'NCT04157751',\n",
       "  'NCT04667377',\n",
       "  'NCT04295005'],\n",
       " 'Chong Kun Dang Pharmaceutical': ['NCT05897216',\n",
       "  'NCT06204107',\n",
       "  'NCT05089279',\n",
       "  'NCT04260438',\n",
       "  'NCT04334213',\n",
       "  'NCT04706286',\n",
       "  'NCT04431687',\n",
       "  'NCT05566028',\n",
       "  'NCT04322032',\n",
       "  'NCT04869800',\n",
       "  'NCT05816759',\n",
       "  'NCT05113693'],\n",
       " 'Daewoong Pharmaceutical Co. LTD.': ['NCT05376930',\n",
       "  'NCT04632862',\n",
       "  'NCT05505994',\n",
       "  'NCT04926623',\n",
       "  'NCT05926414',\n",
       "  'NCT06141980',\n",
       "  'NCT05466643',\n",
       "  'NCT04654390',\n",
       "  'NCT04014023',\n",
       "  'NCT05376969',\n",
       "  'NCT05747664',\n",
       "  'NCT04634500',\n",
       "  'NCT05737771'],\n",
       " 'Eli Lilly and Company': ['NCT06345066',\n",
       "  'NCT06039826',\n",
       "  'NCT05929066',\n",
       "  'NCT06132126',\n",
       "  'NCT04161976',\n",
       "  'NCT04426474',\n",
       "  'NCT04809220',\n",
       "  'NCT04667182',\n",
       "  'NCT06362265',\n",
       "  'NCT05548231',\n",
       "  'NCT05536804',\n",
       "  'NCT05556512',\n",
       "  'NCT04515576',\n",
       "  'NCT05963022',\n",
       "  'NCT06186622',\n",
       "  'NCT05822830',\n",
       "  'NCT06297616',\n",
       "  'NCT04657016',\n",
       "  'NCT04184622',\n",
       "  'NCT05564039',\n",
       "  'NCT04407234',\n",
       "  'NCT04591626',\n",
       "  'NCT04881760',\n",
       "  'NCT05295940',\n",
       "  'NCT04605991',\n",
       "  'NCT04450394',\n",
       "  'NCT04641312',\n",
       "  'NCT04957914',\n",
       "  'NCT04840914',\n",
       "  'NCT05327595',\n",
       "  'NCT06230523',\n",
       "  'NCT05931380',\n",
       "  'NCT06169982',\n",
       "  'NCT05872620',\n",
       "  'NCT05260021',\n",
       "  'NCT04143802',\n",
       "  'NCT05051579',\n",
       "  'NCT06045221',\n",
       "  'NCT05803421',\n",
       "  'NCT04537923',\n",
       "  'NCT05433584',\n",
       "  'NCT05929079',\n",
       "  'NCT03928379',\n",
       "  'NCT05380323',\n",
       "  'NCT04484779',\n",
       "  'NCT06192108',\n",
       "  'NCT04823208',\n",
       "  'NCT06023095',\n",
       "  'NCT04660643',\n",
       "  'NCT04153981',\n",
       "  'NCT06373146',\n",
       "  'NCT05869903',\n",
       "  'NCT06297603',\n",
       "  'NCT04657003',\n",
       "  'NCT04039503',\n",
       "  'NCT06075667',\n",
       "  'NCT05971940',\n",
       "  'NCT05931367',\n",
       "  'NCT06148272',\n",
       "  'NCT06010004',\n",
       "  'NCT05412004',\n",
       "  'NCT06383390',\n",
       "  'NCT06292013',\n",
       "  'NCT05616013',\n",
       "  'NCT05887999',\n",
       "  'NCT05048719',\n",
       "  'NCT04844918',\n",
       "  'NCT05706506',\n",
       "  'NCT06047548',\n",
       "  'NCT06260722',\n",
       "  'NCT05623839',\n",
       "  'NCT05582096',\n",
       "  'NCT05362058',\n",
       "  'NCT04847557',\n",
       "  'NCT06370715',\n",
       "  'NCT06124807',\n",
       "  'NCT04276207',\n",
       "  'NCT04586907',\n",
       "  'NCT05275400',\n",
       "  'NCT05659537',\n",
       "  'NCT04867785',\n",
       "  'NCT05445232',\n",
       "  'NCT04081337',\n",
       "  'NCT06143956',\n",
       "  'NCT05462756',\n",
       "  'NCT06037252',\n",
       "  'NCT05592275',\n",
       "  'NCT04093752',\n",
       "  'NCT05024032',\n",
       "  'NCT04235959',\n",
       "  'NCT03987919',\n",
       "  'NCT06109311',\n",
       "  'NCT06313528',\n",
       "  'NCT04311411',\n",
       "  'NCT04276428',\n",
       "  'NCT05596747',\n",
       "  'NCT04864977',\n",
       "  'NCT04255433',\n",
       "  'NCT05262387',\n",
       "  'NCT05377333',\n",
       "  'NCT05936151',\n",
       "  'NCT05882045',\n",
       "  'NCT05696847',\n",
       "  'NCT05893797',\n",
       "  'NCT05407961',\n",
       "  'NCT04050553',\n",
       "  'NCT03951753',\n",
       "  'NCT05086445',\n",
       "  'NCT05662332'],\n",
       " 'Innovent Biologics (Suzhou) Co. Ltd.': ['NCT05607680',\n",
       "  'NCT05815680',\n",
       "  'NCT06184568',\n",
       "  'NCT04466904',\n",
       "  'NCT06164873',\n",
       "  'NCT05606913',\n",
       "  'NCT04965506',\n",
       "  'NCT05628311',\n",
       "  'NCT04904913',\n",
       "  'NCT04440345',\n",
       "  'NCT04773977'],\n",
       " 'Jiangsu HengRui Medicine Co., Ltd.': ['NCT04694365',\n",
       "  'NCT05702073',\n",
       "  'NCT04663282',\n",
       "  'NCT06086912',\n",
       "  'NCT05292495',\n",
       "  'NCT04305392',\n",
       "  'NCT04293029',\n",
       "  'NCT04799327',\n",
       "  'NCT05699408',\n",
       "  'NCT06137469',\n",
       "  'NCT04631549',\n",
       "  'NCT05054842',\n",
       "  'NCT04470063',\n",
       "  'NCT05333835',\n",
       "  'NCT03976115',\n",
       "  'NCT04197778',\n",
       "  'NCT04631575',\n",
       "  'NCT05031871',\n",
       "  'NCT05151705'],\n",
       " 'Novartis Pharmaceuticals': ['NCT04023227',\n",
       "  'NCT06149104',\n",
       "  'NCT04781881',\n",
       "  'NCT04993157',\n",
       "  'NCT05026996',\n",
       "  'NCT06267560',\n",
       "  'NCT05078580',\n",
       "  'NCT05613140',\n",
       "  'NCT05753592',\n",
       "  'NCT05963282',\n",
       "  'NCT05870709',\n",
       "  'NCT05096143',\n",
       "  'NCT05726838',\n",
       "  'NCT05199090',\n",
       "  'NCT05448872',\n",
       "  'NCT04491136',\n",
       "  'NCT04929249',\n",
       "  'NCT05848206',\n",
       "  'NCT05657158',\n",
       "  'NCT03988634',\n",
       "  'NCT05096039',\n",
       "  'NCT04807400',\n",
       "  'NCT04143919',\n",
       "  'NCT05599932',\n",
       "  'NCT05030428',\n",
       "  'NCT04638647',\n",
       "  'NCT04735354',\n",
       "  'NCT05739383',\n",
       "  'NCT06142383',\n",
       "  'NCT06004453',\n",
       "  'NCT05974345',\n",
       "  'NCT05328752'],\n",
       " 'Pfizer': ['NCT04621227',\n",
       "  'NCT04616027',\n",
       "  'NCT04681482',\n",
       "  'NCT05158244',\n",
       "  'NCT05857644',\n",
       "  'NCT05005312',\n",
       "  'NCT04424914',\n",
       "  'NCT05478603',\n",
       "  'NCT04967443',\n",
       "  'NCT05677867',\n",
       "  'NCT04193436',\n",
       "  'NCT04889157',\n",
       "  'NCT04604496',\n",
       "  'NCT05224609',\n",
       "  'NCT05139615',\n",
       "  'NCT04091061',\n",
       "  'NCT04616339',\n",
       "  'NCT04552470',\n",
       "  'NCT04617275',\n",
       "  'NCT04707313',\n",
       "  'NCT06279234',\n",
       "  'NCT05492500',\n",
       "  'NCT03985293',\n",
       "  'NCT04016077',\n",
       "  'NCT05579977',\n",
       "  'NCT05510245',\n",
       "  'NCT05671653'],\n",
       " 'Sanofi': ['NCT04980027',\n",
       "  'NCT05607160',\n",
       "  'NCT05413369',\n",
       "  'NCT05628090',\n",
       "  'NCT05114590',\n",
       "  'NCT03794336',\n",
       "  'NCT05129241',\n",
       "  'NCT05684341',\n",
       "  'NCT05552859',\n",
       "  'NCT05002933',\n",
       "  'NCT03770728'],\n",
       " 'Shandong Suncadia Medicine Co., Ltd.': ['NCT06132204',\n",
       "  'NCT05415644',\n",
       "  'NCT05638126',\n",
       "  'NCT06250946',\n",
       "  'NCT05682495',\n",
       "  'NCT06344936',\n",
       "  'NCT06422039',\n",
       "  'NCT06393348',\n",
       "  'NCT05692934',\n",
       "  'NCT06221059',\n",
       "  'NCT06039254',\n",
       "  'NCT05759897']}"
      ]
     },
     "execution_count": 16,
     "metadata": {},
     "output_type": "execute_result"
    }
   ],
   "source": [
    "def get_studies_by_sponsor(df):\n",
    "    # Call the previous functions to create competitors and conditions\n",
    "    conditions = get_conditions(df)\n",
    "    competitors = get_competitors(df, conditions)\n",
    "\n",
    "    # Filter df for sponsors in the list of competitors\n",
    "    df_competitors = df[df[\"Sponsor\"].isin(competitors)]\n",
    "\n",
    "    # Filter df_competitors for rows where the \"Conditions\" column has a string match with a condition in the list conditions\n",
    "    df_competitors = df_competitors[df_competitors[\"Conditions\"].str.contains('|'.join(conditions))]\n",
    "\n",
    "    # Create a dictionary of the NCT Number of the studies by sponsor \n",
    "    studies_by_sponsor = df_competitors.groupby(\"Sponsor\")[\"NCT Number\"].apply(list).to_dict()\n",
    "\n",
    "    return studies_by_sponsor\n",
    "\n",
    "studies_by_sponsor = get_studies_by_sponsor(df)\n",
    "studies_by_sponsor"
   ]
  },
  {
   "cell_type": "code",
   "execution_count": 17,
   "metadata": {},
   "outputs": [],
   "source": [
    "# Save a local copy of the master list\n",
    "\n",
    "import json\n",
    "\n",
    "def write_to_json(data, filename):\n",
    "    with open(filename, 'w') as f:\n",
    "        json.dump(data, f)\n",
    "\n",
    "# Call the function to write the dictionary to a JSON file\n",
    "write_to_json(studies_by_sponsor, 'cached_data/studies_by_sponsor.json')"
   ]
  },
  {
   "cell_type": "markdown",
   "metadata": {},
   "source": [
    "### Investigate the master list"
   ]
  },
  {
   "cell_type": "code",
   "execution_count": 18,
   "metadata": {},
   "outputs": [],
   "source": [
    "# Filter df for trials with NCT Number in the dictionary studies_by_sponsor\n",
    "competitor_trials_df = df[df[\"NCT Number\"].isin([item for sublist in studies_by_sponsor.values() for item in sublist])]\n",
    "competitor_trials_df.reset_index(drop=True, inplace=True)\n"
   ]
  },
  {
   "cell_type": "code",
   "execution_count": 97,
   "metadata": {},
   "outputs": [
    {
     "data": {
      "application/vnd.plotly.v1+json": {
       "config": {
        "plotlyServerURL": "https://plot.ly"
       },
       "data": [
        {
         "hole": 0.3,
         "labels": [
          "DRUG",
          "DEVICE",
          "OTHER",
          "BIOLOGICAL",
          "DIAGNOSTIC_TEST",
          "COMBINATION_PRODUCT"
         ],
         "type": "pie",
         "values": [
          347,
          16,
          12,
          5,
          3,
          3
         ]
        }
       ],
       "layout": {
        "template": {
         "data": {
          "bar": [
           {
            "error_x": {
             "color": "#2a3f5f"
            },
            "error_y": {
             "color": "#2a3f5f"
            },
            "marker": {
             "line": {
              "color": "#E5ECF6",
              "width": 0.5
             },
             "pattern": {
              "fillmode": "overlay",
              "size": 10,
              "solidity": 0.2
             }
            },
            "type": "bar"
           }
          ],
          "barpolar": [
           {
            "marker": {
             "line": {
              "color": "#E5ECF6",
              "width": 0.5
             },
             "pattern": {
              "fillmode": "overlay",
              "size": 10,
              "solidity": 0.2
             }
            },
            "type": "barpolar"
           }
          ],
          "carpet": [
           {
            "aaxis": {
             "endlinecolor": "#2a3f5f",
             "gridcolor": "white",
             "linecolor": "white",
             "minorgridcolor": "white",
             "startlinecolor": "#2a3f5f"
            },
            "baxis": {
             "endlinecolor": "#2a3f5f",
             "gridcolor": "white",
             "linecolor": "white",
             "minorgridcolor": "white",
             "startlinecolor": "#2a3f5f"
            },
            "type": "carpet"
           }
          ],
          "choropleth": [
           {
            "colorbar": {
             "outlinewidth": 0,
             "ticks": ""
            },
            "type": "choropleth"
           }
          ],
          "contour": [
           {
            "colorbar": {
             "outlinewidth": 0,
             "ticks": ""
            },
            "colorscale": [
             [
              0,
              "#0d0887"
             ],
             [
              0.1111111111111111,
              "#46039f"
             ],
             [
              0.2222222222222222,
              "#7201a8"
             ],
             [
              0.3333333333333333,
              "#9c179e"
             ],
             [
              0.4444444444444444,
              "#bd3786"
             ],
             [
              0.5555555555555556,
              "#d8576b"
             ],
             [
              0.6666666666666666,
              "#ed7953"
             ],
             [
              0.7777777777777778,
              "#fb9f3a"
             ],
             [
              0.8888888888888888,
              "#fdca26"
             ],
             [
              1,
              "#f0f921"
             ]
            ],
            "type": "contour"
           }
          ],
          "contourcarpet": [
           {
            "colorbar": {
             "outlinewidth": 0,
             "ticks": ""
            },
            "type": "contourcarpet"
           }
          ],
          "heatmap": [
           {
            "colorbar": {
             "outlinewidth": 0,
             "ticks": ""
            },
            "colorscale": [
             [
              0,
              "#0d0887"
             ],
             [
              0.1111111111111111,
              "#46039f"
             ],
             [
              0.2222222222222222,
              "#7201a8"
             ],
             [
              0.3333333333333333,
              "#9c179e"
             ],
             [
              0.4444444444444444,
              "#bd3786"
             ],
             [
              0.5555555555555556,
              "#d8576b"
             ],
             [
              0.6666666666666666,
              "#ed7953"
             ],
             [
              0.7777777777777778,
              "#fb9f3a"
             ],
             [
              0.8888888888888888,
              "#fdca26"
             ],
             [
              1,
              "#f0f921"
             ]
            ],
            "type": "heatmap"
           }
          ],
          "heatmapgl": [
           {
            "colorbar": {
             "outlinewidth": 0,
             "ticks": ""
            },
            "colorscale": [
             [
              0,
              "#0d0887"
             ],
             [
              0.1111111111111111,
              "#46039f"
             ],
             [
              0.2222222222222222,
              "#7201a8"
             ],
             [
              0.3333333333333333,
              "#9c179e"
             ],
             [
              0.4444444444444444,
              "#bd3786"
             ],
             [
              0.5555555555555556,
              "#d8576b"
             ],
             [
              0.6666666666666666,
              "#ed7953"
             ],
             [
              0.7777777777777778,
              "#fb9f3a"
             ],
             [
              0.8888888888888888,
              "#fdca26"
             ],
             [
              1,
              "#f0f921"
             ]
            ],
            "type": "heatmapgl"
           }
          ],
          "histogram": [
           {
            "marker": {
             "pattern": {
              "fillmode": "overlay",
              "size": 10,
              "solidity": 0.2
             }
            },
            "type": "histogram"
           }
          ],
          "histogram2d": [
           {
            "colorbar": {
             "outlinewidth": 0,
             "ticks": ""
            },
            "colorscale": [
             [
              0,
              "#0d0887"
             ],
             [
              0.1111111111111111,
              "#46039f"
             ],
             [
              0.2222222222222222,
              "#7201a8"
             ],
             [
              0.3333333333333333,
              "#9c179e"
             ],
             [
              0.4444444444444444,
              "#bd3786"
             ],
             [
              0.5555555555555556,
              "#d8576b"
             ],
             [
              0.6666666666666666,
              "#ed7953"
             ],
             [
              0.7777777777777778,
              "#fb9f3a"
             ],
             [
              0.8888888888888888,
              "#fdca26"
             ],
             [
              1,
              "#f0f921"
             ]
            ],
            "type": "histogram2d"
           }
          ],
          "histogram2dcontour": [
           {
            "colorbar": {
             "outlinewidth": 0,
             "ticks": ""
            },
            "colorscale": [
             [
              0,
              "#0d0887"
             ],
             [
              0.1111111111111111,
              "#46039f"
             ],
             [
              0.2222222222222222,
              "#7201a8"
             ],
             [
              0.3333333333333333,
              "#9c179e"
             ],
             [
              0.4444444444444444,
              "#bd3786"
             ],
             [
              0.5555555555555556,
              "#d8576b"
             ],
             [
              0.6666666666666666,
              "#ed7953"
             ],
             [
              0.7777777777777778,
              "#fb9f3a"
             ],
             [
              0.8888888888888888,
              "#fdca26"
             ],
             [
              1,
              "#f0f921"
             ]
            ],
            "type": "histogram2dcontour"
           }
          ],
          "mesh3d": [
           {
            "colorbar": {
             "outlinewidth": 0,
             "ticks": ""
            },
            "type": "mesh3d"
           }
          ],
          "parcoords": [
           {
            "line": {
             "colorbar": {
              "outlinewidth": 0,
              "ticks": ""
             }
            },
            "type": "parcoords"
           }
          ],
          "pie": [
           {
            "automargin": true,
            "type": "pie"
           }
          ],
          "scatter": [
           {
            "fillpattern": {
             "fillmode": "overlay",
             "size": 10,
             "solidity": 0.2
            },
            "type": "scatter"
           }
          ],
          "scatter3d": [
           {
            "line": {
             "colorbar": {
              "outlinewidth": 0,
              "ticks": ""
             }
            },
            "marker": {
             "colorbar": {
              "outlinewidth": 0,
              "ticks": ""
             }
            },
            "type": "scatter3d"
           }
          ],
          "scattercarpet": [
           {
            "marker": {
             "colorbar": {
              "outlinewidth": 0,
              "ticks": ""
             }
            },
            "type": "scattercarpet"
           }
          ],
          "scattergeo": [
           {
            "marker": {
             "colorbar": {
              "outlinewidth": 0,
              "ticks": ""
             }
            },
            "type": "scattergeo"
           }
          ],
          "scattergl": [
           {
            "marker": {
             "colorbar": {
              "outlinewidth": 0,
              "ticks": ""
             }
            },
            "type": "scattergl"
           }
          ],
          "scattermapbox": [
           {
            "marker": {
             "colorbar": {
              "outlinewidth": 0,
              "ticks": ""
             }
            },
            "type": "scattermapbox"
           }
          ],
          "scatterpolar": [
           {
            "marker": {
             "colorbar": {
              "outlinewidth": 0,
              "ticks": ""
             }
            },
            "type": "scatterpolar"
           }
          ],
          "scatterpolargl": [
           {
            "marker": {
             "colorbar": {
              "outlinewidth": 0,
              "ticks": ""
             }
            },
            "type": "scatterpolargl"
           }
          ],
          "scatterternary": [
           {
            "marker": {
             "colorbar": {
              "outlinewidth": 0,
              "ticks": ""
             }
            },
            "type": "scatterternary"
           }
          ],
          "surface": [
           {
            "colorbar": {
             "outlinewidth": 0,
             "ticks": ""
            },
            "colorscale": [
             [
              0,
              "#0d0887"
             ],
             [
              0.1111111111111111,
              "#46039f"
             ],
             [
              0.2222222222222222,
              "#7201a8"
             ],
             [
              0.3333333333333333,
              "#9c179e"
             ],
             [
              0.4444444444444444,
              "#bd3786"
             ],
             [
              0.5555555555555556,
              "#d8576b"
             ],
             [
              0.6666666666666666,
              "#ed7953"
             ],
             [
              0.7777777777777778,
              "#fb9f3a"
             ],
             [
              0.8888888888888888,
              "#fdca26"
             ],
             [
              1,
              "#f0f921"
             ]
            ],
            "type": "surface"
           }
          ],
          "table": [
           {
            "cells": {
             "fill": {
              "color": "#EBF0F8"
             },
             "line": {
              "color": "white"
             }
            },
            "header": {
             "fill": {
              "color": "#C8D4E3"
             },
             "line": {
              "color": "white"
             }
            },
            "type": "table"
           }
          ]
         },
         "layout": {
          "annotationdefaults": {
           "arrowcolor": "#2a3f5f",
           "arrowhead": 0,
           "arrowwidth": 1
          },
          "autotypenumbers": "strict",
          "coloraxis": {
           "colorbar": {
            "outlinewidth": 0,
            "ticks": ""
           }
          },
          "colorscale": {
           "diverging": [
            [
             0,
             "#8e0152"
            ],
            [
             0.1,
             "#c51b7d"
            ],
            [
             0.2,
             "#de77ae"
            ],
            [
             0.3,
             "#f1b6da"
            ],
            [
             0.4,
             "#fde0ef"
            ],
            [
             0.5,
             "#f7f7f7"
            ],
            [
             0.6,
             "#e6f5d0"
            ],
            [
             0.7,
             "#b8e186"
            ],
            [
             0.8,
             "#7fbc41"
            ],
            [
             0.9,
             "#4d9221"
            ],
            [
             1,
             "#276419"
            ]
           ],
           "sequential": [
            [
             0,
             "#0d0887"
            ],
            [
             0.1111111111111111,
             "#46039f"
            ],
            [
             0.2222222222222222,
             "#7201a8"
            ],
            [
             0.3333333333333333,
             "#9c179e"
            ],
            [
             0.4444444444444444,
             "#bd3786"
            ],
            [
             0.5555555555555556,
             "#d8576b"
            ],
            [
             0.6666666666666666,
             "#ed7953"
            ],
            [
             0.7777777777777778,
             "#fb9f3a"
            ],
            [
             0.8888888888888888,
             "#fdca26"
            ],
            [
             1,
             "#f0f921"
            ]
           ],
           "sequentialminus": [
            [
             0,
             "#0d0887"
            ],
            [
             0.1111111111111111,
             "#46039f"
            ],
            [
             0.2222222222222222,
             "#7201a8"
            ],
            [
             0.3333333333333333,
             "#9c179e"
            ],
            [
             0.4444444444444444,
             "#bd3786"
            ],
            [
             0.5555555555555556,
             "#d8576b"
            ],
            [
             0.6666666666666666,
             "#ed7953"
            ],
            [
             0.7777777777777778,
             "#fb9f3a"
            ],
            [
             0.8888888888888888,
             "#fdca26"
            ],
            [
             1,
             "#f0f921"
            ]
           ]
          },
          "colorway": [
           "#636efa",
           "#EF553B",
           "#00cc96",
           "#ab63fa",
           "#FFA15A",
           "#19d3f3",
           "#FF6692",
           "#B6E880",
           "#FF97FF",
           "#FECB52"
          ],
          "font": {
           "color": "#2a3f5f"
          },
          "geo": {
           "bgcolor": "white",
           "lakecolor": "white",
           "landcolor": "#E5ECF6",
           "showlakes": true,
           "showland": true,
           "subunitcolor": "white"
          },
          "hoverlabel": {
           "align": "left"
          },
          "hovermode": "closest",
          "mapbox": {
           "style": "light"
          },
          "paper_bgcolor": "white",
          "plot_bgcolor": "#E5ECF6",
          "polar": {
           "angularaxis": {
            "gridcolor": "white",
            "linecolor": "white",
            "ticks": ""
           },
           "bgcolor": "#E5ECF6",
           "radialaxis": {
            "gridcolor": "white",
            "linecolor": "white",
            "ticks": ""
           }
          },
          "scene": {
           "xaxis": {
            "backgroundcolor": "#E5ECF6",
            "gridcolor": "white",
            "gridwidth": 2,
            "linecolor": "white",
            "showbackground": true,
            "ticks": "",
            "zerolinecolor": "white"
           },
           "yaxis": {
            "backgroundcolor": "#E5ECF6",
            "gridcolor": "white",
            "gridwidth": 2,
            "linecolor": "white",
            "showbackground": true,
            "ticks": "",
            "zerolinecolor": "white"
           },
           "zaxis": {
            "backgroundcolor": "#E5ECF6",
            "gridcolor": "white",
            "gridwidth": 2,
            "linecolor": "white",
            "showbackground": true,
            "ticks": "",
            "zerolinecolor": "white"
           }
          },
          "shapedefaults": {
           "line": {
            "color": "#2a3f5f"
           }
          },
          "ternary": {
           "aaxis": {
            "gridcolor": "white",
            "linecolor": "white",
            "ticks": ""
           },
           "baxis": {
            "gridcolor": "white",
            "linecolor": "white",
            "ticks": ""
           },
           "bgcolor": "#E5ECF6",
           "caxis": {
            "gridcolor": "white",
            "linecolor": "white",
            "ticks": ""
           }
          },
          "title": {
           "x": 0.05
          },
          "xaxis": {
           "automargin": true,
           "gridcolor": "white",
           "linecolor": "white",
           "ticks": "",
           "title": {
            "standoff": 15
           },
           "zerolinecolor": "white",
           "zerolinewidth": 2
          },
          "yaxis": {
           "automargin": true,
           "gridcolor": "white",
           "linecolor": "white",
           "ticks": "",
           "title": {
            "standoff": 15
           },
           "zerolinecolor": "white",
           "zerolinewidth": 2
          }
         }
        },
        "title": {
         "text": "Intervention Type of Competitor Trials"
        }
       }
      }
     },
     "metadata": {},
     "output_type": "display_data"
    }
   ],
   "source": [
    "# Create a new DataFrame by copying competitor_trials_df\n",
    "intervention_df = competitor_trials_df.copy()\n",
    "\n",
    "# Create new column \"Intervention Type\" from the text in the \"Interventions\" column before the first :\n",
    "intervention_df[\"Intervention Type\"] = intervention_df[\"Interventions\"].str.split(\":\").str[0]\n",
    "\n",
    "# Count the number of studies by \"Intervention Type\" - ignore '' and NaN\n",
    "intervention_counts = intervention_df[intervention_df[\"Intervention Type\"] != ''][\"Intervention Type\"].value_counts(dropna=True)\n",
    "\n",
    "\n",
    "import plotly.graph_objects as go\n",
    "\n",
    "# Get the value counts and their index\n",
    "value_counts = intervention_df[intervention_df[\"Intervention Type\"] != ''][\"Intervention Type\"].value_counts(dropna=True)\n",
    "labels = value_counts.index\n",
    "\n",
    "# Create a pie chart\n",
    "fig = go.Figure(data=[go.Pie(labels=labels, values=value_counts, hole=.3)])\n",
    "\n",
    "# Add title\n",
    "fig.update_layout(title_text=\"Intervention Type of Competitor Trials\")\n",
    "\n",
    "# Show the figure\n",
    "fig.show()\n"
   ]
  },
  {
   "cell_type": "code",
   "execution_count": 126,
   "metadata": {},
   "outputs": [
    {
     "data": {
      "application/vnd.plotly.v1+json": {
       "config": {
        "plotlyServerURL": "https://plot.ly"
       },
       "data": [
        {
         "marker": {
          "color": "#add8e6"
         },
         "name": "PHASE1",
         "orientation": "h",
         "type": "bar",
         "x": [
          0,
          6,
          22,
          11,
          7,
          11,
          2,
          42,
          2,
          13,
          6,
          19,
          0,
          8
         ],
         "y": [
          "Abbott Medical Devices",
          "Amgen",
          "AstraZeneca",
          "Bayer",
          "Boehringer Ingelheim",
          "Chong Kun Dang Pharmaceutical",
          "Daewoong Pharmaceutical Co. LTD.",
          "Eli Lilly and Company",
          "Innovent Biologics (Suzhou) Co. Ltd.",
          "Jiangsu HengRui Medicine Co., Ltd.",
          "Novartis Pharmaceuticals",
          "Pfizer",
          "Sanofi",
          "Shandong Suncadia Medicine Co., Ltd."
         ]
        },
        {
         "marker": {
          "color": "#87cefa"
         },
         "name": "PHASE1|PHASE2",
         "orientation": "h",
         "type": "bar",
         "x": [
          0,
          0,
          0,
          0,
          0,
          0,
          0,
          0,
          2,
          0,
          0,
          0,
          0,
          0
         ],
         "y": [
          "Abbott Medical Devices",
          "Amgen",
          "AstraZeneca",
          "Bayer",
          "Boehringer Ingelheim",
          "Chong Kun Dang Pharmaceutical",
          "Daewoong Pharmaceutical Co. LTD.",
          "Eli Lilly and Company",
          "Innovent Biologics (Suzhou) Co. Ltd.",
          "Jiangsu HengRui Medicine Co., Ltd.",
          "Novartis Pharmaceuticals",
          "Pfizer",
          "Sanofi",
          "Shandong Suncadia Medicine Co., Ltd."
         ]
        },
        {
         "marker": {
          "color": "#87ceeb"
         },
         "name": "PHASE2",
         "orientation": "h",
         "type": "bar",
         "x": [
          0,
          1,
          10,
          5,
          4,
          0,
          1,
          14,
          2,
          3,
          2,
          6,
          0,
          4
         ],
         "y": [
          "Abbott Medical Devices",
          "Amgen",
          "AstraZeneca",
          "Bayer",
          "Boehringer Ingelheim",
          "Chong Kun Dang Pharmaceutical",
          "Daewoong Pharmaceutical Co. LTD.",
          "Eli Lilly and Company",
          "Innovent Biologics (Suzhou) Co. Ltd.",
          "Jiangsu HengRui Medicine Co., Ltd.",
          "Novartis Pharmaceuticals",
          "Pfizer",
          "Sanofi",
          "Shandong Suncadia Medicine Co., Ltd."
         ]
        },
        {
         "marker": {
          "color": "#1e90ff"
         },
         "name": "PHASE2|PHASE3",
         "orientation": "h",
         "type": "bar",
         "x": [
          0,
          0,
          1,
          0,
          0,
          0,
          0,
          0,
          0,
          0,
          0,
          0,
          0,
          0
         ],
         "y": [
          "Abbott Medical Devices",
          "Amgen",
          "AstraZeneca",
          "Bayer",
          "Boehringer Ingelheim",
          "Chong Kun Dang Pharmaceutical",
          "Daewoong Pharmaceutical Co. LTD.",
          "Eli Lilly and Company",
          "Innovent Biologics (Suzhou) Co. Ltd.",
          "Jiangsu HengRui Medicine Co., Ltd.",
          "Novartis Pharmaceuticals",
          "Pfizer",
          "Sanofi",
          "Shandong Suncadia Medicine Co., Ltd."
         ]
        },
        {
         "marker": {
          "color": "#4169e1"
         },
         "name": "PHASE3",
         "orientation": "h",
         "type": "bar",
         "x": [
          0,
          1,
          5,
          5,
          9,
          1,
          8,
          43,
          5,
          3,
          7,
          0,
          2,
          0
         ],
         "y": [
          "Abbott Medical Devices",
          "Amgen",
          "AstraZeneca",
          "Bayer",
          "Boehringer Ingelheim",
          "Chong Kun Dang Pharmaceutical",
          "Daewoong Pharmaceutical Co. LTD.",
          "Eli Lilly and Company",
          "Innovent Biologics (Suzhou) Co. Ltd.",
          "Jiangsu HengRui Medicine Co., Ltd.",
          "Novartis Pharmaceuticals",
          "Pfizer",
          "Sanofi",
          "Shandong Suncadia Medicine Co., Ltd."
         ]
        },
        {
         "marker": {
          "color": "#0000ff"
         },
         "name": "PHASE4",
         "orientation": "h",
         "type": "bar",
         "x": [
          0,
          0,
          6,
          2,
          1,
          0,
          0,
          7,
          0,
          0,
          3,
          0,
          5,
          0
         ],
         "y": [
          "Abbott Medical Devices",
          "Amgen",
          "AstraZeneca",
          "Bayer",
          "Boehringer Ingelheim",
          "Chong Kun Dang Pharmaceutical",
          "Daewoong Pharmaceutical Co. LTD.",
          "Eli Lilly and Company",
          "Innovent Biologics (Suzhou) Co. Ltd.",
          "Jiangsu HengRui Medicine Co., Ltd.",
          "Novartis Pharmaceuticals",
          "Pfizer",
          "Sanofi",
          "Shandong Suncadia Medicine Co., Ltd."
         ]
        },
        {
         "marker": {
          "color": "#0000cd"
         },
         "name": "NA",
         "orientation": "h",
         "type": "bar",
         "x": [
          5,
          2,
          0,
          0,
          0,
          0,
          1,
          2,
          0,
          0,
          1,
          1,
          1,
          0
         ],
         "y": [
          "Abbott Medical Devices",
          "Amgen",
          "AstraZeneca",
          "Bayer",
          "Boehringer Ingelheim",
          "Chong Kun Dang Pharmaceutical",
          "Daewoong Pharmaceutical Co. LTD.",
          "Eli Lilly and Company",
          "Innovent Biologics (Suzhou) Co. Ltd.",
          "Jiangsu HengRui Medicine Co., Ltd.",
          "Novartis Pharmaceuticals",
          "Pfizer",
          "Sanofi",
          "Shandong Suncadia Medicine Co., Ltd."
         ]
        },
        {
         "marker": {
          "color": "#00008b"
         },
         "name": "Not Reported",
         "orientation": "h",
         "type": "bar",
         "x": [
          7,
          1,
          25,
          19,
          13,
          0,
          1,
          1,
          0,
          0,
          13,
          1,
          3,
          0
         ],
         "y": [
          "Abbott Medical Devices",
          "Amgen",
          "AstraZeneca",
          "Bayer",
          "Boehringer Ingelheim",
          "Chong Kun Dang Pharmaceutical",
          "Daewoong Pharmaceutical Co. LTD.",
          "Eli Lilly and Company",
          "Innovent Biologics (Suzhou) Co. Ltd.",
          "Jiangsu HengRui Medicine Co., Ltd.",
          "Novartis Pharmaceuticals",
          "Pfizer",
          "Sanofi",
          "Shandong Suncadia Medicine Co., Ltd."
         ]
        }
       ],
       "layout": {
        "barmode": "stack",
        "legend": {
         "traceorder": "normal"
        },
        "template": {
         "data": {
          "bar": [
           {
            "error_x": {
             "color": "#2a3f5f"
            },
            "error_y": {
             "color": "#2a3f5f"
            },
            "marker": {
             "line": {
              "color": "#E5ECF6",
              "width": 0.5
             },
             "pattern": {
              "fillmode": "overlay",
              "size": 10,
              "solidity": 0.2
             }
            },
            "type": "bar"
           }
          ],
          "barpolar": [
           {
            "marker": {
             "line": {
              "color": "#E5ECF6",
              "width": 0.5
             },
             "pattern": {
              "fillmode": "overlay",
              "size": 10,
              "solidity": 0.2
             }
            },
            "type": "barpolar"
           }
          ],
          "carpet": [
           {
            "aaxis": {
             "endlinecolor": "#2a3f5f",
             "gridcolor": "white",
             "linecolor": "white",
             "minorgridcolor": "white",
             "startlinecolor": "#2a3f5f"
            },
            "baxis": {
             "endlinecolor": "#2a3f5f",
             "gridcolor": "white",
             "linecolor": "white",
             "minorgridcolor": "white",
             "startlinecolor": "#2a3f5f"
            },
            "type": "carpet"
           }
          ],
          "choropleth": [
           {
            "colorbar": {
             "outlinewidth": 0,
             "ticks": ""
            },
            "type": "choropleth"
           }
          ],
          "contour": [
           {
            "colorbar": {
             "outlinewidth": 0,
             "ticks": ""
            },
            "colorscale": [
             [
              0,
              "#0d0887"
             ],
             [
              0.1111111111111111,
              "#46039f"
             ],
             [
              0.2222222222222222,
              "#7201a8"
             ],
             [
              0.3333333333333333,
              "#9c179e"
             ],
             [
              0.4444444444444444,
              "#bd3786"
             ],
             [
              0.5555555555555556,
              "#d8576b"
             ],
             [
              0.6666666666666666,
              "#ed7953"
             ],
             [
              0.7777777777777778,
              "#fb9f3a"
             ],
             [
              0.8888888888888888,
              "#fdca26"
             ],
             [
              1,
              "#f0f921"
             ]
            ],
            "type": "contour"
           }
          ],
          "contourcarpet": [
           {
            "colorbar": {
             "outlinewidth": 0,
             "ticks": ""
            },
            "type": "contourcarpet"
           }
          ],
          "heatmap": [
           {
            "colorbar": {
             "outlinewidth": 0,
             "ticks": ""
            },
            "colorscale": [
             [
              0,
              "#0d0887"
             ],
             [
              0.1111111111111111,
              "#46039f"
             ],
             [
              0.2222222222222222,
              "#7201a8"
             ],
             [
              0.3333333333333333,
              "#9c179e"
             ],
             [
              0.4444444444444444,
              "#bd3786"
             ],
             [
              0.5555555555555556,
              "#d8576b"
             ],
             [
              0.6666666666666666,
              "#ed7953"
             ],
             [
              0.7777777777777778,
              "#fb9f3a"
             ],
             [
              0.8888888888888888,
              "#fdca26"
             ],
             [
              1,
              "#f0f921"
             ]
            ],
            "type": "heatmap"
           }
          ],
          "heatmapgl": [
           {
            "colorbar": {
             "outlinewidth": 0,
             "ticks": ""
            },
            "colorscale": [
             [
              0,
              "#0d0887"
             ],
             [
              0.1111111111111111,
              "#46039f"
             ],
             [
              0.2222222222222222,
              "#7201a8"
             ],
             [
              0.3333333333333333,
              "#9c179e"
             ],
             [
              0.4444444444444444,
              "#bd3786"
             ],
             [
              0.5555555555555556,
              "#d8576b"
             ],
             [
              0.6666666666666666,
              "#ed7953"
             ],
             [
              0.7777777777777778,
              "#fb9f3a"
             ],
             [
              0.8888888888888888,
              "#fdca26"
             ],
             [
              1,
              "#f0f921"
             ]
            ],
            "type": "heatmapgl"
           }
          ],
          "histogram": [
           {
            "marker": {
             "pattern": {
              "fillmode": "overlay",
              "size": 10,
              "solidity": 0.2
             }
            },
            "type": "histogram"
           }
          ],
          "histogram2d": [
           {
            "colorbar": {
             "outlinewidth": 0,
             "ticks": ""
            },
            "colorscale": [
             [
              0,
              "#0d0887"
             ],
             [
              0.1111111111111111,
              "#46039f"
             ],
             [
              0.2222222222222222,
              "#7201a8"
             ],
             [
              0.3333333333333333,
              "#9c179e"
             ],
             [
              0.4444444444444444,
              "#bd3786"
             ],
             [
              0.5555555555555556,
              "#d8576b"
             ],
             [
              0.6666666666666666,
              "#ed7953"
             ],
             [
              0.7777777777777778,
              "#fb9f3a"
             ],
             [
              0.8888888888888888,
              "#fdca26"
             ],
             [
              1,
              "#f0f921"
             ]
            ],
            "type": "histogram2d"
           }
          ],
          "histogram2dcontour": [
           {
            "colorbar": {
             "outlinewidth": 0,
             "ticks": ""
            },
            "colorscale": [
             [
              0,
              "#0d0887"
             ],
             [
              0.1111111111111111,
              "#46039f"
             ],
             [
              0.2222222222222222,
              "#7201a8"
             ],
             [
              0.3333333333333333,
              "#9c179e"
             ],
             [
              0.4444444444444444,
              "#bd3786"
             ],
             [
              0.5555555555555556,
              "#d8576b"
             ],
             [
              0.6666666666666666,
              "#ed7953"
             ],
             [
              0.7777777777777778,
              "#fb9f3a"
             ],
             [
              0.8888888888888888,
              "#fdca26"
             ],
             [
              1,
              "#f0f921"
             ]
            ],
            "type": "histogram2dcontour"
           }
          ],
          "mesh3d": [
           {
            "colorbar": {
             "outlinewidth": 0,
             "ticks": ""
            },
            "type": "mesh3d"
           }
          ],
          "parcoords": [
           {
            "line": {
             "colorbar": {
              "outlinewidth": 0,
              "ticks": ""
             }
            },
            "type": "parcoords"
           }
          ],
          "pie": [
           {
            "automargin": true,
            "type": "pie"
           }
          ],
          "scatter": [
           {
            "fillpattern": {
             "fillmode": "overlay",
             "size": 10,
             "solidity": 0.2
            },
            "type": "scatter"
           }
          ],
          "scatter3d": [
           {
            "line": {
             "colorbar": {
              "outlinewidth": 0,
              "ticks": ""
             }
            },
            "marker": {
             "colorbar": {
              "outlinewidth": 0,
              "ticks": ""
             }
            },
            "type": "scatter3d"
           }
          ],
          "scattercarpet": [
           {
            "marker": {
             "colorbar": {
              "outlinewidth": 0,
              "ticks": ""
             }
            },
            "type": "scattercarpet"
           }
          ],
          "scattergeo": [
           {
            "marker": {
             "colorbar": {
              "outlinewidth": 0,
              "ticks": ""
             }
            },
            "type": "scattergeo"
           }
          ],
          "scattergl": [
           {
            "marker": {
             "colorbar": {
              "outlinewidth": 0,
              "ticks": ""
             }
            },
            "type": "scattergl"
           }
          ],
          "scattermapbox": [
           {
            "marker": {
             "colorbar": {
              "outlinewidth": 0,
              "ticks": ""
             }
            },
            "type": "scattermapbox"
           }
          ],
          "scatterpolar": [
           {
            "marker": {
             "colorbar": {
              "outlinewidth": 0,
              "ticks": ""
             }
            },
            "type": "scatterpolar"
           }
          ],
          "scatterpolargl": [
           {
            "marker": {
             "colorbar": {
              "outlinewidth": 0,
              "ticks": ""
             }
            },
            "type": "scatterpolargl"
           }
          ],
          "scatterternary": [
           {
            "marker": {
             "colorbar": {
              "outlinewidth": 0,
              "ticks": ""
             }
            },
            "type": "scatterternary"
           }
          ],
          "surface": [
           {
            "colorbar": {
             "outlinewidth": 0,
             "ticks": ""
            },
            "colorscale": [
             [
              0,
              "#0d0887"
             ],
             [
              0.1111111111111111,
              "#46039f"
             ],
             [
              0.2222222222222222,
              "#7201a8"
             ],
             [
              0.3333333333333333,
              "#9c179e"
             ],
             [
              0.4444444444444444,
              "#bd3786"
             ],
             [
              0.5555555555555556,
              "#d8576b"
             ],
             [
              0.6666666666666666,
              "#ed7953"
             ],
             [
              0.7777777777777778,
              "#fb9f3a"
             ],
             [
              0.8888888888888888,
              "#fdca26"
             ],
             [
              1,
              "#f0f921"
             ]
            ],
            "type": "surface"
           }
          ],
          "table": [
           {
            "cells": {
             "fill": {
              "color": "#EBF0F8"
             },
             "line": {
              "color": "white"
             }
            },
            "header": {
             "fill": {
              "color": "#C8D4E3"
             },
             "line": {
              "color": "white"
             }
            },
            "type": "table"
           }
          ]
         },
         "layout": {
          "annotationdefaults": {
           "arrowcolor": "#2a3f5f",
           "arrowhead": 0,
           "arrowwidth": 1
          },
          "autotypenumbers": "strict",
          "coloraxis": {
           "colorbar": {
            "outlinewidth": 0,
            "ticks": ""
           }
          },
          "colorscale": {
           "diverging": [
            [
             0,
             "#8e0152"
            ],
            [
             0.1,
             "#c51b7d"
            ],
            [
             0.2,
             "#de77ae"
            ],
            [
             0.3,
             "#f1b6da"
            ],
            [
             0.4,
             "#fde0ef"
            ],
            [
             0.5,
             "#f7f7f7"
            ],
            [
             0.6,
             "#e6f5d0"
            ],
            [
             0.7,
             "#b8e186"
            ],
            [
             0.8,
             "#7fbc41"
            ],
            [
             0.9,
             "#4d9221"
            ],
            [
             1,
             "#276419"
            ]
           ],
           "sequential": [
            [
             0,
             "#0d0887"
            ],
            [
             0.1111111111111111,
             "#46039f"
            ],
            [
             0.2222222222222222,
             "#7201a8"
            ],
            [
             0.3333333333333333,
             "#9c179e"
            ],
            [
             0.4444444444444444,
             "#bd3786"
            ],
            [
             0.5555555555555556,
             "#d8576b"
            ],
            [
             0.6666666666666666,
             "#ed7953"
            ],
            [
             0.7777777777777778,
             "#fb9f3a"
            ],
            [
             0.8888888888888888,
             "#fdca26"
            ],
            [
             1,
             "#f0f921"
            ]
           ],
           "sequentialminus": [
            [
             0,
             "#0d0887"
            ],
            [
             0.1111111111111111,
             "#46039f"
            ],
            [
             0.2222222222222222,
             "#7201a8"
            ],
            [
             0.3333333333333333,
             "#9c179e"
            ],
            [
             0.4444444444444444,
             "#bd3786"
            ],
            [
             0.5555555555555556,
             "#d8576b"
            ],
            [
             0.6666666666666666,
             "#ed7953"
            ],
            [
             0.7777777777777778,
             "#fb9f3a"
            ],
            [
             0.8888888888888888,
             "#fdca26"
            ],
            [
             1,
             "#f0f921"
            ]
           ]
          },
          "colorway": [
           "#636efa",
           "#EF553B",
           "#00cc96",
           "#ab63fa",
           "#FFA15A",
           "#19d3f3",
           "#FF6692",
           "#B6E880",
           "#FF97FF",
           "#FECB52"
          ],
          "font": {
           "color": "#2a3f5f"
          },
          "geo": {
           "bgcolor": "white",
           "lakecolor": "white",
           "landcolor": "#E5ECF6",
           "showlakes": true,
           "showland": true,
           "subunitcolor": "white"
          },
          "hoverlabel": {
           "align": "left"
          },
          "hovermode": "closest",
          "mapbox": {
           "style": "light"
          },
          "paper_bgcolor": "white",
          "plot_bgcolor": "#E5ECF6",
          "polar": {
           "angularaxis": {
            "gridcolor": "white",
            "linecolor": "white",
            "ticks": ""
           },
           "bgcolor": "#E5ECF6",
           "radialaxis": {
            "gridcolor": "white",
            "linecolor": "white",
            "ticks": ""
           }
          },
          "scene": {
           "xaxis": {
            "backgroundcolor": "#E5ECF6",
            "gridcolor": "white",
            "gridwidth": 2,
            "linecolor": "white",
            "showbackground": true,
            "ticks": "",
            "zerolinecolor": "white"
           },
           "yaxis": {
            "backgroundcolor": "#E5ECF6",
            "gridcolor": "white",
            "gridwidth": 2,
            "linecolor": "white",
            "showbackground": true,
            "ticks": "",
            "zerolinecolor": "white"
           },
           "zaxis": {
            "backgroundcolor": "#E5ECF6",
            "gridcolor": "white",
            "gridwidth": 2,
            "linecolor": "white",
            "showbackground": true,
            "ticks": "",
            "zerolinecolor": "white"
           }
          },
          "shapedefaults": {
           "line": {
            "color": "#2a3f5f"
           }
          },
          "ternary": {
           "aaxis": {
            "gridcolor": "white",
            "linecolor": "white",
            "ticks": ""
           },
           "baxis": {
            "gridcolor": "white",
            "linecolor": "white",
            "ticks": ""
           },
           "bgcolor": "#E5ECF6",
           "caxis": {
            "gridcolor": "white",
            "linecolor": "white",
            "ticks": ""
           }
          },
          "title": {
           "x": 0.05
          },
          "xaxis": {
           "automargin": true,
           "gridcolor": "white",
           "linecolor": "white",
           "ticks": "",
           "title": {
            "standoff": 15
           },
           "zerolinecolor": "white",
           "zerolinewidth": 2
          },
          "yaxis": {
           "automargin": true,
           "gridcolor": "white",
           "linecolor": "white",
           "ticks": "",
           "title": {
            "standoff": 15
           },
           "zerolinecolor": "white",
           "zerolinewidth": 2
          }
         }
        },
        "title": {
         "text": "Number of Trials by Competitor and Phase"
        },
        "xaxis": {
         "title": {
          "text": "Number of Trials"
         }
        },
        "yaxis": {
         "title": {
          "text": "Competitor"
         }
        }
       }
      }
     },
     "metadata": {},
     "output_type": "display_data"
    }
   ],
   "source": [
    "import plotly.graph_objects as go\n",
    "\n",
    "# Create a copy of the DataFrame\n",
    "df_copy = competitor_trials_df.copy()\n",
    "\n",
    "# Replace empty strings in 'Phases' column with 'Not Reported'\n",
    "df_copy['Phases'] = df_copy['Phases'].replace('', 'Not Reported')\n",
    "\n",
    "# Create a pivot table with 'Sponsor' as index, 'Phases' as columns, and count of trials as values\n",
    "pivot_table = df_copy.pivot_table(index='Sponsor', columns='Phases', aggfunc='size', fill_value=0)\n",
    "\n",
    "# Define the desired order\n",
    "order = ['PHASE1', 'PHASE1|PHASE2', 'PHASE2', 'PHASE2|PHASE3', 'PHASE3', 'PHASE4', 'NA', 'Not Reported']\n",
    "\n",
    "# Reorder the columns of the pivot table\n",
    "pivot_table = pivot_table[order]\n",
    "\n",
    "# Define the color gradient\n",
    "colors = ['#add8e6', '#87cefa', '#87ceeb', '#1e90ff', '#4169e1', '#0000ff', '#0000cd', '#00008b']\n",
    "\n",
    "# Create a list of traces, one for each phase\n",
    "traces = [go.Bar(name=phase, y=pivot_table.index, x=pivot_table[phase], orientation='h', marker_color=color) \n",
    "          for phase, color in zip(pivot_table.columns, colors)]\n",
    "\n",
    "# Create a layout for the plot\n",
    "layout = go.Layout(\n",
    "    title=\"Number of Trials by Competitor and Phase\",\n",
    "    xaxis_title=\"Number of Trials\",\n",
    "    yaxis_title=\"Competitor\",\n",
    "    barmode='stack'\n",
    ")\n",
    "\n",
    "# Create a Figure and add the traces\n",
    "fig = go.Figure(data=traces, layout=layout)\n",
    "\n",
    "fig.update_layout(legend_traceorder=\"normal\")\n",
    "\n",
    "# Show the figure\n",
    "fig.show()"
   ]
  },
  {
   "cell_type": "code",
   "execution_count": 136,
   "metadata": {},
   "outputs": [
    {
     "name": "stderr",
     "output_type": "stream",
     "text": [
      "/var/folders/kd/cqrkyndx05bfj15gr0nm95t40000gn/T/ipykernel_73708/2586106016.py:23: SettingWithCopyWarning:\n",
      "\n",
      "\n",
      "A value is trying to be set on a copy of a slice from a DataFrame.\n",
      "Try using .loc[row_indexer,col_indexer] = value instead\n",
      "\n",
      "See the caveats in the documentation: https://pandas.pydata.org/pandas-docs/stable/user_guide/indexing.html#returning-a-view-versus-a-copy\n",
      "\n"
     ]
    },
    {
     "data": {
      "application/vnd.plotly.v1+json": {
       "config": {
        "plotlyServerURL": "https://plot.ly"
       },
       "data": [
        {
         "name": "Cardiovascular Disease",
         "orientation": "h",
         "type": "bar",
         "x": [
          6,
          0,
          0,
          1,
          0,
          0,
          3,
          0,
          16,
          2,
          5,
          4,
          14,
          2
         ],
         "y": [
          "Abbott Medical Devices",
          "Daewoong Pharmaceutical Co. LTD.",
          "Innovent Biologics (Suzhou) Co. Ltd.",
          "Sanofi",
          "Chong Kun Dang Pharmaceutical",
          "Shandong Suncadia Medicine Co., Ltd.",
          "Amgen",
          "Jiangsu HengRui Medicine Co., Ltd.",
          "Novartis Pharmaceuticals",
          "Pfizer",
          "Boehringer Ingelheim",
          "Bayer",
          "AstraZeneca",
          "Eli Lilly and Company"
         ]
        },
        {
         "name": "Diabetes",
         "orientation": "h",
         "type": "bar",
         "x": [
          0,
          6,
          5,
          8,
          10,
          7,
          1,
          8,
          0,
          6,
          14,
          14,
          9,
          67
         ],
         "y": [
          "Abbott Medical Devices",
          "Daewoong Pharmaceutical Co. LTD.",
          "Innovent Biologics (Suzhou) Co. Ltd.",
          "Sanofi",
          "Chong Kun Dang Pharmaceutical",
          "Shandong Suncadia Medicine Co., Ltd.",
          "Amgen",
          "Jiangsu HengRui Medicine Co., Ltd.",
          "Novartis Pharmaceuticals",
          "Pfizer",
          "Boehringer Ingelheim",
          "Bayer",
          "AstraZeneca",
          "Eli Lilly and Company"
         ]
        },
        {
         "name": "Endocrine Disorder",
         "orientation": "h",
         "type": "bar",
         "x": [
          0,
          0,
          0,
          0,
          0,
          0,
          0,
          0,
          0,
          0,
          0,
          0,
          1,
          0
         ],
         "y": [
          "Abbott Medical Devices",
          "Daewoong Pharmaceutical Co. LTD.",
          "Innovent Biologics (Suzhou) Co. Ltd.",
          "Sanofi",
          "Chong Kun Dang Pharmaceutical",
          "Shandong Suncadia Medicine Co., Ltd.",
          "Amgen",
          "Jiangsu HengRui Medicine Co., Ltd.",
          "Novartis Pharmaceuticals",
          "Pfizer",
          "Boehringer Ingelheim",
          "Bayer",
          "AstraZeneca",
          "Eli Lilly and Company"
         ]
        },
        {
         "name": "Kidney Disease",
         "orientation": "h",
         "type": "bar",
         "x": [
          0,
          0,
          0,
          0,
          0,
          3,
          0,
          1,
          0,
          0,
          3,
          22,
          20,
          2
         ],
         "y": [
          "Abbott Medical Devices",
          "Daewoong Pharmaceutical Co. LTD.",
          "Innovent Biologics (Suzhou) Co. Ltd.",
          "Sanofi",
          "Chong Kun Dang Pharmaceutical",
          "Shandong Suncadia Medicine Co., Ltd.",
          "Amgen",
          "Jiangsu HengRui Medicine Co., Ltd.",
          "Novartis Pharmaceuticals",
          "Pfizer",
          "Boehringer Ingelheim",
          "Bayer",
          "AstraZeneca",
          "Eli Lilly and Company"
         ]
        },
        {
         "name": "Liver Disease",
         "orientation": "h",
         "type": "bar",
         "x": [
          0,
          0,
          0,
          0,
          0,
          0,
          2,
          5,
          5,
          7,
          0,
          2,
          6,
          0
         ],
         "y": [
          "Abbott Medical Devices",
          "Daewoong Pharmaceutical Co. LTD.",
          "Innovent Biologics (Suzhou) Co. Ltd.",
          "Sanofi",
          "Chong Kun Dang Pharmaceutical",
          "Shandong Suncadia Medicine Co., Ltd.",
          "Amgen",
          "Jiangsu HengRui Medicine Co., Ltd.",
          "Novartis Pharmaceuticals",
          "Pfizer",
          "Boehringer Ingelheim",
          "Bayer",
          "AstraZeneca",
          "Eli Lilly and Company"
         ]
        },
        {
         "name": "Obesity",
         "orientation": "h",
         "type": "bar",
         "x": [
          0,
          0,
          2,
          0,
          0,
          0,
          6,
          1,
          1,
          9,
          15,
          0,
          0,
          72
         ],
         "y": [
          "Abbott Medical Devices",
          "Daewoong Pharmaceutical Co. LTD.",
          "Innovent Biologics (Suzhou) Co. Ltd.",
          "Sanofi",
          "Chong Kun Dang Pharmaceutical",
          "Shandong Suncadia Medicine Co., Ltd.",
          "Amgen",
          "Jiangsu HengRui Medicine Co., Ltd.",
          "Novartis Pharmaceuticals",
          "Pfizer",
          "Boehringer Ingelheim",
          "Bayer",
          "AstraZeneca",
          "Eli Lilly and Company"
         ]
        }
       ],
       "layout": {
        "barmode": "stack",
        "template": {
         "data": {
          "bar": [
           {
            "error_x": {
             "color": "#2a3f5f"
            },
            "error_y": {
             "color": "#2a3f5f"
            },
            "marker": {
             "line": {
              "color": "#E5ECF6",
              "width": 0.5
             },
             "pattern": {
              "fillmode": "overlay",
              "size": 10,
              "solidity": 0.2
             }
            },
            "type": "bar"
           }
          ],
          "barpolar": [
           {
            "marker": {
             "line": {
              "color": "#E5ECF6",
              "width": 0.5
             },
             "pattern": {
              "fillmode": "overlay",
              "size": 10,
              "solidity": 0.2
             }
            },
            "type": "barpolar"
           }
          ],
          "carpet": [
           {
            "aaxis": {
             "endlinecolor": "#2a3f5f",
             "gridcolor": "white",
             "linecolor": "white",
             "minorgridcolor": "white",
             "startlinecolor": "#2a3f5f"
            },
            "baxis": {
             "endlinecolor": "#2a3f5f",
             "gridcolor": "white",
             "linecolor": "white",
             "minorgridcolor": "white",
             "startlinecolor": "#2a3f5f"
            },
            "type": "carpet"
           }
          ],
          "choropleth": [
           {
            "colorbar": {
             "outlinewidth": 0,
             "ticks": ""
            },
            "type": "choropleth"
           }
          ],
          "contour": [
           {
            "colorbar": {
             "outlinewidth": 0,
             "ticks": ""
            },
            "colorscale": [
             [
              0,
              "#0d0887"
             ],
             [
              0.1111111111111111,
              "#46039f"
             ],
             [
              0.2222222222222222,
              "#7201a8"
             ],
             [
              0.3333333333333333,
              "#9c179e"
             ],
             [
              0.4444444444444444,
              "#bd3786"
             ],
             [
              0.5555555555555556,
              "#d8576b"
             ],
             [
              0.6666666666666666,
              "#ed7953"
             ],
             [
              0.7777777777777778,
              "#fb9f3a"
             ],
             [
              0.8888888888888888,
              "#fdca26"
             ],
             [
              1,
              "#f0f921"
             ]
            ],
            "type": "contour"
           }
          ],
          "contourcarpet": [
           {
            "colorbar": {
             "outlinewidth": 0,
             "ticks": ""
            },
            "type": "contourcarpet"
           }
          ],
          "heatmap": [
           {
            "colorbar": {
             "outlinewidth": 0,
             "ticks": ""
            },
            "colorscale": [
             [
              0,
              "#0d0887"
             ],
             [
              0.1111111111111111,
              "#46039f"
             ],
             [
              0.2222222222222222,
              "#7201a8"
             ],
             [
              0.3333333333333333,
              "#9c179e"
             ],
             [
              0.4444444444444444,
              "#bd3786"
             ],
             [
              0.5555555555555556,
              "#d8576b"
             ],
             [
              0.6666666666666666,
              "#ed7953"
             ],
             [
              0.7777777777777778,
              "#fb9f3a"
             ],
             [
              0.8888888888888888,
              "#fdca26"
             ],
             [
              1,
              "#f0f921"
             ]
            ],
            "type": "heatmap"
           }
          ],
          "heatmapgl": [
           {
            "colorbar": {
             "outlinewidth": 0,
             "ticks": ""
            },
            "colorscale": [
             [
              0,
              "#0d0887"
             ],
             [
              0.1111111111111111,
              "#46039f"
             ],
             [
              0.2222222222222222,
              "#7201a8"
             ],
             [
              0.3333333333333333,
              "#9c179e"
             ],
             [
              0.4444444444444444,
              "#bd3786"
             ],
             [
              0.5555555555555556,
              "#d8576b"
             ],
             [
              0.6666666666666666,
              "#ed7953"
             ],
             [
              0.7777777777777778,
              "#fb9f3a"
             ],
             [
              0.8888888888888888,
              "#fdca26"
             ],
             [
              1,
              "#f0f921"
             ]
            ],
            "type": "heatmapgl"
           }
          ],
          "histogram": [
           {
            "marker": {
             "pattern": {
              "fillmode": "overlay",
              "size": 10,
              "solidity": 0.2
             }
            },
            "type": "histogram"
           }
          ],
          "histogram2d": [
           {
            "colorbar": {
             "outlinewidth": 0,
             "ticks": ""
            },
            "colorscale": [
             [
              0,
              "#0d0887"
             ],
             [
              0.1111111111111111,
              "#46039f"
             ],
             [
              0.2222222222222222,
              "#7201a8"
             ],
             [
              0.3333333333333333,
              "#9c179e"
             ],
             [
              0.4444444444444444,
              "#bd3786"
             ],
             [
              0.5555555555555556,
              "#d8576b"
             ],
             [
              0.6666666666666666,
              "#ed7953"
             ],
             [
              0.7777777777777778,
              "#fb9f3a"
             ],
             [
              0.8888888888888888,
              "#fdca26"
             ],
             [
              1,
              "#f0f921"
             ]
            ],
            "type": "histogram2d"
           }
          ],
          "histogram2dcontour": [
           {
            "colorbar": {
             "outlinewidth": 0,
             "ticks": ""
            },
            "colorscale": [
             [
              0,
              "#0d0887"
             ],
             [
              0.1111111111111111,
              "#46039f"
             ],
             [
              0.2222222222222222,
              "#7201a8"
             ],
             [
              0.3333333333333333,
              "#9c179e"
             ],
             [
              0.4444444444444444,
              "#bd3786"
             ],
             [
              0.5555555555555556,
              "#d8576b"
             ],
             [
              0.6666666666666666,
              "#ed7953"
             ],
             [
              0.7777777777777778,
              "#fb9f3a"
             ],
             [
              0.8888888888888888,
              "#fdca26"
             ],
             [
              1,
              "#f0f921"
             ]
            ],
            "type": "histogram2dcontour"
           }
          ],
          "mesh3d": [
           {
            "colorbar": {
             "outlinewidth": 0,
             "ticks": ""
            },
            "type": "mesh3d"
           }
          ],
          "parcoords": [
           {
            "line": {
             "colorbar": {
              "outlinewidth": 0,
              "ticks": ""
             }
            },
            "type": "parcoords"
           }
          ],
          "pie": [
           {
            "automargin": true,
            "type": "pie"
           }
          ],
          "scatter": [
           {
            "fillpattern": {
             "fillmode": "overlay",
             "size": 10,
             "solidity": 0.2
            },
            "type": "scatter"
           }
          ],
          "scatter3d": [
           {
            "line": {
             "colorbar": {
              "outlinewidth": 0,
              "ticks": ""
             }
            },
            "marker": {
             "colorbar": {
              "outlinewidth": 0,
              "ticks": ""
             }
            },
            "type": "scatter3d"
           }
          ],
          "scattercarpet": [
           {
            "marker": {
             "colorbar": {
              "outlinewidth": 0,
              "ticks": ""
             }
            },
            "type": "scattercarpet"
           }
          ],
          "scattergeo": [
           {
            "marker": {
             "colorbar": {
              "outlinewidth": 0,
              "ticks": ""
             }
            },
            "type": "scattergeo"
           }
          ],
          "scattergl": [
           {
            "marker": {
             "colorbar": {
              "outlinewidth": 0,
              "ticks": ""
             }
            },
            "type": "scattergl"
           }
          ],
          "scattermapbox": [
           {
            "marker": {
             "colorbar": {
              "outlinewidth": 0,
              "ticks": ""
             }
            },
            "type": "scattermapbox"
           }
          ],
          "scatterpolar": [
           {
            "marker": {
             "colorbar": {
              "outlinewidth": 0,
              "ticks": ""
             }
            },
            "type": "scatterpolar"
           }
          ],
          "scatterpolargl": [
           {
            "marker": {
             "colorbar": {
              "outlinewidth": 0,
              "ticks": ""
             }
            },
            "type": "scatterpolargl"
           }
          ],
          "scatterternary": [
           {
            "marker": {
             "colorbar": {
              "outlinewidth": 0,
              "ticks": ""
             }
            },
            "type": "scatterternary"
           }
          ],
          "surface": [
           {
            "colorbar": {
             "outlinewidth": 0,
             "ticks": ""
            },
            "colorscale": [
             [
              0,
              "#0d0887"
             ],
             [
              0.1111111111111111,
              "#46039f"
             ],
             [
              0.2222222222222222,
              "#7201a8"
             ],
             [
              0.3333333333333333,
              "#9c179e"
             ],
             [
              0.4444444444444444,
              "#bd3786"
             ],
             [
              0.5555555555555556,
              "#d8576b"
             ],
             [
              0.6666666666666666,
              "#ed7953"
             ],
             [
              0.7777777777777778,
              "#fb9f3a"
             ],
             [
              0.8888888888888888,
              "#fdca26"
             ],
             [
              1,
              "#f0f921"
             ]
            ],
            "type": "surface"
           }
          ],
          "table": [
           {
            "cells": {
             "fill": {
              "color": "#EBF0F8"
             },
             "line": {
              "color": "white"
             }
            },
            "header": {
             "fill": {
              "color": "#C8D4E3"
             },
             "line": {
              "color": "white"
             }
            },
            "type": "table"
           }
          ]
         },
         "layout": {
          "annotationdefaults": {
           "arrowcolor": "#2a3f5f",
           "arrowhead": 0,
           "arrowwidth": 1
          },
          "autotypenumbers": "strict",
          "coloraxis": {
           "colorbar": {
            "outlinewidth": 0,
            "ticks": ""
           }
          },
          "colorscale": {
           "diverging": [
            [
             0,
             "#8e0152"
            ],
            [
             0.1,
             "#c51b7d"
            ],
            [
             0.2,
             "#de77ae"
            ],
            [
             0.3,
             "#f1b6da"
            ],
            [
             0.4,
             "#fde0ef"
            ],
            [
             0.5,
             "#f7f7f7"
            ],
            [
             0.6,
             "#e6f5d0"
            ],
            [
             0.7,
             "#b8e186"
            ],
            [
             0.8,
             "#7fbc41"
            ],
            [
             0.9,
             "#4d9221"
            ],
            [
             1,
             "#276419"
            ]
           ],
           "sequential": [
            [
             0,
             "#0d0887"
            ],
            [
             0.1111111111111111,
             "#46039f"
            ],
            [
             0.2222222222222222,
             "#7201a8"
            ],
            [
             0.3333333333333333,
             "#9c179e"
            ],
            [
             0.4444444444444444,
             "#bd3786"
            ],
            [
             0.5555555555555556,
             "#d8576b"
            ],
            [
             0.6666666666666666,
             "#ed7953"
            ],
            [
             0.7777777777777778,
             "#fb9f3a"
            ],
            [
             0.8888888888888888,
             "#fdca26"
            ],
            [
             1,
             "#f0f921"
            ]
           ],
           "sequentialminus": [
            [
             0,
             "#0d0887"
            ],
            [
             0.1111111111111111,
             "#46039f"
            ],
            [
             0.2222222222222222,
             "#7201a8"
            ],
            [
             0.3333333333333333,
             "#9c179e"
            ],
            [
             0.4444444444444444,
             "#bd3786"
            ],
            [
             0.5555555555555556,
             "#d8576b"
            ],
            [
             0.6666666666666666,
             "#ed7953"
            ],
            [
             0.7777777777777778,
             "#fb9f3a"
            ],
            [
             0.8888888888888888,
             "#fdca26"
            ],
            [
             1,
             "#f0f921"
            ]
           ]
          },
          "colorway": [
           "#636efa",
           "#EF553B",
           "#00cc96",
           "#ab63fa",
           "#FFA15A",
           "#19d3f3",
           "#FF6692",
           "#B6E880",
           "#FF97FF",
           "#FECB52"
          ],
          "font": {
           "color": "#2a3f5f"
          },
          "geo": {
           "bgcolor": "white",
           "lakecolor": "white",
           "landcolor": "#E5ECF6",
           "showlakes": true,
           "showland": true,
           "subunitcolor": "white"
          },
          "hoverlabel": {
           "align": "left"
          },
          "hovermode": "closest",
          "mapbox": {
           "style": "light"
          },
          "paper_bgcolor": "white",
          "plot_bgcolor": "#E5ECF6",
          "polar": {
           "angularaxis": {
            "gridcolor": "white",
            "linecolor": "white",
            "ticks": ""
           },
           "bgcolor": "#E5ECF6",
           "radialaxis": {
            "gridcolor": "white",
            "linecolor": "white",
            "ticks": ""
           }
          },
          "scene": {
           "xaxis": {
            "backgroundcolor": "#E5ECF6",
            "gridcolor": "white",
            "gridwidth": 2,
            "linecolor": "white",
            "showbackground": true,
            "ticks": "",
            "zerolinecolor": "white"
           },
           "yaxis": {
            "backgroundcolor": "#E5ECF6",
            "gridcolor": "white",
            "gridwidth": 2,
            "linecolor": "white",
            "showbackground": true,
            "ticks": "",
            "zerolinecolor": "white"
           },
           "zaxis": {
            "backgroundcolor": "#E5ECF6",
            "gridcolor": "white",
            "gridwidth": 2,
            "linecolor": "white",
            "showbackground": true,
            "ticks": "",
            "zerolinecolor": "white"
           }
          },
          "shapedefaults": {
           "line": {
            "color": "#2a3f5f"
           }
          },
          "ternary": {
           "aaxis": {
            "gridcolor": "white",
            "linecolor": "white",
            "ticks": ""
           },
           "baxis": {
            "gridcolor": "white",
            "linecolor": "white",
            "ticks": ""
           },
           "bgcolor": "#E5ECF6",
           "caxis": {
            "gridcolor": "white",
            "linecolor": "white",
            "ticks": ""
           }
          },
          "title": {
           "x": 0.05
          },
          "xaxis": {
           "automargin": true,
           "gridcolor": "white",
           "linecolor": "white",
           "ticks": "",
           "title": {
            "standoff": 15
           },
           "zerolinecolor": "white",
           "zerolinewidth": 2
          },
          "yaxis": {
           "automargin": true,
           "gridcolor": "white",
           "linecolor": "white",
           "ticks": "",
           "title": {
            "standoff": 15
           },
           "zerolinecolor": "white",
           "zerolinewidth": 2
          }
         }
        },
        "title": {
         "text": "Number of Trials by Competitor and Condition"
        },
        "xaxis": {
         "title": {
          "text": "Number of References to Condition in a Trial"
         }
        },
        "yaxis": {
         "title": {
          "text": "Sponsor"
         }
        }
       }
      }
     },
     "metadata": {},
     "output_type": "display_data"
    }
   ],
   "source": [
    "import plotly.graph_objects as go\n",
    "\n",
    "# Explode conditions by and group then visualise references to the conditions in the trials by competitor\n",
    "\n",
    "\n",
    "def map_conditions(df, column, json_path):\n",
    "    # Read the JSON file into a dictionary\n",
    "    with open(json_path, 'r') as file:\n",
    "        condition_groups = json.load(file)\n",
    "\n",
    "    # Create a new column in the DataFrame that contains the group names\n",
    "    df['Group'] = df[column].map(condition_groups)\n",
    "\n",
    "    # If a condition is not in the dictionary, fill it with \"Other\"\n",
    "    df['Group'] = df['Group'].fillna('Other')\n",
    "\n",
    "    return df\n",
    "\n",
    "\n",
    "competitor_trials_one_cond = competitor_trials_df[[\"NCT Number\",\"Sponsor\", \"Conditions\"]]\n",
    "\n",
    "# Split the \"Conditions\" column by \"|\" and create a new row for each string in the split\n",
    "competitor_trials_one_cond['Condition'] = competitor_trials_one_cond ['Conditions'].str.split('|')\n",
    "competitor_trials_one_cond = competitor_trials_one_cond.explode('Condition')\n",
    "\n",
    "# Filter competitor_trials_one_cond for conditions in the list conditions\n",
    "competitor_trials_one_cond = competitor_trials_one_cond[competitor_trials_one_cond[\"Condition\"].isin(conditions)]\n",
    "\n",
    "competitor_trials_one_cond = map_conditions(competitor_trials_one_cond, 'Condition', 'cached_data/condition_groups.json')\n",
    "\n",
    "\n",
    "# create a stacked bar chart of the data using seaborn with the count of the sponsors coloured by condition\n",
    "pivot_table = competitor_trials_one_cond.pivot_table(index='Sponsor', columns='Group', aggfunc='size', fill_value=0)\n",
    "\n",
    "# Sort the pivot table by the sum of the rows in ascending order\n",
    "pivot_table = pivot_table.reindex(pivot_table.sum(axis=1).sort_values(ascending=True).index)\n",
    "\n",
    "# Create a list of traces, one for each condition group\n",
    "traces = [go.Bar(name=group, y=pivot_table.index, x=pivot_table[group], orientation='h') \n",
    "          for group in pivot_table.columns]\n",
    "\n",
    "# Create a layout for the plot\n",
    "layout = go.Layout(\n",
    "    title=\"Number of Trials by Competitor and Condition\",\n",
    "    xaxis_title=\"Number of References to Condition in a Trial\",\n",
    "    yaxis_title=\"Sponsor\",\n",
    "    barmode='stack'\n",
    ")\n",
    "\n",
    "# Create a Figure and add the traces\n",
    "fig = go.Figure(data=traces, layout=layout)\n",
    "\n",
    "# Show the figure\n",
    "fig.show()"
   ]
  },
  {
   "cell_type": "code",
   "execution_count": 156,
   "metadata": {},
   "outputs": [
    {
     "data": {
      "application/vnd.plotly.v1+json": {
       "config": {
        "plotlyServerURL": "https://plot.ly"
       },
       "data": [
        {
         "hovertemplate": "Group=Cardiovascular Disease<br>Year=%{x}<br>Number of Studies=%{y}<extra></extra>",
         "legendgroup": "Cardiovascular Disease",
         "line": {
          "color": "#636efa",
          "dash": "solid"
         },
         "marker": {
          "symbol": "circle"
         },
         "mode": "lines",
         "name": "Cardiovascular Disease",
         "orientation": "v",
         "showlegend": true,
         "type": "scatter",
         "x": [
          2019,
          2020,
          2021,
          2022,
          2023,
          2024,
          2025,
          2026,
          2027,
          2028,
          2029
         ],
         "xaxis": "x",
         "y": [
          2,
          16,
          27,
          34,
          34,
          25,
          15,
          8,
          3,
          1,
          1
         ],
         "yaxis": "y"
        },
        {
         "hovertemplate": "Group=Diabetes<br>Year=%{x}<br>Number of Studies=%{y}<extra></extra>",
         "legendgroup": "Diabetes",
         "line": {
          "color": "#EF553B",
          "dash": "solid"
         },
         "marker": {
          "symbol": "circle"
         },
         "mode": "lines",
         "name": "Diabetes",
         "orientation": "v",
         "showlegend": true,
         "type": "scatter",
         "x": [
          2019,
          2020,
          2021,
          2022,
          2023,
          2024,
          2025,
          2026,
          2027,
          2028
         ],
         "xaxis": "x",
         "y": [
          15,
          47,
          62,
          60,
          79,
          61,
          31,
          9,
          3,
          1
         ],
         "yaxis": "y"
        },
        {
         "hovertemplate": "Group=Endocrine Disorder<br>Year=%{x}<br>Number of Studies=%{y}<extra></extra>",
         "legendgroup": "Endocrine Disorder",
         "line": {
          "color": "#00cc96",
          "dash": "solid"
         },
         "marker": {
          "symbol": "circle"
         },
         "mode": "lines",
         "name": "Endocrine Disorder",
         "orientation": "v",
         "showlegend": true,
         "type": "scatter",
         "x": [
          2023,
          2024,
          2025
         ],
         "xaxis": "x",
         "y": [
          1,
          1,
          1
         ],
         "yaxis": "y"
        },
        {
         "hovertemplate": "Group=Kidney Disease<br>Year=%{x}<br>Number of Studies=%{y}<extra></extra>",
         "legendgroup": "Kidney Disease",
         "line": {
          "color": "#ab63fa",
          "dash": "solid"
         },
         "marker": {
          "symbol": "circle"
         },
         "mode": "lines",
         "name": "Kidney Disease",
         "orientation": "v",
         "showlegend": true,
         "type": "scatter",
         "x": [
          2019,
          2020,
          2021,
          2022,
          2023,
          2024,
          2025,
          2026,
          2027,
          2028
         ],
         "xaxis": "x",
         "y": [
          5,
          9,
          19,
          25,
          28,
          20,
          13,
          5,
          3,
          2
         ],
         "yaxis": "y"
        },
        {
         "hovertemplate": "Group=Liver Disease<br>Year=%{x}<br>Number of Studies=%{y}<extra></extra>",
         "legendgroup": "Liver Disease",
         "line": {
          "color": "#FFA15A",
          "dash": "solid"
         },
         "marker": {
          "symbol": "circle"
         },
         "mode": "lines",
         "name": "Liver Disease",
         "orientation": "v",
         "showlegend": true,
         "type": "scatter",
         "x": [
          2019,
          2020,
          2021,
          2022,
          2023,
          2024,
          2025
         ],
         "xaxis": "x",
         "y": [
          2,
          8,
          12,
          13,
          11,
          6,
          1
         ],
         "yaxis": "y"
        },
        {
         "hovertemplate": "Group=Obesity<br>Year=%{x}<br>Number of Studies=%{y}<extra></extra>",
         "legendgroup": "Obesity",
         "line": {
          "color": "#19d3f3",
          "dash": "solid"
         },
         "marker": {
          "symbol": "circle"
         },
         "mode": "lines",
         "name": "Obesity",
         "orientation": "v",
         "showlegend": true,
         "type": "scatter",
         "x": [
          2019,
          2020,
          2021,
          2022,
          2023,
          2024,
          2025,
          2026,
          2027
         ],
         "xaxis": "x",
         "y": [
          3,
          12,
          28,
          39,
          71,
          67,
          48,
          27,
          4
         ],
         "yaxis": "y"
        }
       ],
       "layout": {
        "legend": {
         "title": {
          "text": "Group"
         },
         "tracegroupgap": 0
        },
        "template": {
         "data": {
          "bar": [
           {
            "error_x": {
             "color": "#2a3f5f"
            },
            "error_y": {
             "color": "#2a3f5f"
            },
            "marker": {
             "line": {
              "color": "#E5ECF6",
              "width": 0.5
             },
             "pattern": {
              "fillmode": "overlay",
              "size": 10,
              "solidity": 0.2
             }
            },
            "type": "bar"
           }
          ],
          "barpolar": [
           {
            "marker": {
             "line": {
              "color": "#E5ECF6",
              "width": 0.5
             },
             "pattern": {
              "fillmode": "overlay",
              "size": 10,
              "solidity": 0.2
             }
            },
            "type": "barpolar"
           }
          ],
          "carpet": [
           {
            "aaxis": {
             "endlinecolor": "#2a3f5f",
             "gridcolor": "white",
             "linecolor": "white",
             "minorgridcolor": "white",
             "startlinecolor": "#2a3f5f"
            },
            "baxis": {
             "endlinecolor": "#2a3f5f",
             "gridcolor": "white",
             "linecolor": "white",
             "minorgridcolor": "white",
             "startlinecolor": "#2a3f5f"
            },
            "type": "carpet"
           }
          ],
          "choropleth": [
           {
            "colorbar": {
             "outlinewidth": 0,
             "ticks": ""
            },
            "type": "choropleth"
           }
          ],
          "contour": [
           {
            "colorbar": {
             "outlinewidth": 0,
             "ticks": ""
            },
            "colorscale": [
             [
              0,
              "#0d0887"
             ],
             [
              0.1111111111111111,
              "#46039f"
             ],
             [
              0.2222222222222222,
              "#7201a8"
             ],
             [
              0.3333333333333333,
              "#9c179e"
             ],
             [
              0.4444444444444444,
              "#bd3786"
             ],
             [
              0.5555555555555556,
              "#d8576b"
             ],
             [
              0.6666666666666666,
              "#ed7953"
             ],
             [
              0.7777777777777778,
              "#fb9f3a"
             ],
             [
              0.8888888888888888,
              "#fdca26"
             ],
             [
              1,
              "#f0f921"
             ]
            ],
            "type": "contour"
           }
          ],
          "contourcarpet": [
           {
            "colorbar": {
             "outlinewidth": 0,
             "ticks": ""
            },
            "type": "contourcarpet"
           }
          ],
          "heatmap": [
           {
            "colorbar": {
             "outlinewidth": 0,
             "ticks": ""
            },
            "colorscale": [
             [
              0,
              "#0d0887"
             ],
             [
              0.1111111111111111,
              "#46039f"
             ],
             [
              0.2222222222222222,
              "#7201a8"
             ],
             [
              0.3333333333333333,
              "#9c179e"
             ],
             [
              0.4444444444444444,
              "#bd3786"
             ],
             [
              0.5555555555555556,
              "#d8576b"
             ],
             [
              0.6666666666666666,
              "#ed7953"
             ],
             [
              0.7777777777777778,
              "#fb9f3a"
             ],
             [
              0.8888888888888888,
              "#fdca26"
             ],
             [
              1,
              "#f0f921"
             ]
            ],
            "type": "heatmap"
           }
          ],
          "heatmapgl": [
           {
            "colorbar": {
             "outlinewidth": 0,
             "ticks": ""
            },
            "colorscale": [
             [
              0,
              "#0d0887"
             ],
             [
              0.1111111111111111,
              "#46039f"
             ],
             [
              0.2222222222222222,
              "#7201a8"
             ],
             [
              0.3333333333333333,
              "#9c179e"
             ],
             [
              0.4444444444444444,
              "#bd3786"
             ],
             [
              0.5555555555555556,
              "#d8576b"
             ],
             [
              0.6666666666666666,
              "#ed7953"
             ],
             [
              0.7777777777777778,
              "#fb9f3a"
             ],
             [
              0.8888888888888888,
              "#fdca26"
             ],
             [
              1,
              "#f0f921"
             ]
            ],
            "type": "heatmapgl"
           }
          ],
          "histogram": [
           {
            "marker": {
             "pattern": {
              "fillmode": "overlay",
              "size": 10,
              "solidity": 0.2
             }
            },
            "type": "histogram"
           }
          ],
          "histogram2d": [
           {
            "colorbar": {
             "outlinewidth": 0,
             "ticks": ""
            },
            "colorscale": [
             [
              0,
              "#0d0887"
             ],
             [
              0.1111111111111111,
              "#46039f"
             ],
             [
              0.2222222222222222,
              "#7201a8"
             ],
             [
              0.3333333333333333,
              "#9c179e"
             ],
             [
              0.4444444444444444,
              "#bd3786"
             ],
             [
              0.5555555555555556,
              "#d8576b"
             ],
             [
              0.6666666666666666,
              "#ed7953"
             ],
             [
              0.7777777777777778,
              "#fb9f3a"
             ],
             [
              0.8888888888888888,
              "#fdca26"
             ],
             [
              1,
              "#f0f921"
             ]
            ],
            "type": "histogram2d"
           }
          ],
          "histogram2dcontour": [
           {
            "colorbar": {
             "outlinewidth": 0,
             "ticks": ""
            },
            "colorscale": [
             [
              0,
              "#0d0887"
             ],
             [
              0.1111111111111111,
              "#46039f"
             ],
             [
              0.2222222222222222,
              "#7201a8"
             ],
             [
              0.3333333333333333,
              "#9c179e"
             ],
             [
              0.4444444444444444,
              "#bd3786"
             ],
             [
              0.5555555555555556,
              "#d8576b"
             ],
             [
              0.6666666666666666,
              "#ed7953"
             ],
             [
              0.7777777777777778,
              "#fb9f3a"
             ],
             [
              0.8888888888888888,
              "#fdca26"
             ],
             [
              1,
              "#f0f921"
             ]
            ],
            "type": "histogram2dcontour"
           }
          ],
          "mesh3d": [
           {
            "colorbar": {
             "outlinewidth": 0,
             "ticks": ""
            },
            "type": "mesh3d"
           }
          ],
          "parcoords": [
           {
            "line": {
             "colorbar": {
              "outlinewidth": 0,
              "ticks": ""
             }
            },
            "type": "parcoords"
           }
          ],
          "pie": [
           {
            "automargin": true,
            "type": "pie"
           }
          ],
          "scatter": [
           {
            "fillpattern": {
             "fillmode": "overlay",
             "size": 10,
             "solidity": 0.2
            },
            "type": "scatter"
           }
          ],
          "scatter3d": [
           {
            "line": {
             "colorbar": {
              "outlinewidth": 0,
              "ticks": ""
             }
            },
            "marker": {
             "colorbar": {
              "outlinewidth": 0,
              "ticks": ""
             }
            },
            "type": "scatter3d"
           }
          ],
          "scattercarpet": [
           {
            "marker": {
             "colorbar": {
              "outlinewidth": 0,
              "ticks": ""
             }
            },
            "type": "scattercarpet"
           }
          ],
          "scattergeo": [
           {
            "marker": {
             "colorbar": {
              "outlinewidth": 0,
              "ticks": ""
             }
            },
            "type": "scattergeo"
           }
          ],
          "scattergl": [
           {
            "marker": {
             "colorbar": {
              "outlinewidth": 0,
              "ticks": ""
             }
            },
            "type": "scattergl"
           }
          ],
          "scattermapbox": [
           {
            "marker": {
             "colorbar": {
              "outlinewidth": 0,
              "ticks": ""
             }
            },
            "type": "scattermapbox"
           }
          ],
          "scatterpolar": [
           {
            "marker": {
             "colorbar": {
              "outlinewidth": 0,
              "ticks": ""
             }
            },
            "type": "scatterpolar"
           }
          ],
          "scatterpolargl": [
           {
            "marker": {
             "colorbar": {
              "outlinewidth": 0,
              "ticks": ""
             }
            },
            "type": "scatterpolargl"
           }
          ],
          "scatterternary": [
           {
            "marker": {
             "colorbar": {
              "outlinewidth": 0,
              "ticks": ""
             }
            },
            "type": "scatterternary"
           }
          ],
          "surface": [
           {
            "colorbar": {
             "outlinewidth": 0,
             "ticks": ""
            },
            "colorscale": [
             [
              0,
              "#0d0887"
             ],
             [
              0.1111111111111111,
              "#46039f"
             ],
             [
              0.2222222222222222,
              "#7201a8"
             ],
             [
              0.3333333333333333,
              "#9c179e"
             ],
             [
              0.4444444444444444,
              "#bd3786"
             ],
             [
              0.5555555555555556,
              "#d8576b"
             ],
             [
              0.6666666666666666,
              "#ed7953"
             ],
             [
              0.7777777777777778,
              "#fb9f3a"
             ],
             [
              0.8888888888888888,
              "#fdca26"
             ],
             [
              1,
              "#f0f921"
             ]
            ],
            "type": "surface"
           }
          ],
          "table": [
           {
            "cells": {
             "fill": {
              "color": "#EBF0F8"
             },
             "line": {
              "color": "white"
             }
            },
            "header": {
             "fill": {
              "color": "#C8D4E3"
             },
             "line": {
              "color": "white"
             }
            },
            "type": "table"
           }
          ]
         },
         "layout": {
          "annotationdefaults": {
           "arrowcolor": "#2a3f5f",
           "arrowhead": 0,
           "arrowwidth": 1
          },
          "autotypenumbers": "strict",
          "coloraxis": {
           "colorbar": {
            "outlinewidth": 0,
            "ticks": ""
           }
          },
          "colorscale": {
           "diverging": [
            [
             0,
             "#8e0152"
            ],
            [
             0.1,
             "#c51b7d"
            ],
            [
             0.2,
             "#de77ae"
            ],
            [
             0.3,
             "#f1b6da"
            ],
            [
             0.4,
             "#fde0ef"
            ],
            [
             0.5,
             "#f7f7f7"
            ],
            [
             0.6,
             "#e6f5d0"
            ],
            [
             0.7,
             "#b8e186"
            ],
            [
             0.8,
             "#7fbc41"
            ],
            [
             0.9,
             "#4d9221"
            ],
            [
             1,
             "#276419"
            ]
           ],
           "sequential": [
            [
             0,
             "#0d0887"
            ],
            [
             0.1111111111111111,
             "#46039f"
            ],
            [
             0.2222222222222222,
             "#7201a8"
            ],
            [
             0.3333333333333333,
             "#9c179e"
            ],
            [
             0.4444444444444444,
             "#bd3786"
            ],
            [
             0.5555555555555556,
             "#d8576b"
            ],
            [
             0.6666666666666666,
             "#ed7953"
            ],
            [
             0.7777777777777778,
             "#fb9f3a"
            ],
            [
             0.8888888888888888,
             "#fdca26"
            ],
            [
             1,
             "#f0f921"
            ]
           ],
           "sequentialminus": [
            [
             0,
             "#0d0887"
            ],
            [
             0.1111111111111111,
             "#46039f"
            ],
            [
             0.2222222222222222,
             "#7201a8"
            ],
            [
             0.3333333333333333,
             "#9c179e"
            ],
            [
             0.4444444444444444,
             "#bd3786"
            ],
            [
             0.5555555555555556,
             "#d8576b"
            ],
            [
             0.6666666666666666,
             "#ed7953"
            ],
            [
             0.7777777777777778,
             "#fb9f3a"
            ],
            [
             0.8888888888888888,
             "#fdca26"
            ],
            [
             1,
             "#f0f921"
            ]
           ]
          },
          "colorway": [
           "#636efa",
           "#EF553B",
           "#00cc96",
           "#ab63fa",
           "#FFA15A",
           "#19d3f3",
           "#FF6692",
           "#B6E880",
           "#FF97FF",
           "#FECB52"
          ],
          "font": {
           "color": "#2a3f5f"
          },
          "geo": {
           "bgcolor": "white",
           "lakecolor": "white",
           "landcolor": "#E5ECF6",
           "showlakes": true,
           "showland": true,
           "subunitcolor": "white"
          },
          "hoverlabel": {
           "align": "left"
          },
          "hovermode": "closest",
          "mapbox": {
           "style": "light"
          },
          "paper_bgcolor": "white",
          "plot_bgcolor": "#E5ECF6",
          "polar": {
           "angularaxis": {
            "gridcolor": "white",
            "linecolor": "white",
            "ticks": ""
           },
           "bgcolor": "#E5ECF6",
           "radialaxis": {
            "gridcolor": "white",
            "linecolor": "white",
            "ticks": ""
           }
          },
          "scene": {
           "xaxis": {
            "backgroundcolor": "#E5ECF6",
            "gridcolor": "white",
            "gridwidth": 2,
            "linecolor": "white",
            "showbackground": true,
            "ticks": "",
            "zerolinecolor": "white"
           },
           "yaxis": {
            "backgroundcolor": "#E5ECF6",
            "gridcolor": "white",
            "gridwidth": 2,
            "linecolor": "white",
            "showbackground": true,
            "ticks": "",
            "zerolinecolor": "white"
           },
           "zaxis": {
            "backgroundcolor": "#E5ECF6",
            "gridcolor": "white",
            "gridwidth": 2,
            "linecolor": "white",
            "showbackground": true,
            "ticks": "",
            "zerolinecolor": "white"
           }
          },
          "shapedefaults": {
           "line": {
            "color": "#2a3f5f"
           }
          },
          "ternary": {
           "aaxis": {
            "gridcolor": "white",
            "linecolor": "white",
            "ticks": ""
           },
           "baxis": {
            "gridcolor": "white",
            "linecolor": "white",
            "ticks": ""
           },
           "bgcolor": "#E5ECF6",
           "caxis": {
            "gridcolor": "white",
            "linecolor": "white",
            "ticks": ""
           }
          },
          "title": {
           "x": 0.05
          },
          "xaxis": {
           "automargin": true,
           "gridcolor": "white",
           "linecolor": "white",
           "ticks": "",
           "title": {
            "standoff": 15
           },
           "zerolinecolor": "white",
           "zerolinewidth": 2
          },
          "yaxis": {
           "automargin": true,
           "gridcolor": "white",
           "linecolor": "white",
           "ticks": "",
           "title": {
            "standoff": 15
           },
           "zerolinecolor": "white",
           "zerolinewidth": 2
          }
         }
        },
        "title": {
         "text": "Number of Studies per Year"
        },
        "xaxis": {
         "anchor": "y",
         "domain": [
          0,
          1
         ],
         "title": {
          "text": "Year"
         }
        },
        "yaxis": {
         "anchor": "x",
         "domain": [
          0,
          1
         ],
         "title": {
          "text": "Number of Studies"
         }
        }
       }
      }
     },
     "metadata": {},
     "output_type": "display_data"
    }
   ],
   "source": [
    "import pandas as pd\n",
    "import plotly.express as px\n",
    "\n",
    "import plotly.graph_objects as go\n",
    "\n",
    "# Create a copy of the DataFrame\n",
    "line_df = competitor_trials_df.copy()\n",
    "\n",
    "# Create a new DataFrame with only the \"NCT Number\" and \"Group\" columns\n",
    "group_df = competitor_trials_one_cond[[\"NCT Number\", \"Group\"]]\n",
    "\n",
    "# Perform an inner join on the \"NCT Number\" column\n",
    "line_df = pd.merge(line_df, group_df, on=\"NCT Number\", how=\"inner\")\n",
    "\n",
    "line_df = line_df[[\"NCT Number\",'Start Date', 'Completion Date', 'Group', 'Sponsor']]\n",
    "\n",
    "# Extract the first 4 characters and convert to integer\n",
    "line_df['Year'] = line_df['Start Date'].str[:4].astype(int)\n",
    "line_df['Completion Year'] = line_df['Completion Date'].str[:4].astype(int)\n",
    "\n",
    "# Drop rows with NaN 'Year' or 'Completion Year'\n",
    "line_df = line_df.dropna(subset=['Year', 'Completion Year'])\n",
    "\n",
    "# Ensure 'Year' and 'Completion Year' are integers\n",
    "line_df['Year'] = line_df['Year'].astype(int)\n",
    "line_df['Completion Year'] = line_df['Completion Year'].astype(int)\n",
    "\n",
    "# Create a new DataFrame with a row for each year that a study is active\n",
    "expanded_df = pd.DataFrame([(group, year)\n",
    "                            for _, row in line_df.iterrows()\n",
    "                            for group in [row['Group']]\n",
    "                            for year in range(row['Year'], row['Completion Year'] + 1)],\n",
    "                           columns=['Group', 'Year'])\n",
    "\n",
    "# Group by 'Group' and 'Year' and count the number of occurrences\n",
    "grouped_df = expanded_df.groupby(['Group', 'Year']).size().reset_index(name='Count')\n",
    "\n",
    "# Create a stacked line graph\n",
    "fig = px.line(grouped_df, x='Year', y='Count', color='Group', line_group='Group', \n",
    "              labels={'Count':'Number of Studies'}, title='Number of Studies per Year')\n",
    "fig.show()"
   ]
  },
  {
   "cell_type": "code",
   "execution_count": 145,
   "metadata": {},
   "outputs": [
    {
     "data": {
      "application/vnd.plotly.v1+json": {
       "config": {
        "plotlyServerURL": "https://plot.ly"
       },
       "data": [
        {
         "hovertemplate": "Group=Cardiovascular Disease<br>Year=%{x}<br>Total Enrollment=%{y}<extra></extra>",
         "legendgroup": "Cardiovascular Disease",
         "line": {
          "color": "#636efa",
          "dash": "solid"
         },
         "marker": {
          "symbol": "circle"
         },
         "mode": "lines",
         "name": "Cardiovascular Disease",
         "orientation": "v",
         "showlegend": true,
         "type": "scatter",
         "x": [
          2019,
          2020,
          2021,
          2022,
          2023,
          2024,
          2025,
          2026,
          2027,
          2028,
          2029
         ],
         "xaxis": "x",
         "y": [
          922,
          1691480,
          62701,
          121056,
          320164,
          61449,
          48087,
          44592,
          35513,
          12500,
          12500
         ],
         "yaxis": "y"
        },
        {
         "hovertemplate": "Group=Diabetes<br>Year=%{x}<br>Total Enrollment=%{y}<extra></extra>",
         "legendgroup": "Diabetes",
         "line": {
          "color": "#EF553B",
          "dash": "solid"
         },
         "marker": {
          "symbol": "circle"
         },
         "mode": "lines",
         "name": "Diabetes",
         "orientation": "v",
         "showlegend": true,
         "type": "scatter",
         "x": [
          2019,
          2020,
          2021,
          2022,
          2023,
          2024,
          2025,
          2026,
          2027,
          2028
         ],
         "xaxis": "x",
         "y": [
          20124,
          294451,
          1146184,
          1205783,
          962324,
          674896,
          602419,
          10204,
          7530,
          5500
         ],
         "yaxis": "y"
        },
        {
         "hovertemplate": "Group=Endocrine Disorder<br>Year=%{x}<br>Total Enrollment=%{y}<extra></extra>",
         "legendgroup": "Endocrine Disorder",
         "line": {
          "color": "#00cc96",
          "dash": "solid"
         },
         "marker": {
          "symbol": "circle"
         },
         "mode": "lines",
         "name": "Endocrine Disorder",
         "orientation": "v",
         "showlegend": true,
         "type": "scatter",
         "x": [
          2023,
          2024,
          2025
         ],
         "xaxis": "x",
         "y": [
          1090,
          1090,
          1090
         ],
         "yaxis": "y"
        },
        {
         "hovertemplate": "Group=Kidney Disease<br>Year=%{x}<br>Total Enrollment=%{y}<extra></extra>",
         "legendgroup": "Kidney Disease",
         "line": {
          "color": "#ab63fa",
          "dash": "solid"
         },
         "marker": {
          "symbol": "circle"
         },
         "mode": "lines",
         "name": "Kidney Disease",
         "orientation": "v",
         "showlegend": true,
         "type": "scatter",
         "x": [
          2019,
          2020,
          2021,
          2022,
          2023,
          2024,
          2025,
          2026,
          2027,
          2028
         ],
         "xaxis": "x",
         "y": [
          2020,
          1009238,
          1347814,
          4105073,
          4787102,
          1081218,
          16347,
          6259,
          5819,
          5600
         ],
         "yaxis": "y"
        },
        {
         "hovertemplate": "Group=Liver Disease<br>Year=%{x}<br>Total Enrollment=%{y}<extra></extra>",
         "legendgroup": "Liver Disease",
         "line": {
          "color": "#FFA15A",
          "dash": "solid"
         },
         "marker": {
          "symbol": "circle"
         },
         "mode": "lines",
         "name": "Liver Disease",
         "orientation": "v",
         "showlegend": true,
         "type": "scatter",
         "x": [
          2019,
          2020,
          2021,
          2022,
          2023,
          2024,
          2025
         ],
         "xaxis": "x",
         "y": [
          42,
          185,
          301,
          377,
          318,
          178,
          32
         ],
         "yaxis": "y"
        },
        {
         "hovertemplate": "Group=Obesity<br>Year=%{x}<br>Total Enrollment=%{y}<extra></extra>",
         "legendgroup": "Obesity",
         "line": {
          "color": "#19d3f3",
          "dash": "solid"
         },
         "marker": {
          "symbol": "circle"
         },
         "mode": "lines",
         "name": "Obesity",
         "orientation": "v",
         "showlegend": true,
         "type": "scatter",
         "x": [
          2019,
          2020,
          2021,
          2022,
          2023,
          2024,
          2025,
          2026,
          2027
         ],
         "xaxis": "x",
         "y": [
          5138,
          113089,
          14094,
          47203,
          80767,
          76314,
          67652,
          55742,
          36748
         ],
         "yaxis": "y"
        },
        {
         "hovertemplate": "Group=Total<br>Year=%{x}<br>Total Enrollment=%{y}<extra></extra>",
         "legendgroup": "Total",
         "line": {
          "color": "#FF6692",
          "dash": "solid"
         },
         "marker": {
          "symbol": "circle"
         },
         "mode": "lines",
         "name": "Total",
         "orientation": "v",
         "showlegend": true,
         "type": "scatter",
         "x": [
          2019,
          2020,
          2021,
          2022,
          2023,
          2024,
          2025,
          2026,
          2027,
          2028,
          2029
         ],
         "xaxis": "x",
         "y": [
          28246,
          3108443,
          2571094,
          5479492,
          6151765,
          1895145,
          735627,
          116797,
          85610,
          23600,
          12500
         ],
         "yaxis": "y"
        }
       ],
       "layout": {
        "legend": {
         "title": {
          "text": "Group"
         },
         "tracegroupgap": 0
        },
        "template": {
         "data": {
          "bar": [
           {
            "error_x": {
             "color": "#2a3f5f"
            },
            "error_y": {
             "color": "#2a3f5f"
            },
            "marker": {
             "line": {
              "color": "#E5ECF6",
              "width": 0.5
             },
             "pattern": {
              "fillmode": "overlay",
              "size": 10,
              "solidity": 0.2
             }
            },
            "type": "bar"
           }
          ],
          "barpolar": [
           {
            "marker": {
             "line": {
              "color": "#E5ECF6",
              "width": 0.5
             },
             "pattern": {
              "fillmode": "overlay",
              "size": 10,
              "solidity": 0.2
             }
            },
            "type": "barpolar"
           }
          ],
          "carpet": [
           {
            "aaxis": {
             "endlinecolor": "#2a3f5f",
             "gridcolor": "white",
             "linecolor": "white",
             "minorgridcolor": "white",
             "startlinecolor": "#2a3f5f"
            },
            "baxis": {
             "endlinecolor": "#2a3f5f",
             "gridcolor": "white",
             "linecolor": "white",
             "minorgridcolor": "white",
             "startlinecolor": "#2a3f5f"
            },
            "type": "carpet"
           }
          ],
          "choropleth": [
           {
            "colorbar": {
             "outlinewidth": 0,
             "ticks": ""
            },
            "type": "choropleth"
           }
          ],
          "contour": [
           {
            "colorbar": {
             "outlinewidth": 0,
             "ticks": ""
            },
            "colorscale": [
             [
              0,
              "#0d0887"
             ],
             [
              0.1111111111111111,
              "#46039f"
             ],
             [
              0.2222222222222222,
              "#7201a8"
             ],
             [
              0.3333333333333333,
              "#9c179e"
             ],
             [
              0.4444444444444444,
              "#bd3786"
             ],
             [
              0.5555555555555556,
              "#d8576b"
             ],
             [
              0.6666666666666666,
              "#ed7953"
             ],
             [
              0.7777777777777778,
              "#fb9f3a"
             ],
             [
              0.8888888888888888,
              "#fdca26"
             ],
             [
              1,
              "#f0f921"
             ]
            ],
            "type": "contour"
           }
          ],
          "contourcarpet": [
           {
            "colorbar": {
             "outlinewidth": 0,
             "ticks": ""
            },
            "type": "contourcarpet"
           }
          ],
          "heatmap": [
           {
            "colorbar": {
             "outlinewidth": 0,
             "ticks": ""
            },
            "colorscale": [
             [
              0,
              "#0d0887"
             ],
             [
              0.1111111111111111,
              "#46039f"
             ],
             [
              0.2222222222222222,
              "#7201a8"
             ],
             [
              0.3333333333333333,
              "#9c179e"
             ],
             [
              0.4444444444444444,
              "#bd3786"
             ],
             [
              0.5555555555555556,
              "#d8576b"
             ],
             [
              0.6666666666666666,
              "#ed7953"
             ],
             [
              0.7777777777777778,
              "#fb9f3a"
             ],
             [
              0.8888888888888888,
              "#fdca26"
             ],
             [
              1,
              "#f0f921"
             ]
            ],
            "type": "heatmap"
           }
          ],
          "heatmapgl": [
           {
            "colorbar": {
             "outlinewidth": 0,
             "ticks": ""
            },
            "colorscale": [
             [
              0,
              "#0d0887"
             ],
             [
              0.1111111111111111,
              "#46039f"
             ],
             [
              0.2222222222222222,
              "#7201a8"
             ],
             [
              0.3333333333333333,
              "#9c179e"
             ],
             [
              0.4444444444444444,
              "#bd3786"
             ],
             [
              0.5555555555555556,
              "#d8576b"
             ],
             [
              0.6666666666666666,
              "#ed7953"
             ],
             [
              0.7777777777777778,
              "#fb9f3a"
             ],
             [
              0.8888888888888888,
              "#fdca26"
             ],
             [
              1,
              "#f0f921"
             ]
            ],
            "type": "heatmapgl"
           }
          ],
          "histogram": [
           {
            "marker": {
             "pattern": {
              "fillmode": "overlay",
              "size": 10,
              "solidity": 0.2
             }
            },
            "type": "histogram"
           }
          ],
          "histogram2d": [
           {
            "colorbar": {
             "outlinewidth": 0,
             "ticks": ""
            },
            "colorscale": [
             [
              0,
              "#0d0887"
             ],
             [
              0.1111111111111111,
              "#46039f"
             ],
             [
              0.2222222222222222,
              "#7201a8"
             ],
             [
              0.3333333333333333,
              "#9c179e"
             ],
             [
              0.4444444444444444,
              "#bd3786"
             ],
             [
              0.5555555555555556,
              "#d8576b"
             ],
             [
              0.6666666666666666,
              "#ed7953"
             ],
             [
              0.7777777777777778,
              "#fb9f3a"
             ],
             [
              0.8888888888888888,
              "#fdca26"
             ],
             [
              1,
              "#f0f921"
             ]
            ],
            "type": "histogram2d"
           }
          ],
          "histogram2dcontour": [
           {
            "colorbar": {
             "outlinewidth": 0,
             "ticks": ""
            },
            "colorscale": [
             [
              0,
              "#0d0887"
             ],
             [
              0.1111111111111111,
              "#46039f"
             ],
             [
              0.2222222222222222,
              "#7201a8"
             ],
             [
              0.3333333333333333,
              "#9c179e"
             ],
             [
              0.4444444444444444,
              "#bd3786"
             ],
             [
              0.5555555555555556,
              "#d8576b"
             ],
             [
              0.6666666666666666,
              "#ed7953"
             ],
             [
              0.7777777777777778,
              "#fb9f3a"
             ],
             [
              0.8888888888888888,
              "#fdca26"
             ],
             [
              1,
              "#f0f921"
             ]
            ],
            "type": "histogram2dcontour"
           }
          ],
          "mesh3d": [
           {
            "colorbar": {
             "outlinewidth": 0,
             "ticks": ""
            },
            "type": "mesh3d"
           }
          ],
          "parcoords": [
           {
            "line": {
             "colorbar": {
              "outlinewidth": 0,
              "ticks": ""
             }
            },
            "type": "parcoords"
           }
          ],
          "pie": [
           {
            "automargin": true,
            "type": "pie"
           }
          ],
          "scatter": [
           {
            "fillpattern": {
             "fillmode": "overlay",
             "size": 10,
             "solidity": 0.2
            },
            "type": "scatter"
           }
          ],
          "scatter3d": [
           {
            "line": {
             "colorbar": {
              "outlinewidth": 0,
              "ticks": ""
             }
            },
            "marker": {
             "colorbar": {
              "outlinewidth": 0,
              "ticks": ""
             }
            },
            "type": "scatter3d"
           }
          ],
          "scattercarpet": [
           {
            "marker": {
             "colorbar": {
              "outlinewidth": 0,
              "ticks": ""
             }
            },
            "type": "scattercarpet"
           }
          ],
          "scattergeo": [
           {
            "marker": {
             "colorbar": {
              "outlinewidth": 0,
              "ticks": ""
             }
            },
            "type": "scattergeo"
           }
          ],
          "scattergl": [
           {
            "marker": {
             "colorbar": {
              "outlinewidth": 0,
              "ticks": ""
             }
            },
            "type": "scattergl"
           }
          ],
          "scattermapbox": [
           {
            "marker": {
             "colorbar": {
              "outlinewidth": 0,
              "ticks": ""
             }
            },
            "type": "scattermapbox"
           }
          ],
          "scatterpolar": [
           {
            "marker": {
             "colorbar": {
              "outlinewidth": 0,
              "ticks": ""
             }
            },
            "type": "scatterpolar"
           }
          ],
          "scatterpolargl": [
           {
            "marker": {
             "colorbar": {
              "outlinewidth": 0,
              "ticks": ""
             }
            },
            "type": "scatterpolargl"
           }
          ],
          "scatterternary": [
           {
            "marker": {
             "colorbar": {
              "outlinewidth": 0,
              "ticks": ""
             }
            },
            "type": "scatterternary"
           }
          ],
          "surface": [
           {
            "colorbar": {
             "outlinewidth": 0,
             "ticks": ""
            },
            "colorscale": [
             [
              0,
              "#0d0887"
             ],
             [
              0.1111111111111111,
              "#46039f"
             ],
             [
              0.2222222222222222,
              "#7201a8"
             ],
             [
              0.3333333333333333,
              "#9c179e"
             ],
             [
              0.4444444444444444,
              "#bd3786"
             ],
             [
              0.5555555555555556,
              "#d8576b"
             ],
             [
              0.6666666666666666,
              "#ed7953"
             ],
             [
              0.7777777777777778,
              "#fb9f3a"
             ],
             [
              0.8888888888888888,
              "#fdca26"
             ],
             [
              1,
              "#f0f921"
             ]
            ],
            "type": "surface"
           }
          ],
          "table": [
           {
            "cells": {
             "fill": {
              "color": "#EBF0F8"
             },
             "line": {
              "color": "white"
             }
            },
            "header": {
             "fill": {
              "color": "#C8D4E3"
             },
             "line": {
              "color": "white"
             }
            },
            "type": "table"
           }
          ]
         },
         "layout": {
          "annotationdefaults": {
           "arrowcolor": "#2a3f5f",
           "arrowhead": 0,
           "arrowwidth": 1
          },
          "autotypenumbers": "strict",
          "coloraxis": {
           "colorbar": {
            "outlinewidth": 0,
            "ticks": ""
           }
          },
          "colorscale": {
           "diverging": [
            [
             0,
             "#8e0152"
            ],
            [
             0.1,
             "#c51b7d"
            ],
            [
             0.2,
             "#de77ae"
            ],
            [
             0.3,
             "#f1b6da"
            ],
            [
             0.4,
             "#fde0ef"
            ],
            [
             0.5,
             "#f7f7f7"
            ],
            [
             0.6,
             "#e6f5d0"
            ],
            [
             0.7,
             "#b8e186"
            ],
            [
             0.8,
             "#7fbc41"
            ],
            [
             0.9,
             "#4d9221"
            ],
            [
             1,
             "#276419"
            ]
           ],
           "sequential": [
            [
             0,
             "#0d0887"
            ],
            [
             0.1111111111111111,
             "#46039f"
            ],
            [
             0.2222222222222222,
             "#7201a8"
            ],
            [
             0.3333333333333333,
             "#9c179e"
            ],
            [
             0.4444444444444444,
             "#bd3786"
            ],
            [
             0.5555555555555556,
             "#d8576b"
            ],
            [
             0.6666666666666666,
             "#ed7953"
            ],
            [
             0.7777777777777778,
             "#fb9f3a"
            ],
            [
             0.8888888888888888,
             "#fdca26"
            ],
            [
             1,
             "#f0f921"
            ]
           ],
           "sequentialminus": [
            [
             0,
             "#0d0887"
            ],
            [
             0.1111111111111111,
             "#46039f"
            ],
            [
             0.2222222222222222,
             "#7201a8"
            ],
            [
             0.3333333333333333,
             "#9c179e"
            ],
            [
             0.4444444444444444,
             "#bd3786"
            ],
            [
             0.5555555555555556,
             "#d8576b"
            ],
            [
             0.6666666666666666,
             "#ed7953"
            ],
            [
             0.7777777777777778,
             "#fb9f3a"
            ],
            [
             0.8888888888888888,
             "#fdca26"
            ],
            [
             1,
             "#f0f921"
            ]
           ]
          },
          "colorway": [
           "#636efa",
           "#EF553B",
           "#00cc96",
           "#ab63fa",
           "#FFA15A",
           "#19d3f3",
           "#FF6692",
           "#B6E880",
           "#FF97FF",
           "#FECB52"
          ],
          "font": {
           "color": "#2a3f5f"
          },
          "geo": {
           "bgcolor": "white",
           "lakecolor": "white",
           "landcolor": "#E5ECF6",
           "showlakes": true,
           "showland": true,
           "subunitcolor": "white"
          },
          "hoverlabel": {
           "align": "left"
          },
          "hovermode": "closest",
          "mapbox": {
           "style": "light"
          },
          "paper_bgcolor": "white",
          "plot_bgcolor": "#E5ECF6",
          "polar": {
           "angularaxis": {
            "gridcolor": "white",
            "linecolor": "white",
            "ticks": ""
           },
           "bgcolor": "#E5ECF6",
           "radialaxis": {
            "gridcolor": "white",
            "linecolor": "white",
            "ticks": ""
           }
          },
          "scene": {
           "xaxis": {
            "backgroundcolor": "#E5ECF6",
            "gridcolor": "white",
            "gridwidth": 2,
            "linecolor": "white",
            "showbackground": true,
            "ticks": "",
            "zerolinecolor": "white"
           },
           "yaxis": {
            "backgroundcolor": "#E5ECF6",
            "gridcolor": "white",
            "gridwidth": 2,
            "linecolor": "white",
            "showbackground": true,
            "ticks": "",
            "zerolinecolor": "white"
           },
           "zaxis": {
            "backgroundcolor": "#E5ECF6",
            "gridcolor": "white",
            "gridwidth": 2,
            "linecolor": "white",
            "showbackground": true,
            "ticks": "",
            "zerolinecolor": "white"
           }
          },
          "shapedefaults": {
           "line": {
            "color": "#2a3f5f"
           }
          },
          "ternary": {
           "aaxis": {
            "gridcolor": "white",
            "linecolor": "white",
            "ticks": ""
           },
           "baxis": {
            "gridcolor": "white",
            "linecolor": "white",
            "ticks": ""
           },
           "bgcolor": "#E5ECF6",
           "caxis": {
            "gridcolor": "white",
            "linecolor": "white",
            "ticks": ""
           }
          },
          "title": {
           "x": 0.05
          },
          "xaxis": {
           "automargin": true,
           "gridcolor": "white",
           "linecolor": "white",
           "ticks": "",
           "title": {
            "standoff": 15
           },
           "zerolinecolor": "white",
           "zerolinewidth": 2
          },
          "yaxis": {
           "automargin": true,
           "gridcolor": "white",
           "linecolor": "white",
           "ticks": "",
           "title": {
            "standoff": 15
           },
           "zerolinecolor": "white",
           "zerolinewidth": 2
          }
         }
        },
        "title": {
         "text": "Total Enrollment per Year"
        },
        "xaxis": {
         "anchor": "y",
         "domain": [
          0,
          1
         ],
         "title": {
          "text": "Year"
         }
        },
        "yaxis": {
         "anchor": "x",
         "domain": [
          0,
          1
         ],
         "title": {
          "text": "Total Enrollment"
         }
        }
       }
      }
     },
     "metadata": {},
     "output_type": "display_data"
    }
   ],
   "source": [
    "import pandas as pd\n",
    "import plotly.express as px\n",
    "import plotly.graph_objects as go\n",
    "\n",
    "# Create a copy of the DataFrame\n",
    "line_df = competitor_trials_df.copy()\n",
    "\n",
    "# Create a new DataFrame with only the \"NCT Number\", \"Group\" and \"Enrollment\" columns\n",
    "group_df = competitor_trials_one_cond[[\"NCT Number\", \"Group\"]]\n",
    "\n",
    "# Perform an inner join on the \"NCT Number\" column\n",
    "line_df = pd.merge(line_df, group_df, on=\"NCT Number\", how=\"inner\")\n",
    "\n",
    "line_df = line_df[[\"NCT Number\",'Start Date', 'Completion Date', 'Group', 'Enrollment']]\n",
    "\n",
    "line_df['Enrollment'] = line_df['Enrollment'].astype(int)\n",
    "\n",
    "# Extract the first 4 characters and convert to integer\n",
    "line_df['Year'] = line_df['Start Date'].str[:4].astype(int)\n",
    "line_df['Completion Year'] = line_df['Completion Date'].str[:4].astype(int)\n",
    "\n",
    "# Drop rows with NaN 'Year' or 'Completion Year'\n",
    "line_df = line_df.dropna(subset=['Year', 'Completion Year'])\n",
    "\n",
    "# Ensure 'Year' and 'Completion Year' are integers\n",
    "line_df['Year'] = line_df['Year'].astype(int)\n",
    "line_df['Completion Year'] = line_df['Completion Year'].astype(int)\n",
    "\n",
    "# Create a new DataFrame with a row for each year that a study is active\n",
    "expanded_df = pd.DataFrame([(group, year, enrollment)\n",
    "                            for _, row in line_df.iterrows()\n",
    "                            for group in [row['Group']]\n",
    "                            for year in range(row['Year'], row['Completion Year'] + 1)\n",
    "                            for enrollment in [row['Enrollment']]],\n",
    "                           columns=['Group', 'Year', 'Enrollment'])\n",
    "\n",
    "# Group by 'Group' and 'Year' and sum the enrollment\n",
    "grouped_df = expanded_df.groupby(['Group', 'Year'])['Enrollment'].sum().reset_index(name='Enrollment')\n",
    "\n",
    "# Add a total line\n",
    "total_df = grouped_df.groupby('Year')['Enrollment'].sum().reset_index()\n",
    "total_df['Group'] = 'Total'\n",
    "grouped_df = pd.concat([grouped_df, total_df], ignore_index=True)\n",
    "\n",
    "grouped_df\n",
    "\n",
    "# Create a stacked line graph\n",
    "fig = px.line(grouped_df, x='Year', y='Enrollment', color='Group', line_group='Group', \n",
    "              labels={'Enrollment':'Total Enrollment'}, title='Total Enrollment per Year')\n",
    "fig.show()\n"
   ]
  },
  {
   "cell_type": "code",
   "execution_count": 186,
   "metadata": {},
   "outputs": [
    {
     "data": {
      "application/vnd.plotly.v1+json": {
       "config": {
        "plotlyServerURL": "https://plot.ly"
       },
       "data": [
        {
         "name": "Cardiovascular Disease",
         "type": "bar",
         "visible": true,
         "x": [
          2019,
          2020,
          2021,
          2022,
          2023,
          2024,
          2025,
          2026
         ],
         "y": [
          3,
          663,
          663,
          749,
          967,
          389,
          82,
          50
         ]
        },
        {
         "name": "Cardiovascular Disease",
         "type": "bar",
         "visible": false,
         "x": [
          2020,
          2021,
          2022,
          2023,
          2024,
          2025,
          2026
         ],
         "y": [
          18,
          18,
          46777,
          46777,
          7297,
          7297,
          7297
         ]
        },
        {
         "name": "Diabetes",
         "type": "bar",
         "visible": false,
         "x": [
          2023,
          2024,
          2025,
          2026
         ],
         "y": [
          592,
          592,
          592,
          592
         ]
        },
        {
         "name": "Liver Disease",
         "type": "bar",
         "visible": false,
         "x": [
          2021,
          2022,
          2023
         ],
         "y": [
          20,
          45,
          25
         ]
        },
        {
         "name": "Obesity",
         "type": "bar",
         "visible": false,
         "x": [
          2019,
          2020,
          2021,
          2022,
          2023,
          2024,
          2025,
          2026
         ],
         "y": [
          60,
          170,
          170,
          182,
          1256,
          1276,
          1184,
          1184
         ]
        },
        {
         "name": "Cardiovascular Disease",
         "type": "bar",
         "visible": false,
         "x": [
          2020,
          2021,
          2022,
          2023,
          2024,
          2025,
          2026
         ],
         "y": [
          24636,
          33219,
          39932,
          33097,
          2937,
          1477,
          1000
         ]
        },
        {
         "name": "Diabetes",
         "type": "bar",
         "visible": false,
         "x": [
          2019,
          2020,
          2021,
          2022,
          2023,
          2024
         ],
         "y": [
          621,
          240920,
          241783,
          241147,
          240900,
          679
         ]
        },
        {
         "name": "Endocrine Disorder",
         "type": "bar",
         "visible": false,
         "x": [
          2023,
          2024,
          2025
         ],
         "y": [
          1090,
          1090,
          1090
         ]
        },
        {
         "name": "Kidney Disease",
         "type": "bar",
         "visible": false,
         "x": [
          2019,
          2020,
          2021,
          2022,
          2023,
          2024,
          2025,
          2026
         ],
         "y": [
          1938,
          1008913,
          1009701,
          3692796,
          3693560,
          3700,
          1329,
          300
         ]
        },
        {
         "name": "Liver Disease",
         "type": "bar",
         "visible": false,
         "x": [
          2021,
          2022,
          2023,
          2024
         ],
         "y": [
          12,
          24,
          114,
          118
         ]
        },
        {
         "name": "Cardiovascular Disease",
         "type": "bar",
         "visible": false,
         "x": [
          2020,
          2021,
          2022,
          2023,
          2024
         ],
         "y": [
          6016,
          7052,
          7652,
          6616,
          6016
         ]
        },
        {
         "name": "Diabetes",
         "type": "bar",
         "visible": false,
         "x": [
          2019,
          2020,
          2021,
          2022,
          2023,
          2024,
          2025,
          2026,
          2027,
          2028
         ],
         "y": [
          24,
          2056,
          339359,
          413130,
          91954,
          76007,
          11507,
          5500,
          5500,
          5500
         ]
        },
        {
         "name": "Kidney Disease",
         "type": "bar",
         "visible": false,
         "x": [
          2020,
          2021,
          2022,
          2023,
          2024,
          2025,
          2026,
          2027,
          2028
         ],
         "y": [
          243,
          337575,
          411793,
          1090398,
          1074578,
          12078,
          5819,
          5819,
          5600
         ]
        },
        {
         "name": "Liver Disease",
         "type": "bar",
         "visible": false,
         "x": [
          2022,
          2023,
          2024,
          2025
         ],
         "y": [
          27,
          27,
          32,
          32
         ]
        },
        {
         "name": "Cardiovascular Disease",
         "type": "bar",
         "visible": false,
         "x": [
          2020,
          2021,
          2022,
          2023,
          2024,
          2025,
          2026,
          2027
         ],
         "y": [
          530,
          530,
          5252,
          5252,
          11252,
          6600,
          6000,
          6000
         ]
        },
        {
         "name": "Diabetes",
         "type": "bar",
         "visible": false,
         "x": [
          2019,
          2020,
          2021,
          2022,
          2023,
          2024,
          2025,
          2026
         ],
         "y": [
          13654,
          29429,
          540854,
          526111,
          578834,
          548434,
          547750,
          600
         ]
        },
        {
         "name": "Kidney Disease",
         "type": "bar",
         "visible": false,
         "x": [
          2019,
          2020,
          2021,
          2022,
          2023
         ],
         "y": [
          28,
          28,
          484,
          484,
          261
         ]
        },
        {
         "name": "Obesity",
         "type": "bar",
         "visible": false,
         "x": [
          2020,
          2021,
          2022,
          2023,
          2024,
          2025,
          2026
         ],
         "y": [
          87,
          474,
          469,
          6668,
          7530,
          7476,
          7260
         ]
        },
        {
         "name": "Diabetes",
         "type": "bar",
         "visible": false,
         "x": [
          2020,
          2021,
          2022,
          2023,
          2024
         ],
         "y": [
          154,
          65,
          165,
          255,
          165
         ]
        },
        {
         "name": "Diabetes",
         "type": "bar",
         "visible": false,
         "x": [
          2021,
          2022,
          2023,
          2024,
          2025
         ],
         "y": [
          159,
          499,
          15803,
          15604,
          15000
         ]
        },
        {
         "name": "Cardiovascular Disease",
         "type": "bar",
         "visible": false,
         "x": [
          2023,
          2024,
          2025,
          2026,
          2027,
          2028,
          2029
         ],
         "y": [
          432,
          12932,
          12932,
          12932,
          12500,
          12500,
          12500
         ]
        },
        {
         "name": "Diabetes",
         "type": "bar",
         "visible": false,
         "x": [
          2019,
          2020,
          2021,
          2022,
          2023,
          2024,
          2025,
          2026,
          2027
         ],
         "y": [
          3808,
          19796,
          21950,
          21913,
          29454,
          30063,
          25515,
          3512,
          2030
         ]
        },
        {
         "name": "Kidney Disease",
         "type": "bar",
         "visible": false,
         "x": [
          2023,
          2024,
          2025,
          2026
         ],
         "y": [
          2760,
          2760,
          2760,
          140
         ]
        },
        {
         "name": "Obesity",
         "type": "bar",
         "visible": false,
         "x": [
          2019,
          2020,
          2021,
          2022,
          2023,
          2024,
          2025,
          2026,
          2027
         ],
         "y": [
          5078,
          5433,
          12399,
          44640,
          70663,
          66594,
          58200,
          47298,
          36748
         ]
        },
        {
         "name": "Diabetes",
         "type": "bar",
         "visible": false,
         "x": [
          2020,
          2021,
          2022,
          2023,
          2024,
          2025
         ],
         "y": [
          42,
          294,
          252,
          1050,
          1392,
          1392
         ]
        },
        {
         "name": "Obesity",
         "type": "bar",
         "visible": false,
         "x": [
          2023,
          2024,
          2025
         ],
         "y": [
          450,
          792,
          792
         ]
        },
        {
         "name": "Diabetes",
         "type": "bar",
         "visible": false,
         "x": [
          2021,
          2022,
          2023,
          2024,
          2025
         ],
         "y": [
          377,
          808,
          1594,
          1396,
          513
         ]
        },
        {
         "name": "Kidney Disease",
         "type": "bar",
         "visible": false,
         "x": [
          2019,
          2020,
          2021
         ],
         "y": [
          54,
          54,
          54
         ]
        },
        {
         "name": "Liver Disease",
         "type": "bar",
         "visible": false,
         "x": [
          2020,
          2021,
          2022,
          2023
         ],
         "y": [
          96,
          96,
          48,
          24
         ]
        },
        {
         "name": "Obesity",
         "type": "bar",
         "visible": false,
         "x": [
          2021,
          2022
         ],
         "y": [
          254,
          254
         ]
        },
        {
         "name": "Cardiovascular Disease",
         "type": "bar",
         "visible": false,
         "x": [
          2019,
          2020,
          2021,
          2022,
          2023,
          2024,
          2025,
          2026,
          2027
         ],
         "y": [
          919,
          1659617,
          20984,
          20043,
          226444,
          20210,
          19283,
          17313,
          17013
         ]
        },
        {
         "name": "Liver Disease",
         "type": "bar",
         "visible": false,
         "x": [
          2021,
          2022,
          2023
         ],
         "y": [
          109,
          185,
          76
         ]
        },
        {
         "name": "Obesity",
         "type": "bar",
         "visible": false,
         "x": [
          2022,
          2023
         ],
         "y": [
          126,
          126
         ]
        },
        {
         "name": "Cardiovascular Disease",
         "type": "bar",
         "visible": false,
         "x": [
          2021,
          2022,
          2023,
          2024,
          2025
         ],
         "y": [
          72,
          488,
          416,
          416,
          416
         ]
        },
        {
         "name": "Diabetes",
         "type": "bar",
         "visible": false,
         "x": [
          2019,
          2020,
          2021,
          2022,
          2023
         ],
         "y": [
          412,
          449,
          545,
          114,
          18
         ]
        },
        {
         "name": "Liver Disease",
         "type": "bar",
         "visible": false,
         "x": [
          2019,
          2020,
          2021,
          2022,
          2023,
          2024
         ],
         "y": [
          42,
          89,
          64,
          48,
          52,
          28
         ]
        },
        {
         "name": "Obesity",
         "type": "bar",
         "visible": false,
         "x": [
          2020,
          2021,
          2022,
          2023,
          2024
         ],
         "y": [
          107399,
          797,
          1532,
          1604,
          122
         ]
        },
        {
         "name": "Cardiovascular Disease",
         "type": "bar",
         "visible": false,
         "x": [
          2021,
          2022,
          2023
         ],
         "y": [
          163,
          163,
          163
         ]
        },
        {
         "name": "Diabetes",
         "type": "bar",
         "visible": false,
         "x": [
          2019,
          2020,
          2021,
          2022,
          2023,
          2024
         ],
         "y": [
          1605,
          1605,
          798,
          1566,
          1538,
          200
         ]
        },
        {
         "name": "Diabetes",
         "type": "bar",
         "visible": false,
         "x": [
          2022,
          2023,
          2024,
          2025
         ],
         "y": [
          78,
          332,
          364,
          150
         ]
        },
        {
         "name": "Kidney Disease",
         "type": "bar",
         "visible": false,
         "x": [
          2023,
          2024,
          2025
         ],
         "y": [
          123,
          180,
          180
         ]
        }
       ],
       "layout": {
        "barmode": "stack",
        "template": {
         "data": {
          "bar": [
           {
            "error_x": {
             "color": "#2a3f5f"
            },
            "error_y": {
             "color": "#2a3f5f"
            },
            "marker": {
             "line": {
              "color": "#E5ECF6",
              "width": 0.5
             },
             "pattern": {
              "fillmode": "overlay",
              "size": 10,
              "solidity": 0.2
             }
            },
            "type": "bar"
           }
          ],
          "barpolar": [
           {
            "marker": {
             "line": {
              "color": "#E5ECF6",
              "width": 0.5
             },
             "pattern": {
              "fillmode": "overlay",
              "size": 10,
              "solidity": 0.2
             }
            },
            "type": "barpolar"
           }
          ],
          "carpet": [
           {
            "aaxis": {
             "endlinecolor": "#2a3f5f",
             "gridcolor": "white",
             "linecolor": "white",
             "minorgridcolor": "white",
             "startlinecolor": "#2a3f5f"
            },
            "baxis": {
             "endlinecolor": "#2a3f5f",
             "gridcolor": "white",
             "linecolor": "white",
             "minorgridcolor": "white",
             "startlinecolor": "#2a3f5f"
            },
            "type": "carpet"
           }
          ],
          "choropleth": [
           {
            "colorbar": {
             "outlinewidth": 0,
             "ticks": ""
            },
            "type": "choropleth"
           }
          ],
          "contour": [
           {
            "colorbar": {
             "outlinewidth": 0,
             "ticks": ""
            },
            "colorscale": [
             [
              0,
              "#0d0887"
             ],
             [
              0.1111111111111111,
              "#46039f"
             ],
             [
              0.2222222222222222,
              "#7201a8"
             ],
             [
              0.3333333333333333,
              "#9c179e"
             ],
             [
              0.4444444444444444,
              "#bd3786"
             ],
             [
              0.5555555555555556,
              "#d8576b"
             ],
             [
              0.6666666666666666,
              "#ed7953"
             ],
             [
              0.7777777777777778,
              "#fb9f3a"
             ],
             [
              0.8888888888888888,
              "#fdca26"
             ],
             [
              1,
              "#f0f921"
             ]
            ],
            "type": "contour"
           }
          ],
          "contourcarpet": [
           {
            "colorbar": {
             "outlinewidth": 0,
             "ticks": ""
            },
            "type": "contourcarpet"
           }
          ],
          "heatmap": [
           {
            "colorbar": {
             "outlinewidth": 0,
             "ticks": ""
            },
            "colorscale": [
             [
              0,
              "#0d0887"
             ],
             [
              0.1111111111111111,
              "#46039f"
             ],
             [
              0.2222222222222222,
              "#7201a8"
             ],
             [
              0.3333333333333333,
              "#9c179e"
             ],
             [
              0.4444444444444444,
              "#bd3786"
             ],
             [
              0.5555555555555556,
              "#d8576b"
             ],
             [
              0.6666666666666666,
              "#ed7953"
             ],
             [
              0.7777777777777778,
              "#fb9f3a"
             ],
             [
              0.8888888888888888,
              "#fdca26"
             ],
             [
              1,
              "#f0f921"
             ]
            ],
            "type": "heatmap"
           }
          ],
          "heatmapgl": [
           {
            "colorbar": {
             "outlinewidth": 0,
             "ticks": ""
            },
            "colorscale": [
             [
              0,
              "#0d0887"
             ],
             [
              0.1111111111111111,
              "#46039f"
             ],
             [
              0.2222222222222222,
              "#7201a8"
             ],
             [
              0.3333333333333333,
              "#9c179e"
             ],
             [
              0.4444444444444444,
              "#bd3786"
             ],
             [
              0.5555555555555556,
              "#d8576b"
             ],
             [
              0.6666666666666666,
              "#ed7953"
             ],
             [
              0.7777777777777778,
              "#fb9f3a"
             ],
             [
              0.8888888888888888,
              "#fdca26"
             ],
             [
              1,
              "#f0f921"
             ]
            ],
            "type": "heatmapgl"
           }
          ],
          "histogram": [
           {
            "marker": {
             "pattern": {
              "fillmode": "overlay",
              "size": 10,
              "solidity": 0.2
             }
            },
            "type": "histogram"
           }
          ],
          "histogram2d": [
           {
            "colorbar": {
             "outlinewidth": 0,
             "ticks": ""
            },
            "colorscale": [
             [
              0,
              "#0d0887"
             ],
             [
              0.1111111111111111,
              "#46039f"
             ],
             [
              0.2222222222222222,
              "#7201a8"
             ],
             [
              0.3333333333333333,
              "#9c179e"
             ],
             [
              0.4444444444444444,
              "#bd3786"
             ],
             [
              0.5555555555555556,
              "#d8576b"
             ],
             [
              0.6666666666666666,
              "#ed7953"
             ],
             [
              0.7777777777777778,
              "#fb9f3a"
             ],
             [
              0.8888888888888888,
              "#fdca26"
             ],
             [
              1,
              "#f0f921"
             ]
            ],
            "type": "histogram2d"
           }
          ],
          "histogram2dcontour": [
           {
            "colorbar": {
             "outlinewidth": 0,
             "ticks": ""
            },
            "colorscale": [
             [
              0,
              "#0d0887"
             ],
             [
              0.1111111111111111,
              "#46039f"
             ],
             [
              0.2222222222222222,
              "#7201a8"
             ],
             [
              0.3333333333333333,
              "#9c179e"
             ],
             [
              0.4444444444444444,
              "#bd3786"
             ],
             [
              0.5555555555555556,
              "#d8576b"
             ],
             [
              0.6666666666666666,
              "#ed7953"
             ],
             [
              0.7777777777777778,
              "#fb9f3a"
             ],
             [
              0.8888888888888888,
              "#fdca26"
             ],
             [
              1,
              "#f0f921"
             ]
            ],
            "type": "histogram2dcontour"
           }
          ],
          "mesh3d": [
           {
            "colorbar": {
             "outlinewidth": 0,
             "ticks": ""
            },
            "type": "mesh3d"
           }
          ],
          "parcoords": [
           {
            "line": {
             "colorbar": {
              "outlinewidth": 0,
              "ticks": ""
             }
            },
            "type": "parcoords"
           }
          ],
          "pie": [
           {
            "automargin": true,
            "type": "pie"
           }
          ],
          "scatter": [
           {
            "fillpattern": {
             "fillmode": "overlay",
             "size": 10,
             "solidity": 0.2
            },
            "type": "scatter"
           }
          ],
          "scatter3d": [
           {
            "line": {
             "colorbar": {
              "outlinewidth": 0,
              "ticks": ""
             }
            },
            "marker": {
             "colorbar": {
              "outlinewidth": 0,
              "ticks": ""
             }
            },
            "type": "scatter3d"
           }
          ],
          "scattercarpet": [
           {
            "marker": {
             "colorbar": {
              "outlinewidth": 0,
              "ticks": ""
             }
            },
            "type": "scattercarpet"
           }
          ],
          "scattergeo": [
           {
            "marker": {
             "colorbar": {
              "outlinewidth": 0,
              "ticks": ""
             }
            },
            "type": "scattergeo"
           }
          ],
          "scattergl": [
           {
            "marker": {
             "colorbar": {
              "outlinewidth": 0,
              "ticks": ""
             }
            },
            "type": "scattergl"
           }
          ],
          "scattermapbox": [
           {
            "marker": {
             "colorbar": {
              "outlinewidth": 0,
              "ticks": ""
             }
            },
            "type": "scattermapbox"
           }
          ],
          "scatterpolar": [
           {
            "marker": {
             "colorbar": {
              "outlinewidth": 0,
              "ticks": ""
             }
            },
            "type": "scatterpolar"
           }
          ],
          "scatterpolargl": [
           {
            "marker": {
             "colorbar": {
              "outlinewidth": 0,
              "ticks": ""
             }
            },
            "type": "scatterpolargl"
           }
          ],
          "scatterternary": [
           {
            "marker": {
             "colorbar": {
              "outlinewidth": 0,
              "ticks": ""
             }
            },
            "type": "scatterternary"
           }
          ],
          "surface": [
           {
            "colorbar": {
             "outlinewidth": 0,
             "ticks": ""
            },
            "colorscale": [
             [
              0,
              "#0d0887"
             ],
             [
              0.1111111111111111,
              "#46039f"
             ],
             [
              0.2222222222222222,
              "#7201a8"
             ],
             [
              0.3333333333333333,
              "#9c179e"
             ],
             [
              0.4444444444444444,
              "#bd3786"
             ],
             [
              0.5555555555555556,
              "#d8576b"
             ],
             [
              0.6666666666666666,
              "#ed7953"
             ],
             [
              0.7777777777777778,
              "#fb9f3a"
             ],
             [
              0.8888888888888888,
              "#fdca26"
             ],
             [
              1,
              "#f0f921"
             ]
            ],
            "type": "surface"
           }
          ],
          "table": [
           {
            "cells": {
             "fill": {
              "color": "#EBF0F8"
             },
             "line": {
              "color": "white"
             }
            },
            "header": {
             "fill": {
              "color": "#C8D4E3"
             },
             "line": {
              "color": "white"
             }
            },
            "type": "table"
           }
          ]
         },
         "layout": {
          "annotationdefaults": {
           "arrowcolor": "#2a3f5f",
           "arrowhead": 0,
           "arrowwidth": 1
          },
          "autotypenumbers": "strict",
          "coloraxis": {
           "colorbar": {
            "outlinewidth": 0,
            "ticks": ""
           }
          },
          "colorscale": {
           "diverging": [
            [
             0,
             "#8e0152"
            ],
            [
             0.1,
             "#c51b7d"
            ],
            [
             0.2,
             "#de77ae"
            ],
            [
             0.3,
             "#f1b6da"
            ],
            [
             0.4,
             "#fde0ef"
            ],
            [
             0.5,
             "#f7f7f7"
            ],
            [
             0.6,
             "#e6f5d0"
            ],
            [
             0.7,
             "#b8e186"
            ],
            [
             0.8,
             "#7fbc41"
            ],
            [
             0.9,
             "#4d9221"
            ],
            [
             1,
             "#276419"
            ]
           ],
           "sequential": [
            [
             0,
             "#0d0887"
            ],
            [
             0.1111111111111111,
             "#46039f"
            ],
            [
             0.2222222222222222,
             "#7201a8"
            ],
            [
             0.3333333333333333,
             "#9c179e"
            ],
            [
             0.4444444444444444,
             "#bd3786"
            ],
            [
             0.5555555555555556,
             "#d8576b"
            ],
            [
             0.6666666666666666,
             "#ed7953"
            ],
            [
             0.7777777777777778,
             "#fb9f3a"
            ],
            [
             0.8888888888888888,
             "#fdca26"
            ],
            [
             1,
             "#f0f921"
            ]
           ],
           "sequentialminus": [
            [
             0,
             "#0d0887"
            ],
            [
             0.1111111111111111,
             "#46039f"
            ],
            [
             0.2222222222222222,
             "#7201a8"
            ],
            [
             0.3333333333333333,
             "#9c179e"
            ],
            [
             0.4444444444444444,
             "#bd3786"
            ],
            [
             0.5555555555555556,
             "#d8576b"
            ],
            [
             0.6666666666666666,
             "#ed7953"
            ],
            [
             0.7777777777777778,
             "#fb9f3a"
            ],
            [
             0.8888888888888888,
             "#fdca26"
            ],
            [
             1,
             "#f0f921"
            ]
           ]
          },
          "colorway": [
           "#636efa",
           "#EF553B",
           "#00cc96",
           "#ab63fa",
           "#FFA15A",
           "#19d3f3",
           "#FF6692",
           "#B6E880",
           "#FF97FF",
           "#FECB52"
          ],
          "font": {
           "color": "#2a3f5f"
          },
          "geo": {
           "bgcolor": "white",
           "lakecolor": "white",
           "landcolor": "#E5ECF6",
           "showlakes": true,
           "showland": true,
           "subunitcolor": "white"
          },
          "hoverlabel": {
           "align": "left"
          },
          "hovermode": "closest",
          "mapbox": {
           "style": "light"
          },
          "paper_bgcolor": "white",
          "plot_bgcolor": "#E5ECF6",
          "polar": {
           "angularaxis": {
            "gridcolor": "white",
            "linecolor": "white",
            "ticks": ""
           },
           "bgcolor": "#E5ECF6",
           "radialaxis": {
            "gridcolor": "white",
            "linecolor": "white",
            "ticks": ""
           }
          },
          "scene": {
           "xaxis": {
            "backgroundcolor": "#E5ECF6",
            "gridcolor": "white",
            "gridwidth": 2,
            "linecolor": "white",
            "showbackground": true,
            "ticks": "",
            "zerolinecolor": "white"
           },
           "yaxis": {
            "backgroundcolor": "#E5ECF6",
            "gridcolor": "white",
            "gridwidth": 2,
            "linecolor": "white",
            "showbackground": true,
            "ticks": "",
            "zerolinecolor": "white"
           },
           "zaxis": {
            "backgroundcolor": "#E5ECF6",
            "gridcolor": "white",
            "gridwidth": 2,
            "linecolor": "white",
            "showbackground": true,
            "ticks": "",
            "zerolinecolor": "white"
           }
          },
          "shapedefaults": {
           "line": {
            "color": "#2a3f5f"
           }
          },
          "ternary": {
           "aaxis": {
            "gridcolor": "white",
            "linecolor": "white",
            "ticks": ""
           },
           "baxis": {
            "gridcolor": "white",
            "linecolor": "white",
            "ticks": ""
           },
           "bgcolor": "#E5ECF6",
           "caxis": {
            "gridcolor": "white",
            "linecolor": "white",
            "ticks": ""
           }
          },
          "title": {
           "x": 0.05
          },
          "xaxis": {
           "automargin": true,
           "gridcolor": "white",
           "linecolor": "white",
           "ticks": "",
           "title": {
            "standoff": 15
           },
           "zerolinecolor": "white",
           "zerolinewidth": 2
          },
          "yaxis": {
           "automargin": true,
           "gridcolor": "white",
           "linecolor": "white",
           "ticks": "",
           "title": {
            "standoff": 15
           },
           "zerolinecolor": "white",
           "zerolinewidth": 2
          }
         }
        },
        "title": {
         "text": "Enrollment of Competitor Trials by Year"
        },
        "updatemenus": [
         {
          "buttons": [
           {
            "args": [
             {
              "visible": [
               true,
               false,
               false,
               false,
               false,
               false,
               false,
               false,
               false,
               false,
               false,
               false,
               false,
               false
              ]
             }
            ],
            "label": "Abbott Medical Devices",
            "method": "update"
           },
           {
            "args": [
             {
              "visible": [
               false,
               true,
               false,
               false,
               false,
               false,
               false,
               false,
               false,
               false,
               false,
               false,
               false,
               false
              ]
             }
            ],
            "label": "Amgen",
            "method": "update"
           },
           {
            "args": [
             {
              "visible": [
               false,
               false,
               true,
               false,
               false,
               false,
               false,
               false,
               false,
               false,
               false,
               false,
               false,
               false
              ]
             }
            ],
            "label": "AstraZeneca",
            "method": "update"
           },
           {
            "args": [
             {
              "visible": [
               false,
               false,
               false,
               true,
               false,
               false,
               false,
               false,
               false,
               false,
               false,
               false,
               false,
               false
              ]
             }
            ],
            "label": "Bayer",
            "method": "update"
           },
           {
            "args": [
             {
              "visible": [
               false,
               false,
               false,
               false,
               true,
               false,
               false,
               false,
               false,
               false,
               false,
               false,
               false,
               false
              ]
             }
            ],
            "label": "Boehringer Ingelheim",
            "method": "update"
           },
           {
            "args": [
             {
              "visible": [
               false,
               false,
               false,
               false,
               false,
               true,
               false,
               false,
               false,
               false,
               false,
               false,
               false,
               false
              ]
             }
            ],
            "label": "Chong Kun Dang Pharmaceutical",
            "method": "update"
           },
           {
            "args": [
             {
              "visible": [
               false,
               false,
               false,
               false,
               false,
               false,
               true,
               false,
               false,
               false,
               false,
               false,
               false,
               false
              ]
             }
            ],
            "label": "Daewoong Pharmaceutical Co. LTD.",
            "method": "update"
           },
           {
            "args": [
             {
              "visible": [
               false,
               false,
               false,
               false,
               false,
               false,
               false,
               true,
               false,
               false,
               false,
               false,
               false,
               false
              ]
             }
            ],
            "label": "Eli Lilly and Company",
            "method": "update"
           },
           {
            "args": [
             {
              "visible": [
               false,
               false,
               false,
               false,
               false,
               false,
               false,
               false,
               true,
               false,
               false,
               false,
               false,
               false
              ]
             }
            ],
            "label": "Innovent Biologics (Suzhou) Co. Ltd.",
            "method": "update"
           },
           {
            "args": [
             {
              "visible": [
               false,
               false,
               false,
               false,
               false,
               false,
               false,
               false,
               false,
               true,
               false,
               false,
               false,
               false
              ]
             }
            ],
            "label": "Jiangsu HengRui Medicine Co., Ltd.",
            "method": "update"
           },
           {
            "args": [
             {
              "visible": [
               false,
               false,
               false,
               false,
               false,
               false,
               false,
               false,
               false,
               false,
               true,
               false,
               false,
               false
              ]
             }
            ],
            "label": "Novartis Pharmaceuticals",
            "method": "update"
           },
           {
            "args": [
             {
              "visible": [
               false,
               false,
               false,
               false,
               false,
               false,
               false,
               false,
               false,
               false,
               false,
               true,
               false,
               false
              ]
             }
            ],
            "label": "Pfizer",
            "method": "update"
           },
           {
            "args": [
             {
              "visible": [
               false,
               false,
               false,
               false,
               false,
               false,
               false,
               false,
               false,
               false,
               false,
               false,
               true,
               false
              ]
             }
            ],
            "label": "Sanofi",
            "method": "update"
           },
           {
            "args": [
             {
              "visible": [
               false,
               false,
               false,
               false,
               false,
               false,
               false,
               false,
               false,
               false,
               false,
               false,
               false,
               true
              ]
             }
            ],
            "label": "Shandong Suncadia Medicine Co., Ltd.",
            "method": "update"
           }
          ],
          "direction": "down",
          "pad": {
           "r": 10,
           "t": 10
          },
          "showactive": true,
          "x": 0.1,
          "xanchor": "left",
          "y": 1.2,
          "yanchor": "top"
         }
        ],
        "xaxis": {
         "range": [
          2019,
          2029
         ],
         "ticktext": [
          2019,
          2020,
          2021,
          2022,
          2023,
          2024,
          2025,
          2026,
          2027,
          2028,
          2029
         ],
         "tickvals": [
          2019,
          2020,
          2021,
          2022,
          2023,
          2024,
          2025,
          2026,
          2027,
          2028,
          2029
         ],
         "title": {
          "text": "Year"
         }
        },
        "yaxis": {
         "title": {
          "text": "Enrollment"
         }
        }
       }
      }
     },
     "metadata": {},
     "output_type": "display_data"
    }
   ],
   "source": [
    "import pandas as pd\n",
    "import plotly.graph_objects as go\n",
    "\n",
    "# Sort the unique sponsors alphabetically\n",
    "sorted_sponsors = sorted(grouped_df['Sponsor'].unique())\n",
    "\n",
    "# Create a copy of the DataFrame\n",
    "bar_df = competitor_trials_df[[\"NCT Number\", \"Start Date\", \"Completion Date\", \"Sponsor\", \"Enrollment\"]].copy()\n",
    "\n",
    "# Merge with competitor_trials_one_cond on \"NCT Number\"\n",
    "bar_df = pd.merge(bar_df, competitor_trials_one_cond[[\"NCT Number\", \"Group\"]], on=\"NCT Number\", how=\"inner\")\n",
    "\n",
    "# Convert 'Enrollment' to int and extract 'Year' and 'Completion Year' from dates\n",
    "bar_df['Enrollment'] = bar_df['Enrollment'].astype(int)\n",
    "bar_df['Year'] = bar_df['Start Date'].str[:4].astype(int)\n",
    "bar_df['Completion Year'] = bar_df['Completion Date'].str[:4].astype(int)\n",
    "\n",
    "# Drop rows with NaN 'Year' or 'Completion Year'\n",
    "bar_df = bar_df.dropna(subset=['Year', 'Completion Year'])\n",
    "\n",
    "# Create a new DataFrame with a row for each year that a study is active\n",
    "expanded_df = pd.DataFrame([(group, year, sponsor, enrollment)\n",
    "                            for _, row in bar_df.iterrows()\n",
    "                            for group in [row['Group']]\n",
    "                            for year in range(row['Year'], row['Completion Year'] + 1)\n",
    "                            for sponsor in [row['Sponsor']]\n",
    "                            for enrollment in [row['Enrollment']]],\n",
    "                           columns=['Group', 'Year', 'Sponsor', 'Enrollment'])\n",
    "\n",
    "# Group by 'Group', 'Year', and 'Sponsor' and sum the enrollment\n",
    "grouped_df = expanded_df.groupby(['Group', 'Year', 'Sponsor'])['Enrollment'].sum().reset_index()\n",
    "\n",
    "# Create a stacked bar chart for each sponsor\n",
    "fig = go.Figure()\n",
    "\n",
    "# Add a dropdown menu\n",
    "buttons = []\n",
    "for sponsor in sorted(grouped_df['Sponsor'].unique()):\n",
    "    df = grouped_df[grouped_df['Sponsor'] == sponsor]\n",
    "    for group in df['Group'].unique():\n",
    "        fig.add_trace(go.Bar(x=df[df['Group'] == group]['Year'], \n",
    "                             y=df[df['Group'] == group]['Enrollment'], \n",
    "                             name=group,\n",
    "                             visible=(sponsor == sorted_sponsors[0])))\n",
    "    buttons.append(dict(method='update',\n",
    "                        label=sponsor,\n",
    "                        args=[{'visible': [sponsor == s for s in sorted_sponsors]}]))\n",
    "\n",
    "# Calculate the minimum start date and the maximum completion date\n",
    "min_start_date = bar_df['Year'].min()\n",
    "max_completion_date = bar_df['Completion Year'].max()\n",
    "\n",
    "# Calculate the range of years\n",
    "years = list(range(min_start_date, max_completion_date + 1))\n",
    "\n",
    "fig.update_layout(\n",
    "    title=\"Enrollment of Competitor Trials by Year\",\n",
    "    xaxis_title=\"Year\",\n",
    "    yaxis_title=\"Enrollment\",\n",
    "    xaxis=dict(\n",
    "        range=[min_start_date, max_completion_date],  # Set the range for the x-axis\n",
    "        tickvals=years,  # Set the tick values to the list of years\n",
    "        ticktext=years  # Set the tick labels to the list of years\n",
    "    ),\n",
    "    updatemenus=[\n",
    "        dict(\n",
    "            buttons=buttons,\n",
    "            direction=\"down\",\n",
    "            pad={\"r\": 10, \"t\": 10},\n",
    "            showactive=True,\n",
    "            x=0.1,\n",
    "            xanchor=\"left\",\n",
    "            y=1.2,  # Increase this value to move the dropdown menu higher\n",
    "            yanchor=\"top\"\n",
    "        ),\n",
    "    ],\n",
    "    barmode='stack'\n",
    ")\n",
    "\n",
    "fig.show()"
   ]
  },
  {
   "cell_type": "markdown",
   "metadata": {},
   "source": [
    "### Show geographical distribution of competitor trials"
   ]
  },
  {
   "cell_type": "code",
   "execution_count": 258,
   "metadata": {},
   "outputs": [],
   "source": [
    "import pandas as pd\n",
    "from datetime import datetime, timedelta\n",
    "from src.api_client.client import ClinicalTrials\n",
    "import plotly.graph_objects as go\n",
    "import pycountry\n",
    "\n",
    "ct = ClinicalTrials()\n",
    "\n",
    "# Calculate the start date (five years ago)\n",
    "start_date = (datetime.now() - timedelta(days=5*365)).strftime('%Y-%m-%d')\n",
    "today = datetime.now().strftime('%Y-%m-%d')\n",
    "\n",
    "# Get the NCTId and LocationCountry fields\n",
    "geographic_locations = ct.get_study_fields(\n",
    "    search_expr=f\"AREA[StartDate]RANGE[{start_date}, {today}]\",\n",
    "    fields=[\"NCTId\",\"LocationCountry\"],\n",
    "    max_studies=500000,\n",
    "    fmt=\"json\",\n",
    ")\n",
    "\n",
    "# Extract data\n",
    "geo_data_list = [{'NCT Number': row['protocolSection']['identificationModule']['nctId'], 'Country': location['country']} for row in geographic_locations for location in row['protocolSection']['contactsLocationsModule']['locations'] if 'nctId' in row['protocolSection']['identificationModule'] and 'locations' in row['protocolSection']['contactsLocationsModule']]\n",
    "geo_df = pd.DataFrame(geo_data_list).merge(competitor_trials_df, on='NCT Number', how='inner')\n",
    "\n",
    "# Convert country name to country code\n",
    "geo_df['Country Code'] = geo_df['Country'].apply(lambda country_name: pycountry.countries.lookup(country_name).alpha_3 if pycountry.countries.lookup(country_name) else None)\n",
    "\n",
    "# Create a new DataFrame with the count of 'NCT Number' for each country and each sponsor\n",
    "count_df = geo_df.groupby(['Country Code', 'Sponsor']).size().reset_index(name='Count')\n",
    "\n",
    "# Create a base Choropleth map that will be updated based on the dropdown selection\n",
    "fig = go.Figure()\n",
    "\n",
    "# Create a dropdown menu\n",
    "dropdown = [{'label': sponsor, 'method': 'update', 'args': [{'visible': [sponsor == s for s in count_df['Sponsor'].unique()]}]} for sponsor in count_df['Sponsor'].unique()]\n",
    "\n",
    "# Add one trace for each sponsor\n",
    "for sponsor in count_df['Sponsor'].unique():\n",
    "    fig.add_trace(\n",
    "        go.Choropleth(\n",
    "            locations=count_df.loc[count_df['Sponsor'] == sponsor, 'Country Code'],\n",
    "            z=count_df.loc[count_df['Sponsor'] == sponsor, 'Count'],\n",
    "            name=sponsor,\n",
    "            visible=(sponsor == count_df['Sponsor'].unique()[0]),  # Only the first trace is visible\n",
    "            colorscale='Blues'  # Change color gradient to light blue to dark\n",
    "        )\n",
    "    )\n",
    "\n",
    "# Update the layout\n",
    "fig.update_layout(\n",
    "    updatemenus=[\n",
    "        go.layout.Updatemenu(\n",
    "            buttons=dropdown,\n",
    "            direction=\"down\",\n",
    "            pad={\"r\": 10, \"t\": 10},\n",
    "            showactive=True,\n",
    "            x=0.09,\n",
    "            xanchor=\"left\",\n",
    "            y=1.01,  # Adjust this value to move the dropdown up or down\n",
    "            yanchor=\"bottom\"  # Anchor the dropdown to the bottom of the y position\n",
    "        ),\n",
    "    ]\n",
    ")\n",
    "\n",
    "fig.show()"
   ]
  }
 ],
 "metadata": {
  "kernelspec": {
   "display_name": ".venv",
   "language": "python",
   "name": "python3"
  },
  "language_info": {
   "codemirror_mode": {
    "name": "ipython",
    "version": 3
   },
   "file_extension": ".py",
   "mimetype": "text/x-python",
   "name": "python",
   "nbconvert_exporter": "python",
   "pygments_lexer": "ipython3",
   "version": "3.9.6"
  }
 },
 "nbformat": 4,
 "nbformat_minor": 2
}
