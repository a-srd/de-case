{
 "cells": [
  {
   "cell_type": "code",
   "execution_count": 1,
   "metadata": {},
   "outputs": [
    {
     "name": "stderr",
     "output_type": "stream",
     "text": [
      "/Users/anthonyrajecki-doyle/Documents/GitHub/de-case/.venv/lib/python3.9/site-packages/urllib3/__init__.py:35: NotOpenSSLWarning: urllib3 v2 only supports OpenSSL 1.1.1+, currently the 'ssl' module is compiled with 'LibreSSL 2.8.3'. See: https://github.com/urllib3/urllib3/issues/3020\n",
      "  warnings.warn(\n"
     ]
    },
    {
     "data": {
      "text/html": [
       "<div>\n",
       "<style scoped>\n",
       "    .dataframe tbody tr th:only-of-type {\n",
       "        vertical-align: middle;\n",
       "    }\n",
       "\n",
       "    .dataframe tbody tr th {\n",
       "        vertical-align: top;\n",
       "    }\n",
       "\n",
       "    .dataframe thead th {\n",
       "        text-align: right;\n",
       "    }\n",
       "</style>\n",
       "<table border=\"1\" class=\"dataframe\">\n",
       "  <thead>\n",
       "    <tr style=\"text-align: right;\">\n",
       "      <th></th>\n",
       "      <th>protocolSection</th>\n",
       "      <th>derivedSection</th>\n",
       "      <th>hasResults</th>\n",
       "    </tr>\n",
       "  </thead>\n",
       "  <tbody>\n",
       "    <tr>\n",
       "      <th>0</th>\n",
       "      <td>{'identificationModule': {'nctId': 'NCT0396336...</td>\n",
       "      <td>{'miscInfoModule': {'versionHolder': '2024-05-...</td>\n",
       "      <td>False</td>\n",
       "    </tr>\n",
       "    <tr>\n",
       "      <th>1</th>\n",
       "      <td>{'identificationModule': {'nctId': 'NCT0525166...</td>\n",
       "      <td>{'miscInfoModule': {'versionHolder': '2024-05-...</td>\n",
       "      <td>False</td>\n",
       "    </tr>\n",
       "    <tr>\n",
       "      <th>2</th>\n",
       "      <td>{'identificationModule': {'nctId': 'NCT0409986...</td>\n",
       "      <td>{'miscInfoModule': {'versionHolder': '2024-05-...</td>\n",
       "      <td>False</td>\n",
       "    </tr>\n",
       "    <tr>\n",
       "      <th>3</th>\n",
       "      <td>{'identificationModule': {'nctId': 'NCT0490828...</td>\n",
       "      <td>{'miscInfoModule': {'versionHolder': '2024-05-...</td>\n",
       "      <td>False</td>\n",
       "    </tr>\n",
       "    <tr>\n",
       "      <th>4</th>\n",
       "      <td>{'identificationModule': {'nctId': 'NCT0550776...</td>\n",
       "      <td>{'miscInfoModule': {'versionHolder': '2024-05-...</td>\n",
       "      <td>False</td>\n",
       "    </tr>\n",
       "  </tbody>\n",
       "</table>\n",
       "</div>"
      ],
      "text/plain": [
       "                                     protocolSection  \\\n",
       "0  {'identificationModule': {'nctId': 'NCT0396336...   \n",
       "1  {'identificationModule': {'nctId': 'NCT0525166...   \n",
       "2  {'identificationModule': {'nctId': 'NCT0409986...   \n",
       "3  {'identificationModule': {'nctId': 'NCT0490828...   \n",
       "4  {'identificationModule': {'nctId': 'NCT0550776...   \n",
       "\n",
       "                                      derivedSection  hasResults  \n",
       "0  {'miscInfoModule': {'versionHolder': '2024-05-...       False  \n",
       "1  {'miscInfoModule': {'versionHolder': '2024-05-...       False  \n",
       "2  {'miscInfoModule': {'versionHolder': '2024-05-...       False  \n",
       "3  {'miscInfoModule': {'versionHolder': '2024-05-...       False  \n",
       "4  {'miscInfoModule': {'versionHolder': '2024-05-...       False  "
      ]
     },
     "execution_count": 1,
     "metadata": {},
     "output_type": "execute_result"
    }
   ],
   "source": [
    "import pandas as pd\n",
    "from datetime import datetime, timedelta\n",
    "from src.api_client.client import ClinicalTrials\n",
    "\n",
    "ct = ClinicalTrials()\n",
    "\n",
    "# Calculate the start date (five years ago)\n",
    "start_date = (datetime.now() - timedelta(days=5*365)).strftime('%Y-%m-%d')\n",
    "\n",
    "today = datetime.now().strftime('%Y-%m-%d')\n",
    "\n",
    "last_five_years = ct.get_full_studies(search_expr=f\"AREA[StartDate]RANGE[{start_date}, {today}]\", max_studies=500000, fmt=\"json\")\n",
    "\n",
    "df = pd.DataFrame.from_records(last_five_years[1:], columns=last_five_years[0])\n",
    "\n",
    "df.head()"
   ]
  },
  {
   "cell_type": "code",
   "execution_count": 2,
   "metadata": {},
   "outputs": [
    {
     "data": {
      "text/plain": [
       "172978"
      ]
     },
     "execution_count": 2,
     "metadata": {},
     "output_type": "execute_result"
    }
   ],
   "source": [
    "len(last_five_years)\n"
   ]
  }
 ],
 "metadata": {
  "kernelspec": {
   "display_name": ".venv",
   "language": "python",
   "name": "python3"
  },
  "language_info": {
   "codemirror_mode": {
    "name": "ipython",
    "version": 3
   },
   "file_extension": ".py",
   "mimetype": "text/x-python",
   "name": "python",
   "nbconvert_exporter": "python",
   "pygments_lexer": "ipython3",
   "version": "3.9.6"
  }
 },
 "nbformat": 4,
 "nbformat_minor": 2
}
